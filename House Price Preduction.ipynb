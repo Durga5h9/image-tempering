{
 "cells": [
  {
   "cell_type": "markdown",
   "id": "48532036",
   "metadata": {},
   "source": [
    "## IMPORTING DATA"
   ]
  },
  {
   "cell_type": "code",
   "execution_count": 139,
   "id": "5d58ca57",
   "metadata": {},
   "outputs": [],
   "source": [
    "import pandas as pd\n",
    "import matplotlib.pyplot as plt\n",
    "import seaborn as sns\n",
    "import numpy as np\n",
    "import warnings\n",
    "warnings.filterwarnings(\"ignore\")"
   ]
  },
  {
   "cell_type": "code",
   "execution_count": 140,
   "id": "6de443e9",
   "metadata": {},
   "outputs": [],
   "source": [
    "from sklearn.datasets import load_boston"
   ]
  },
  {
   "cell_type": "code",
   "execution_count": 141,
   "id": "cda0ca00",
   "metadata": {},
   "outputs": [],
   "source": [
    "from sklearn.linear_model import LinearRegression,Lasso,Ridge,LassoCV,RidgeCV\n",
    "from sklearn.model_selection import cross_val_score"
   ]
  },
  {
   "cell_type": "code",
   "execution_count": 142,
   "id": "f51f26e6",
   "metadata": {},
   "outputs": [],
   "source": [
    "df = pd.DataFrame(load_boston()['data'],columns=load_boston()['feature_names'])"
   ]
  },
  {
   "cell_type": "code",
   "execution_count": 143,
   "id": "30afe59f",
   "metadata": {},
   "outputs": [],
   "source": [
    "df['MEDV'] = load_boston()['target']"
   ]
  },
  {
   "cell_type": "code",
   "execution_count": 144,
   "id": "42c620c0",
   "metadata": {
    "scrolled": false
   },
   "outputs": [
    {
     "data": {
      "text/html": [
       "<div>\n",
       "<style scoped>\n",
       "    .dataframe tbody tr th:only-of-type {\n",
       "        vertical-align: middle;\n",
       "    }\n",
       "\n",
       "    .dataframe tbody tr th {\n",
       "        vertical-align: top;\n",
       "    }\n",
       "\n",
       "    .dataframe thead th {\n",
       "        text-align: right;\n",
       "    }\n",
       "</style>\n",
       "<table border=\"1\" class=\"dataframe\">\n",
       "  <thead>\n",
       "    <tr style=\"text-align: right;\">\n",
       "      <th></th>\n",
       "      <th>CRIM</th>\n",
       "      <th>ZN</th>\n",
       "      <th>INDUS</th>\n",
       "      <th>CHAS</th>\n",
       "      <th>NOX</th>\n",
       "      <th>RM</th>\n",
       "      <th>AGE</th>\n",
       "      <th>DIS</th>\n",
       "      <th>RAD</th>\n",
       "      <th>TAX</th>\n",
       "      <th>PTRATIO</th>\n",
       "      <th>B</th>\n",
       "      <th>LSTAT</th>\n",
       "      <th>MEDV</th>\n",
       "    </tr>\n",
       "  </thead>\n",
       "  <tbody>\n",
       "    <tr>\n",
       "      <th>0</th>\n",
       "      <td>0.00632</td>\n",
       "      <td>18.0</td>\n",
       "      <td>2.31</td>\n",
       "      <td>0.0</td>\n",
       "      <td>0.538</td>\n",
       "      <td>6.575</td>\n",
       "      <td>65.2</td>\n",
       "      <td>4.0900</td>\n",
       "      <td>1.0</td>\n",
       "      <td>296.0</td>\n",
       "      <td>15.3</td>\n",
       "      <td>396.90</td>\n",
       "      <td>4.98</td>\n",
       "      <td>24.0</td>\n",
       "    </tr>\n",
       "    <tr>\n",
       "      <th>1</th>\n",
       "      <td>0.02731</td>\n",
       "      <td>0.0</td>\n",
       "      <td>7.07</td>\n",
       "      <td>0.0</td>\n",
       "      <td>0.469</td>\n",
       "      <td>6.421</td>\n",
       "      <td>78.9</td>\n",
       "      <td>4.9671</td>\n",
       "      <td>2.0</td>\n",
       "      <td>242.0</td>\n",
       "      <td>17.8</td>\n",
       "      <td>396.90</td>\n",
       "      <td>9.14</td>\n",
       "      <td>21.6</td>\n",
       "    </tr>\n",
       "    <tr>\n",
       "      <th>2</th>\n",
       "      <td>0.02729</td>\n",
       "      <td>0.0</td>\n",
       "      <td>7.07</td>\n",
       "      <td>0.0</td>\n",
       "      <td>0.469</td>\n",
       "      <td>7.185</td>\n",
       "      <td>61.1</td>\n",
       "      <td>4.9671</td>\n",
       "      <td>2.0</td>\n",
       "      <td>242.0</td>\n",
       "      <td>17.8</td>\n",
       "      <td>392.83</td>\n",
       "      <td>4.03</td>\n",
       "      <td>34.7</td>\n",
       "    </tr>\n",
       "    <tr>\n",
       "      <th>3</th>\n",
       "      <td>0.03237</td>\n",
       "      <td>0.0</td>\n",
       "      <td>2.18</td>\n",
       "      <td>0.0</td>\n",
       "      <td>0.458</td>\n",
       "      <td>6.998</td>\n",
       "      <td>45.8</td>\n",
       "      <td>6.0622</td>\n",
       "      <td>3.0</td>\n",
       "      <td>222.0</td>\n",
       "      <td>18.7</td>\n",
       "      <td>394.63</td>\n",
       "      <td>2.94</td>\n",
       "      <td>33.4</td>\n",
       "    </tr>\n",
       "    <tr>\n",
       "      <th>4</th>\n",
       "      <td>0.06905</td>\n",
       "      <td>0.0</td>\n",
       "      <td>2.18</td>\n",
       "      <td>0.0</td>\n",
       "      <td>0.458</td>\n",
       "      <td>7.147</td>\n",
       "      <td>54.2</td>\n",
       "      <td>6.0622</td>\n",
       "      <td>3.0</td>\n",
       "      <td>222.0</td>\n",
       "      <td>18.7</td>\n",
       "      <td>396.90</td>\n",
       "      <td>5.33</td>\n",
       "      <td>36.2</td>\n",
       "    </tr>\n",
       "    <tr>\n",
       "      <th>...</th>\n",
       "      <td>...</td>\n",
       "      <td>...</td>\n",
       "      <td>...</td>\n",
       "      <td>...</td>\n",
       "      <td>...</td>\n",
       "      <td>...</td>\n",
       "      <td>...</td>\n",
       "      <td>...</td>\n",
       "      <td>...</td>\n",
       "      <td>...</td>\n",
       "      <td>...</td>\n",
       "      <td>...</td>\n",
       "      <td>...</td>\n",
       "      <td>...</td>\n",
       "    </tr>\n",
       "    <tr>\n",
       "      <th>501</th>\n",
       "      <td>0.06263</td>\n",
       "      <td>0.0</td>\n",
       "      <td>11.93</td>\n",
       "      <td>0.0</td>\n",
       "      <td>0.573</td>\n",
       "      <td>6.593</td>\n",
       "      <td>69.1</td>\n",
       "      <td>2.4786</td>\n",
       "      <td>1.0</td>\n",
       "      <td>273.0</td>\n",
       "      <td>21.0</td>\n",
       "      <td>391.99</td>\n",
       "      <td>9.67</td>\n",
       "      <td>22.4</td>\n",
       "    </tr>\n",
       "    <tr>\n",
       "      <th>502</th>\n",
       "      <td>0.04527</td>\n",
       "      <td>0.0</td>\n",
       "      <td>11.93</td>\n",
       "      <td>0.0</td>\n",
       "      <td>0.573</td>\n",
       "      <td>6.120</td>\n",
       "      <td>76.7</td>\n",
       "      <td>2.2875</td>\n",
       "      <td>1.0</td>\n",
       "      <td>273.0</td>\n",
       "      <td>21.0</td>\n",
       "      <td>396.90</td>\n",
       "      <td>9.08</td>\n",
       "      <td>20.6</td>\n",
       "    </tr>\n",
       "    <tr>\n",
       "      <th>503</th>\n",
       "      <td>0.06076</td>\n",
       "      <td>0.0</td>\n",
       "      <td>11.93</td>\n",
       "      <td>0.0</td>\n",
       "      <td>0.573</td>\n",
       "      <td>6.976</td>\n",
       "      <td>91.0</td>\n",
       "      <td>2.1675</td>\n",
       "      <td>1.0</td>\n",
       "      <td>273.0</td>\n",
       "      <td>21.0</td>\n",
       "      <td>396.90</td>\n",
       "      <td>5.64</td>\n",
       "      <td>23.9</td>\n",
       "    </tr>\n",
       "    <tr>\n",
       "      <th>504</th>\n",
       "      <td>0.10959</td>\n",
       "      <td>0.0</td>\n",
       "      <td>11.93</td>\n",
       "      <td>0.0</td>\n",
       "      <td>0.573</td>\n",
       "      <td>6.794</td>\n",
       "      <td>89.3</td>\n",
       "      <td>2.3889</td>\n",
       "      <td>1.0</td>\n",
       "      <td>273.0</td>\n",
       "      <td>21.0</td>\n",
       "      <td>393.45</td>\n",
       "      <td>6.48</td>\n",
       "      <td>22.0</td>\n",
       "    </tr>\n",
       "    <tr>\n",
       "      <th>505</th>\n",
       "      <td>0.04741</td>\n",
       "      <td>0.0</td>\n",
       "      <td>11.93</td>\n",
       "      <td>0.0</td>\n",
       "      <td>0.573</td>\n",
       "      <td>6.030</td>\n",
       "      <td>80.8</td>\n",
       "      <td>2.5050</td>\n",
       "      <td>1.0</td>\n",
       "      <td>273.0</td>\n",
       "      <td>21.0</td>\n",
       "      <td>396.90</td>\n",
       "      <td>7.88</td>\n",
       "      <td>11.9</td>\n",
       "    </tr>\n",
       "  </tbody>\n",
       "</table>\n",
       "<p>506 rows × 14 columns</p>\n",
       "</div>"
      ],
      "text/plain": [
       "        CRIM    ZN  INDUS  CHAS    NOX     RM   AGE     DIS  RAD    TAX  \\\n",
       "0    0.00632  18.0   2.31   0.0  0.538  6.575  65.2  4.0900  1.0  296.0   \n",
       "1    0.02731   0.0   7.07   0.0  0.469  6.421  78.9  4.9671  2.0  242.0   \n",
       "2    0.02729   0.0   7.07   0.0  0.469  7.185  61.1  4.9671  2.0  242.0   \n",
       "3    0.03237   0.0   2.18   0.0  0.458  6.998  45.8  6.0622  3.0  222.0   \n",
       "4    0.06905   0.0   2.18   0.0  0.458  7.147  54.2  6.0622  3.0  222.0   \n",
       "..       ...   ...    ...   ...    ...    ...   ...     ...  ...    ...   \n",
       "501  0.06263   0.0  11.93   0.0  0.573  6.593  69.1  2.4786  1.0  273.0   \n",
       "502  0.04527   0.0  11.93   0.0  0.573  6.120  76.7  2.2875  1.0  273.0   \n",
       "503  0.06076   0.0  11.93   0.0  0.573  6.976  91.0  2.1675  1.0  273.0   \n",
       "504  0.10959   0.0  11.93   0.0  0.573  6.794  89.3  2.3889  1.0  273.0   \n",
       "505  0.04741   0.0  11.93   0.0  0.573  6.030  80.8  2.5050  1.0  273.0   \n",
       "\n",
       "     PTRATIO       B  LSTAT  MEDV  \n",
       "0       15.3  396.90   4.98  24.0  \n",
       "1       17.8  396.90   9.14  21.6  \n",
       "2       17.8  392.83   4.03  34.7  \n",
       "3       18.7  394.63   2.94  33.4  \n",
       "4       18.7  396.90   5.33  36.2  \n",
       "..       ...     ...    ...   ...  \n",
       "501     21.0  391.99   9.67  22.4  \n",
       "502     21.0  396.90   9.08  20.6  \n",
       "503     21.0  396.90   5.64  23.9  \n",
       "504     21.0  393.45   6.48  22.0  \n",
       "505     21.0  396.90   7.88  11.9  \n",
       "\n",
       "[506 rows x 14 columns]"
      ]
     },
     "execution_count": 144,
     "metadata": {},
     "output_type": "execute_result"
    }
   ],
   "source": [
    "df"
   ]
  },
  {
   "cell_type": "markdown",
   "id": "0ff522cf",
   "metadata": {},
   "source": [
    "## DATASET DESCRIPTION"
   ]
  },
  {
   "cell_type": "code",
   "execution_count": 145,
   "id": "348a4500",
   "metadata": {},
   "outputs": [
    {
     "name": "stdout",
     "output_type": "stream",
     "text": [
      ".. _boston_dataset:\n",
      "\n",
      "Boston house prices dataset\n",
      "---------------------------\n",
      "\n",
      "**Data Set Characteristics:**  \n",
      "\n",
      "    :Number of Instances: 506 \n",
      "\n",
      "    :Number of Attributes: 13 numeric/categorical predictive. Median Value (attribute 14) is usually the target.\n",
      "\n",
      "    :Attribute Information (in order):\n",
      "        - CRIM     per capita crime rate by town\n",
      "        - ZN       proportion of residential land zoned for lots over 25,000 sq.ft.\n",
      "        - INDUS    proportion of non-retail business acres per town\n",
      "        - CHAS     Charles River dummy variable (= 1 if tract bounds river; 0 otherwise)\n",
      "        - NOX      nitric oxides concentration (parts per 10 million)\n",
      "        - RM       average number of rooms per dwelling\n",
      "        - AGE      proportion of owner-occupied units built prior to 1940\n",
      "        - DIS      weighted distances to five Boston employment centres\n",
      "        - RAD      index of accessibility to radial highways\n",
      "        - TAX      full-value property-tax rate per $10,000\n",
      "        - PTRATIO  pupil-teacher ratio by town\n",
      "        - B        1000(Bk - 0.63)^2 where Bk is the proportion of black people by town\n",
      "        - LSTAT    % lower status of the population\n",
      "        - MEDV     Median value of owner-occupied homes in $1000's\n",
      "\n",
      "    :Missing Attribute Values: None\n",
      "\n",
      "    :Creator: Harrison, D. and Rubinfeld, D.L.\n",
      "\n",
      "This is a copy of UCI ML housing dataset.\n",
      "https://archive.ics.uci.edu/ml/machine-learning-databases/housing/\n",
      "\n",
      "\n",
      "This dataset was taken from the StatLib library which is maintained at Carnegie Mellon University.\n",
      "\n",
      "The Boston house-price data of Harrison, D. and Rubinfeld, D.L. 'Hedonic\n",
      "prices and the demand for clean air', J. Environ. Economics & Management,\n",
      "vol.5, 81-102, 1978.   Used in Belsley, Kuh & Welsch, 'Regression diagnostics\n",
      "...', Wiley, 1980.   N.B. Various transformations are used in the table on\n",
      "pages 244-261 of the latter.\n",
      "\n",
      "The Boston house-price data has been used in many machine learning papers that address regression\n",
      "problems.   \n",
      "     \n",
      ".. topic:: References\n",
      "\n",
      "   - Belsley, Kuh & Welsch, 'Regression diagnostics: Identifying Influential Data and Sources of Collinearity', Wiley, 1980. 244-261.\n",
      "   - Quinlan,R. (1993). Combining Instance-Based and Model-Based Learning. In Proceedings on the Tenth International Conference of Machine Learning, 236-243, University of Massachusetts, Amherst. Morgan Kaufmann.\n",
      "\n"
     ]
    }
   ],
   "source": [
    "print(load_boston().DESCR)"
   ]
  },
  {
   "cell_type": "code",
   "execution_count": 146,
   "id": "940b346a",
   "metadata": {
    "scrolled": true
   },
   "outputs": [
    {
     "data": {
      "text/html": [
       "<div>\n",
       "<style scoped>\n",
       "    .dataframe tbody tr th:only-of-type {\n",
       "        vertical-align: middle;\n",
       "    }\n",
       "\n",
       "    .dataframe tbody tr th {\n",
       "        vertical-align: top;\n",
       "    }\n",
       "\n",
       "    .dataframe thead th {\n",
       "        text-align: right;\n",
       "    }\n",
       "</style>\n",
       "<table border=\"1\" class=\"dataframe\">\n",
       "  <thead>\n",
       "    <tr style=\"text-align: right;\">\n",
       "      <th></th>\n",
       "      <th>CRIM</th>\n",
       "      <th>ZN</th>\n",
       "      <th>INDUS</th>\n",
       "      <th>CHAS</th>\n",
       "      <th>NOX</th>\n",
       "      <th>RM</th>\n",
       "      <th>AGE</th>\n",
       "      <th>DIS</th>\n",
       "      <th>RAD</th>\n",
       "      <th>TAX</th>\n",
       "      <th>PTRATIO</th>\n",
       "      <th>B</th>\n",
       "      <th>LSTAT</th>\n",
       "      <th>MEDV</th>\n",
       "    </tr>\n",
       "  </thead>\n",
       "  <tbody>\n",
       "    <tr>\n",
       "      <th>count</th>\n",
       "      <td>506.000000</td>\n",
       "      <td>506.000000</td>\n",
       "      <td>506.000000</td>\n",
       "      <td>506.000000</td>\n",
       "      <td>506.000000</td>\n",
       "      <td>506.000000</td>\n",
       "      <td>506.000000</td>\n",
       "      <td>506.000000</td>\n",
       "      <td>506.000000</td>\n",
       "      <td>506.000000</td>\n",
       "      <td>506.000000</td>\n",
       "      <td>506.000000</td>\n",
       "      <td>506.000000</td>\n",
       "      <td>506.000000</td>\n",
       "    </tr>\n",
       "    <tr>\n",
       "      <th>mean</th>\n",
       "      <td>3.613524</td>\n",
       "      <td>11.363636</td>\n",
       "      <td>11.136779</td>\n",
       "      <td>0.069170</td>\n",
       "      <td>0.554695</td>\n",
       "      <td>6.284634</td>\n",
       "      <td>68.574901</td>\n",
       "      <td>3.795043</td>\n",
       "      <td>9.549407</td>\n",
       "      <td>408.237154</td>\n",
       "      <td>18.455534</td>\n",
       "      <td>356.674032</td>\n",
       "      <td>12.653063</td>\n",
       "      <td>22.532806</td>\n",
       "    </tr>\n",
       "    <tr>\n",
       "      <th>std</th>\n",
       "      <td>8.601545</td>\n",
       "      <td>23.322453</td>\n",
       "      <td>6.860353</td>\n",
       "      <td>0.253994</td>\n",
       "      <td>0.115878</td>\n",
       "      <td>0.702617</td>\n",
       "      <td>28.148861</td>\n",
       "      <td>2.105710</td>\n",
       "      <td>8.707259</td>\n",
       "      <td>168.537116</td>\n",
       "      <td>2.164946</td>\n",
       "      <td>91.294864</td>\n",
       "      <td>7.141062</td>\n",
       "      <td>9.197104</td>\n",
       "    </tr>\n",
       "    <tr>\n",
       "      <th>min</th>\n",
       "      <td>0.006320</td>\n",
       "      <td>0.000000</td>\n",
       "      <td>0.460000</td>\n",
       "      <td>0.000000</td>\n",
       "      <td>0.385000</td>\n",
       "      <td>3.561000</td>\n",
       "      <td>2.900000</td>\n",
       "      <td>1.129600</td>\n",
       "      <td>1.000000</td>\n",
       "      <td>187.000000</td>\n",
       "      <td>12.600000</td>\n",
       "      <td>0.320000</td>\n",
       "      <td>1.730000</td>\n",
       "      <td>5.000000</td>\n",
       "    </tr>\n",
       "    <tr>\n",
       "      <th>25%</th>\n",
       "      <td>0.082045</td>\n",
       "      <td>0.000000</td>\n",
       "      <td>5.190000</td>\n",
       "      <td>0.000000</td>\n",
       "      <td>0.449000</td>\n",
       "      <td>5.885500</td>\n",
       "      <td>45.025000</td>\n",
       "      <td>2.100175</td>\n",
       "      <td>4.000000</td>\n",
       "      <td>279.000000</td>\n",
       "      <td>17.400000</td>\n",
       "      <td>375.377500</td>\n",
       "      <td>6.950000</td>\n",
       "      <td>17.025000</td>\n",
       "    </tr>\n",
       "    <tr>\n",
       "      <th>50%</th>\n",
       "      <td>0.256510</td>\n",
       "      <td>0.000000</td>\n",
       "      <td>9.690000</td>\n",
       "      <td>0.000000</td>\n",
       "      <td>0.538000</td>\n",
       "      <td>6.208500</td>\n",
       "      <td>77.500000</td>\n",
       "      <td>3.207450</td>\n",
       "      <td>5.000000</td>\n",
       "      <td>330.000000</td>\n",
       "      <td>19.050000</td>\n",
       "      <td>391.440000</td>\n",
       "      <td>11.360000</td>\n",
       "      <td>21.200000</td>\n",
       "    </tr>\n",
       "    <tr>\n",
       "      <th>75%</th>\n",
       "      <td>3.677083</td>\n",
       "      <td>12.500000</td>\n",
       "      <td>18.100000</td>\n",
       "      <td>0.000000</td>\n",
       "      <td>0.624000</td>\n",
       "      <td>6.623500</td>\n",
       "      <td>94.075000</td>\n",
       "      <td>5.188425</td>\n",
       "      <td>24.000000</td>\n",
       "      <td>666.000000</td>\n",
       "      <td>20.200000</td>\n",
       "      <td>396.225000</td>\n",
       "      <td>16.955000</td>\n",
       "      <td>25.000000</td>\n",
       "    </tr>\n",
       "    <tr>\n",
       "      <th>max</th>\n",
       "      <td>88.976200</td>\n",
       "      <td>100.000000</td>\n",
       "      <td>27.740000</td>\n",
       "      <td>1.000000</td>\n",
       "      <td>0.871000</td>\n",
       "      <td>8.780000</td>\n",
       "      <td>100.000000</td>\n",
       "      <td>12.126500</td>\n",
       "      <td>24.000000</td>\n",
       "      <td>711.000000</td>\n",
       "      <td>22.000000</td>\n",
       "      <td>396.900000</td>\n",
       "      <td>37.970000</td>\n",
       "      <td>50.000000</td>\n",
       "    </tr>\n",
       "  </tbody>\n",
       "</table>\n",
       "</div>"
      ],
      "text/plain": [
       "             CRIM          ZN       INDUS        CHAS         NOX          RM  \\\n",
       "count  506.000000  506.000000  506.000000  506.000000  506.000000  506.000000   \n",
       "mean     3.613524   11.363636   11.136779    0.069170    0.554695    6.284634   \n",
       "std      8.601545   23.322453    6.860353    0.253994    0.115878    0.702617   \n",
       "min      0.006320    0.000000    0.460000    0.000000    0.385000    3.561000   \n",
       "25%      0.082045    0.000000    5.190000    0.000000    0.449000    5.885500   \n",
       "50%      0.256510    0.000000    9.690000    0.000000    0.538000    6.208500   \n",
       "75%      3.677083   12.500000   18.100000    0.000000    0.624000    6.623500   \n",
       "max     88.976200  100.000000   27.740000    1.000000    0.871000    8.780000   \n",
       "\n",
       "              AGE         DIS         RAD         TAX     PTRATIO           B  \\\n",
       "count  506.000000  506.000000  506.000000  506.000000  506.000000  506.000000   \n",
       "mean    68.574901    3.795043    9.549407  408.237154   18.455534  356.674032   \n",
       "std     28.148861    2.105710    8.707259  168.537116    2.164946   91.294864   \n",
       "min      2.900000    1.129600    1.000000  187.000000   12.600000    0.320000   \n",
       "25%     45.025000    2.100175    4.000000  279.000000   17.400000  375.377500   \n",
       "50%     77.500000    3.207450    5.000000  330.000000   19.050000  391.440000   \n",
       "75%     94.075000    5.188425   24.000000  666.000000   20.200000  396.225000   \n",
       "max    100.000000   12.126500   24.000000  711.000000   22.000000  396.900000   \n",
       "\n",
       "            LSTAT        MEDV  \n",
       "count  506.000000  506.000000  \n",
       "mean    12.653063   22.532806  \n",
       "std      7.141062    9.197104  \n",
       "min      1.730000    5.000000  \n",
       "25%      6.950000   17.025000  \n",
       "50%     11.360000   21.200000  \n",
       "75%     16.955000   25.000000  \n",
       "max     37.970000   50.000000  "
      ]
     },
     "execution_count": 146,
     "metadata": {},
     "output_type": "execute_result"
    }
   ],
   "source": [
    "df.describe()"
   ]
  },
  {
   "cell_type": "markdown",
   "id": "9f882060",
   "metadata": {},
   "source": [
    "#### There are no missing values in the data available "
   ]
  },
  {
   "cell_type": "markdown",
   "id": "d1062608",
   "metadata": {},
   "source": [
    "## Outliers handling"
   ]
  },
  {
   "cell_type": "code",
   "execution_count": 147,
   "id": "91eb7fc5",
   "metadata": {},
   "outputs": [
    {
     "data": {
      "image/png": "[encoded data removed]",
      "text/plain": [
       "<Figure size 720x1296 with 14 Axes>"
      ]
     },
     "metadata": {
      "needs_background": "light"
     },
     "output_type": "display_data"
    }
   ],
   "source": [
    "plt.figure(figsize=(10,18))\n",
    "for i,var in enumerate(df.columns):\n",
    "    plt.subplot(7,2,i+1)\n",
    "    sns.boxplot(df[var])\n",
    "    \n",
    "plt.tight_layout()"
   ]
  },
  {
   "cell_type": "code",
   "execution_count": 148,
   "id": "5d1f1c81",
   "metadata": {},
   "outputs": [],
   "source": [
    "cols = ['ZN','RM', 'PTRATIO', 'LSTAT','DIS']"
   ]
  },
  {
   "cell_type": "code",
   "execution_count": 149,
   "id": "ed9213bc",
   "metadata": {},
   "outputs": [],
   "source": [
    "def removeoutliers(data, col):\n",
    "    Q1,Q3 = np.percentile(data[col].values,[25,75])\n",
    "    IQR = Q3 - Q1\n",
    "    \n",
    "    whisker1 = Q1 - 1.5*IQR\n",
    "    whisker2 = Q3 + 1.5*IQR\n",
    "    \n",
    "    data[col] = np.where(data[col] > whisker2, whisker2, data[col])\n",
    "    data[col] = np.where(data[col] < whisker1, whisker1, data[col])\n"
   ]
  },
  {
   "cell_type": "code",
   "execution_count": 150,
   "id": "c38d3d74",
   "metadata": {},
   "outputs": [],
   "source": [
    "for var in cols:\n",
    "    removeoutliers(df,var)"
   ]
  },
  {
   "cell_type": "code",
   "execution_count": 151,
   "id": "2ab9a836",
   "metadata": {},
   "outputs": [
    {
     "data": {
      "text/plain": [
       "<matplotlib.axes._subplots.AxesSubplot at 0x20cd740cc10>"
      ]
     },
     "execution_count": 151,
     "metadata": {},
     "output_type": "execute_result"
    },
    {
     "data": {
      "image/png": "[encoded data removed]",
      "text/plain": [
       "<Figure size 432x288 with 1 Axes>"
      ]
     },
     "metadata": {
      "needs_background": "light"
     },
     "output_type": "display_data"
    }
   ],
   "source": [
    "sns.histplot(df['B'])"
   ]
  },
  {
   "cell_type": "code",
   "execution_count": 152,
   "id": "56f740e8",
   "metadata": {},
   "outputs": [
    {
     "data": {
      "text/html": [
       "<div>\n",
       "<style scoped>\n",
       "    .dataframe tbody tr th:only-of-type {\n",
       "        vertical-align: middle;\n",
       "    }\n",
       "\n",
       "    .dataframe tbody tr th {\n",
       "        vertical-align: top;\n",
       "    }\n",
       "\n",
       "    .dataframe thead th {\n",
       "        text-align: right;\n",
       "    }\n",
       "</style>\n",
       "<table border=\"1\" class=\"dataframe\">\n",
       "  <thead>\n",
       "    <tr style=\"text-align: right;\">\n",
       "      <th></th>\n",
       "      <th>CRIM</th>\n",
       "      <th>ZN</th>\n",
       "      <th>INDUS</th>\n",
       "      <th>CHAS</th>\n",
       "      <th>NOX</th>\n",
       "      <th>RM</th>\n",
       "      <th>AGE</th>\n",
       "      <th>DIS</th>\n",
       "      <th>RAD</th>\n",
       "      <th>TAX</th>\n",
       "      <th>PTRATIO</th>\n",
       "      <th>B</th>\n",
       "      <th>LSTAT</th>\n",
       "      <th>MEDV</th>\n",
       "    </tr>\n",
       "  </thead>\n",
       "  <tbody>\n",
       "    <tr>\n",
       "      <th>0</th>\n",
       "      <td>0.00632</td>\n",
       "      <td>18.0</td>\n",
       "      <td>2.31</td>\n",
       "      <td>0.0</td>\n",
       "      <td>0.538</td>\n",
       "      <td>6.575</td>\n",
       "      <td>65.2</td>\n",
       "      <td>4.0900</td>\n",
       "      <td>1.0</td>\n",
       "      <td>296.0</td>\n",
       "      <td>15.3</td>\n",
       "      <td>396.90</td>\n",
       "      <td>4.98</td>\n",
       "      <td>24.0</td>\n",
       "    </tr>\n",
       "    <tr>\n",
       "      <th>1</th>\n",
       "      <td>0.02731</td>\n",
       "      <td>0.0</td>\n",
       "      <td>7.07</td>\n",
       "      <td>0.0</td>\n",
       "      <td>0.469</td>\n",
       "      <td>6.421</td>\n",
       "      <td>78.9</td>\n",
       "      <td>4.9671</td>\n",
       "      <td>2.0</td>\n",
       "      <td>242.0</td>\n",
       "      <td>17.8</td>\n",
       "      <td>396.90</td>\n",
       "      <td>9.14</td>\n",
       "      <td>21.6</td>\n",
       "    </tr>\n",
       "    <tr>\n",
       "      <th>2</th>\n",
       "      <td>0.02729</td>\n",
       "      <td>0.0</td>\n",
       "      <td>7.07</td>\n",
       "      <td>0.0</td>\n",
       "      <td>0.469</td>\n",
       "      <td>7.185</td>\n",
       "      <td>61.1</td>\n",
       "      <td>4.9671</td>\n",
       "      <td>2.0</td>\n",
       "      <td>242.0</td>\n",
       "      <td>17.8</td>\n",
       "      <td>392.83</td>\n",
       "      <td>4.03</td>\n",
       "      <td>34.7</td>\n",
       "    </tr>\n",
       "    <tr>\n",
       "      <th>3</th>\n",
       "      <td>0.03237</td>\n",
       "      <td>0.0</td>\n",
       "      <td>2.18</td>\n",
       "      <td>0.0</td>\n",
       "      <td>0.458</td>\n",
       "      <td>6.998</td>\n",
       "      <td>45.8</td>\n",
       "      <td>6.0622</td>\n",
       "      <td>3.0</td>\n",
       "      <td>222.0</td>\n",
       "      <td>18.7</td>\n",
       "      <td>394.63</td>\n",
       "      <td>2.94</td>\n",
       "      <td>33.4</td>\n",
       "    </tr>\n",
       "    <tr>\n",
       "      <th>4</th>\n",
       "      <td>0.06905</td>\n",
       "      <td>0.0</td>\n",
       "      <td>2.18</td>\n",
       "      <td>0.0</td>\n",
       "      <td>0.458</td>\n",
       "      <td>7.147</td>\n",
       "      <td>54.2</td>\n",
       "      <td>6.0622</td>\n",
       "      <td>3.0</td>\n",
       "      <td>222.0</td>\n",
       "      <td>18.7</td>\n",
       "      <td>396.90</td>\n",
       "      <td>5.33</td>\n",
       "      <td>36.2</td>\n",
       "    </tr>\n",
       "  </tbody>\n",
       "</table>\n",
       "</div>"
      ],
      "text/plain": [
       "      CRIM    ZN  INDUS  CHAS    NOX     RM   AGE     DIS  RAD    TAX  \\\n",
       "0  0.00632  18.0   2.31   0.0  0.538  6.575  65.2  4.0900  1.0  296.0   \n",
       "1  0.02731   0.0   7.07   0.0  0.469  6.421  78.9  4.9671  2.0  242.0   \n",
       "2  0.02729   0.0   7.07   0.0  0.469  7.185  61.1  4.9671  2.0  242.0   \n",
       "3  0.03237   0.0   2.18   0.0  0.458  6.998  45.8  6.0622  3.0  222.0   \n",
       "4  0.06905   0.0   2.18   0.0  0.458  7.147  54.2  6.0622  3.0  222.0   \n",
       "\n",
       "   PTRATIO       B  LSTAT  MEDV  \n",
       "0     15.3  396.90   4.98  24.0  \n",
       "1     17.8  396.90   9.14  21.6  \n",
       "2     17.8  392.83   4.03  34.7  \n",
       "3     18.7  394.63   2.94  33.4  \n",
       "4     18.7  396.90   5.33  36.2  "
      ]
     },
     "execution_count": 152,
     "metadata": {},
     "output_type": "execute_result"
    }
   ],
   "source": [
    "df.head()"
   ]
  },
  {
   "cell_type": "code",
   "execution_count": null,
   "id": "78aecfd1",
   "metadata": {},
   "outputs": [],
   "source": []
  },
  {
   "cell_type": "code",
   "execution_count": 153,
   "id": "2e7de1ad",
   "metadata": {},
   "outputs": [],
   "source": [
    "X = df.drop(\"MEDV\", axis = 1)\n",
    "y = df[\"MEDV\"]"
   ]
  },
  {
   "cell_type": "code",
   "execution_count": 154,
   "id": "a4787845",
   "metadata": {},
   "outputs": [],
   "source": [
    "from sklearn.model_selection import KFold\n",
    "from sklearn.preprocessing import MinMaxScaler,StandardScaler\n",
    "\n",
    "from sklearn.linear_model import LinearRegression, LassoCV, RidgeCV, ElasticNetCV\n",
    "from sklearn.tree import DecisionTreeRegressor\n",
    "from sklearn.ensemble import RandomForestRegressor, GradientBoostingRegressor\n",
    "from xgboost import XGBRegressor\n",
    "from lightgbm import LGBMRegressor\n",
    "\n",
    "from sklearn.metrics import mean_squared_error ,r2_score , mean_absolute_error"
   ]
  },
  {
   "cell_type": "code",
   "execution_count": 155,
   "id": "ac6febc4",
   "metadata": {},
   "outputs": [],
   "source": [
    "kf = KFold(n_splits=4,shuffle=True,random_state = 42)"
   ]
  },
  {
   "cell_type": "code",
   "execution_count": 156,
   "id": "b2190c57",
   "metadata": {},
   "outputs": [],
   "source": [
    "ms = StandardScaler()"
   ]
  },
  {
   "cell_type": "code",
   "execution_count": 157,
   "id": "7dc6edc3",
   "metadata": {},
   "outputs": [],
   "source": [
    "Xs = ms.fit_transform(X)"
   ]
  },
  {
   "cell_type": "code",
   "execution_count": 158,
   "id": "40a44fb1",
   "metadata": {},
   "outputs": [],
   "source": [
    "def scorer(model,X,y):\n",
    "    r2scores = []\n",
    "    maescores = []\n",
    "    msescores = []\n",
    "    rmse = []\n",
    "    scores = pd.DataFrame()\n",
    "    for train_index,test_index in kf.split(X):\n",
    "        model.fit(X[train_index],y[train_index])\n",
    "        y_pred = model.predict(X[test_index])\n",
    "        y_test = y[test_index]\n",
    "        r2scores.append(r2_score(y_test,y_pred))\n",
    "        maescores.append(mean_absolute_error(y_test,y_pred))\n",
    "        msescores.append(mean_squared_error(y_test,y_pred))\n",
    "        rmse.append(np.sqrt(mean_squared_error(y_test,y_pred)))\n",
    "        \n",
    "    scores['r2_scores'] = r2scores\n",
    "    scores['MAE_scores'] = maescores\n",
    "    scores[\"MSE_scores\"] = msescores\n",
    "    scores['RMSE'] = rmse\n",
    "        \n",
    "    return scores"
   ]
  },
  {
   "cell_type": "markdown",
   "id": "36b64e33",
   "metadata": {},
   "source": [
    "### LinearRegression"
   ]
  },
  {
   "cell_type": "code",
   "execution_count": 159,
   "id": "39d6f6c0",
   "metadata": {},
   "outputs": [],
   "source": [
    "linear_regressor = LinearRegression()"
   ]
  },
  {
   "cell_type": "code",
   "execution_count": 160,
   "id": "326600b9",
   "metadata": {},
   "outputs": [
    {
     "data": {
      "text/html": [
       "<div>\n",
       "<style scoped>\n",
       "    .dataframe tbody tr th:only-of-type {\n",
       "        vertical-align: middle;\n",
       "    }\n",
       "\n",
       "    .dataframe tbody tr th {\n",
       "        vertical-align: top;\n",
       "    }\n",
       "\n",
       "    .dataframe thead th {\n",
       "        text-align: right;\n",
       "    }\n",
       "</style>\n",
       "<table border=\"1\" class=\"dataframe\">\n",
       "  <thead>\n",
       "    <tr style=\"text-align: right;\">\n",
       "      <th></th>\n",
       "      <th>r2_scores</th>\n",
       "      <th>MAE_scores</th>\n",
       "      <th>MSE_scores</th>\n",
       "      <th>RMSE</th>\n",
       "    </tr>\n",
       "  </thead>\n",
       "  <tbody>\n",
       "    <tr>\n",
       "      <th>0</th>\n",
       "      <td>0.689009</td>\n",
       "      <td>3.134386</td>\n",
       "      <td>21.777810</td>\n",
       "      <td>4.666670</td>\n",
       "    </tr>\n",
       "    <tr>\n",
       "      <th>1</th>\n",
       "      <td>0.697460</td>\n",
       "      <td>3.763966</td>\n",
       "      <td>27.447955</td>\n",
       "      <td>5.239080</td>\n",
       "    </tr>\n",
       "    <tr>\n",
       "      <th>2</th>\n",
       "      <td>0.789897</td>\n",
       "      <td>3.662710</td>\n",
       "      <td>22.654919</td>\n",
       "      <td>4.759718</td>\n",
       "    </tr>\n",
       "    <tr>\n",
       "      <th>3</th>\n",
       "      <td>0.676600</td>\n",
       "      <td>3.277022</td>\n",
       "      <td>21.671131</td>\n",
       "      <td>4.655226</td>\n",
       "    </tr>\n",
       "  </tbody>\n",
       "</table>\n",
       "</div>"
      ],
      "text/plain": [
       "   r2_scores  MAE_scores  MSE_scores      RMSE\n",
       "0   0.689009    3.134386   21.777810  4.666670\n",
       "1   0.697460    3.763966   27.447955  5.239080\n",
       "2   0.789897    3.662710   22.654919  4.759718\n",
       "3   0.676600    3.277022   21.671131  4.655226"
      ]
     },
     "execution_count": 160,
     "metadata": {},
     "output_type": "execute_result"
    }
   ],
   "source": [
    "scorer(linear_regressor,Xs,y)"
   ]
  },
  {
   "cell_type": "code",
   "execution_count": null,
   "id": "07015eae",
   "metadata": {},
   "outputs": [],
   "source": []
  },
  {
   "cell_type": "markdown",
   "id": "6b8c6139",
   "metadata": {},
   "source": [
    "### Lasso"
   ]
  },
  {
   "cell_type": "code",
   "execution_count": 161,
   "id": "7d6d7458",
   "metadata": {},
   "outputs": [],
   "source": [
    "\n",
    "alphas2 = np.array([1e-5, 5e-5, 0.0001, 0.0005])\n",
    "\n",
    "lassoCV = LassoCV(alphas=alphas2,\n",
    "                  max_iter=5e4,\n",
    "                  cv=3)"
   ]
  },
  {
   "cell_type": "code",
   "execution_count": 162,
   "id": "75d04a10",
   "metadata": {},
   "outputs": [
    {
     "data": {
      "text/html": [
       "<div>\n",
       "<style scoped>\n",
       "    .dataframe tbody tr th:only-of-type {\n",
       "        vertical-align: middle;\n",
       "    }\n",
       "\n",
       "    .dataframe tbody tr th {\n",
       "        vertical-align: top;\n",
       "    }\n",
       "\n",
       "    .dataframe thead th {\n",
       "        text-align: right;\n",
       "    }\n",
       "</style>\n",
       "<table border=\"1\" class=\"dataframe\">\n",
       "  <thead>\n",
       "    <tr style=\"text-align: right;\">\n",
       "      <th></th>\n",
       "      <th>r2_scores</th>\n",
       "      <th>MAE_scores</th>\n",
       "      <th>MSE_scores</th>\n",
       "      <th>RMSE</th>\n",
       "    </tr>\n",
       "  </thead>\n",
       "  <tbody>\n",
       "    <tr>\n",
       "      <th>0</th>\n",
       "      <td>0.689031</td>\n",
       "      <td>3.133624</td>\n",
       "      <td>21.776265</td>\n",
       "      <td>4.666505</td>\n",
       "    </tr>\n",
       "    <tr>\n",
       "      <th>1</th>\n",
       "      <td>0.697449</td>\n",
       "      <td>3.763713</td>\n",
       "      <td>27.448920</td>\n",
       "      <td>5.239172</td>\n",
       "    </tr>\n",
       "    <tr>\n",
       "      <th>2</th>\n",
       "      <td>0.789940</td>\n",
       "      <td>3.662135</td>\n",
       "      <td>22.650274</td>\n",
       "      <td>4.759230</td>\n",
       "    </tr>\n",
       "    <tr>\n",
       "      <th>3</th>\n",
       "      <td>0.676651</td>\n",
       "      <td>3.276321</td>\n",
       "      <td>21.667729</td>\n",
       "      <td>4.654861</td>\n",
       "    </tr>\n",
       "  </tbody>\n",
       "</table>\n",
       "</div>"
      ],
      "text/plain": [
       "   r2_scores  MAE_scores  MSE_scores      RMSE\n",
       "0   0.689031    3.133624   21.776265  4.666505\n",
       "1   0.697449    3.763713   27.448920  5.239172\n",
       "2   0.789940    3.662135   22.650274  4.759230\n",
       "3   0.676651    3.276321   21.667729  4.654861"
      ]
     },
     "execution_count": 162,
     "metadata": {},
     "output_type": "execute_result"
    }
   ],
   "source": [
    "scorer(lassoCV,Xs,y)"
   ]
  },
  {
   "cell_type": "markdown",
   "id": "8360d067",
   "metadata": {},
   "source": [
    "### Ridge"
   ]
  },
  {
   "cell_type": "code",
   "execution_count": 163,
   "id": "b2455783",
   "metadata": {},
   "outputs": [],
   "source": [
    "\n",
    "alphas = [0.005, 0.05, 0.1, 0.3, 1, 3, 5, 10, 15, 30, 80]\n",
    "ridgeCV = RidgeCV(alphas=alphas, cv=4)"
   ]
  },
  {
   "cell_type": "code",
   "execution_count": 164,
   "id": "348e31e1",
   "metadata": {},
   "outputs": [
    {
     "data": {
      "text/html": [
       "<div>\n",
       "<style scoped>\n",
       "    .dataframe tbody tr th:only-of-type {\n",
       "        vertical-align: middle;\n",
       "    }\n",
       "\n",
       "    .dataframe tbody tr th {\n",
       "        vertical-align: top;\n",
       "    }\n",
       "\n",
       "    .dataframe thead th {\n",
       "        text-align: right;\n",
       "    }\n",
       "</style>\n",
       "<table border=\"1\" class=\"dataframe\">\n",
       "  <thead>\n",
       "    <tr style=\"text-align: right;\">\n",
       "      <th></th>\n",
       "      <th>r2_scores</th>\n",
       "      <th>MAE_scores</th>\n",
       "      <th>MSE_scores</th>\n",
       "      <th>RMSE</th>\n",
       "    </tr>\n",
       "  </thead>\n",
       "  <tbody>\n",
       "    <tr>\n",
       "      <th>0</th>\n",
       "      <td>0.686465</td>\n",
       "      <td>3.036904</td>\n",
       "      <td>21.955925</td>\n",
       "      <td>4.685715</td>\n",
       "    </tr>\n",
       "    <tr>\n",
       "      <th>1</th>\n",
       "      <td>0.674847</td>\n",
       "      <td>3.648463</td>\n",
       "      <td>29.499544</td>\n",
       "      <td>5.431348</td>\n",
       "    </tr>\n",
       "    <tr>\n",
       "      <th>2</th>\n",
       "      <td>0.760849</td>\n",
       "      <td>3.733980</td>\n",
       "      <td>25.787103</td>\n",
       "      <td>5.078100</td>\n",
       "    </tr>\n",
       "    <tr>\n",
       "      <th>3</th>\n",
       "      <td>0.676032</td>\n",
       "      <td>3.128767</td>\n",
       "      <td>21.709158</td>\n",
       "      <td>4.659309</td>\n",
       "    </tr>\n",
       "  </tbody>\n",
       "</table>\n",
       "</div>"
      ],
      "text/plain": [
       "   r2_scores  MAE_scores  MSE_scores      RMSE\n",
       "0   0.686465    3.036904   21.955925  4.685715\n",
       "1   0.674847    3.648463   29.499544  5.431348\n",
       "2   0.760849    3.733980   25.787103  5.078100\n",
       "3   0.676032    3.128767   21.709158  4.659309"
      ]
     },
     "execution_count": 164,
     "metadata": {},
     "output_type": "execute_result"
    }
   ],
   "source": [
    "scorer(ridgeCV, Xs, y)"
   ]
  },
  {
   "cell_type": "code",
   "execution_count": 165,
   "id": "f12b7b3d",
   "metadata": {},
   "outputs": [],
   "source": [
    "## Elastic Net\n",
    "\n",
    "l1_ratios = np.linspace(0.1, 0.9, 9)\n",
    "\n",
    "elasticNetCV = ElasticNetCV(alphas=alphas2, \n",
    "                            l1_ratio=l1_ratios,\n",
    "                            max_iter=1e4)\n"
   ]
  },
  {
   "cell_type": "code",
   "execution_count": 166,
   "id": "e49338b1",
   "metadata": {},
   "outputs": [
    {
     "data": {
      "text/html": [
       "<div>\n",
       "<style scoped>\n",
       "    .dataframe tbody tr th:only-of-type {\n",
       "        vertical-align: middle;\n",
       "    }\n",
       "\n",
       "    .dataframe tbody tr th {\n",
       "        vertical-align: top;\n",
       "    }\n",
       "\n",
       "    .dataframe thead th {\n",
       "        text-align: right;\n",
       "    }\n",
       "</style>\n",
       "<table border=\"1\" class=\"dataframe\">\n",
       "  <thead>\n",
       "    <tr style=\"text-align: right;\">\n",
       "      <th></th>\n",
       "      <th>r2_scores</th>\n",
       "      <th>MAE_scores</th>\n",
       "      <th>MSE_scores</th>\n",
       "      <th>RMSE</th>\n",
       "    </tr>\n",
       "  </thead>\n",
       "  <tbody>\n",
       "    <tr>\n",
       "      <th>0</th>\n",
       "      <td>0.689022</td>\n",
       "      <td>3.133301</td>\n",
       "      <td>21.776909</td>\n",
       "      <td>4.666574</td>\n",
       "    </tr>\n",
       "    <tr>\n",
       "      <th>1</th>\n",
       "      <td>0.697409</td>\n",
       "      <td>3.763340</td>\n",
       "      <td>27.452574</td>\n",
       "      <td>5.239520</td>\n",
       "    </tr>\n",
       "    <tr>\n",
       "      <th>2</th>\n",
       "      <td>0.789958</td>\n",
       "      <td>3.661383</td>\n",
       "      <td>22.648344</td>\n",
       "      <td>4.759028</td>\n",
       "    </tr>\n",
       "    <tr>\n",
       "      <th>3</th>\n",
       "      <td>0.676688</td>\n",
       "      <td>3.275206</td>\n",
       "      <td>21.665241</td>\n",
       "      <td>4.654594</td>\n",
       "    </tr>\n",
       "  </tbody>\n",
       "</table>\n",
       "</div>"
      ],
      "text/plain": [
       "   r2_scores  MAE_scores  MSE_scores      RMSE\n",
       "0   0.689022    3.133301   21.776909  4.666574\n",
       "1   0.697409    3.763340   27.452574  5.239520\n",
       "2   0.789958    3.661383   22.648344  4.759028\n",
       "3   0.676688    3.275206   21.665241  4.654594"
      ]
     },
     "execution_count": 166,
     "metadata": {},
     "output_type": "execute_result"
    }
   ],
   "source": [
    "scorer(elasticNetCV,Xs,y)"
   ]
  },
  {
   "cell_type": "markdown",
   "id": "eb0a1a42",
   "metadata": {},
   "source": [
    "### DecisionTreeRegressor"
   ]
  },
  {
   "cell_type": "code",
   "execution_count": 167,
   "id": "e02ad81f",
   "metadata": {},
   "outputs": [],
   "source": [
    "# dt\n",
    "dt = DecisionTreeRegressor()"
   ]
  },
  {
   "cell_type": "code",
   "execution_count": 168,
   "id": "a133b429",
   "metadata": {
    "scrolled": true
   },
   "outputs": [
    {
     "data": {
      "text/html": [
       "<div>\n",
       "<style scoped>\n",
       "    .dataframe tbody tr th:only-of-type {\n",
       "        vertical-align: middle;\n",
       "    }\n",
       "\n",
       "    .dataframe tbody tr th {\n",
       "        vertical-align: top;\n",
       "    }\n",
       "\n",
       "    .dataframe thead th {\n",
       "        text-align: right;\n",
       "    }\n",
       "</style>\n",
       "<table border=\"1\" class=\"dataframe\">\n",
       "  <thead>\n",
       "    <tr style=\"text-align: right;\">\n",
       "      <th></th>\n",
       "      <th>r2_scores</th>\n",
       "      <th>MAE_scores</th>\n",
       "      <th>MSE_scores</th>\n",
       "      <th>RMSE</th>\n",
       "    </tr>\n",
       "  </thead>\n",
       "  <tbody>\n",
       "    <tr>\n",
       "      <th>0</th>\n",
       "      <td>0.670939</td>\n",
       "      <td>3.104724</td>\n",
       "      <td>23.043228</td>\n",
       "      <td>4.800336</td>\n",
       "    </tr>\n",
       "    <tr>\n",
       "      <th>1</th>\n",
       "      <td>0.688928</td>\n",
       "      <td>3.110236</td>\n",
       "      <td>28.222047</td>\n",
       "      <td>5.312443</td>\n",
       "    </tr>\n",
       "    <tr>\n",
       "      <th>2</th>\n",
       "      <td>0.848536</td>\n",
       "      <td>2.946825</td>\n",
       "      <td>16.331984</td>\n",
       "      <td>4.041285</td>\n",
       "    </tr>\n",
       "    <tr>\n",
       "      <th>3</th>\n",
       "      <td>0.496513</td>\n",
       "      <td>3.594444</td>\n",
       "      <td>33.738810</td>\n",
       "      <td>5.808512</td>\n",
       "    </tr>\n",
       "  </tbody>\n",
       "</table>\n",
       "</div>"
      ],
      "text/plain": [
       "   r2_scores  MAE_scores  MSE_scores      RMSE\n",
       "0   0.670939    3.104724   23.043228  4.800336\n",
       "1   0.688928    3.110236   28.222047  5.312443\n",
       "2   0.848536    2.946825   16.331984  4.041285\n",
       "3   0.496513    3.594444   33.738810  5.808512"
      ]
     },
     "execution_count": 168,
     "metadata": {},
     "output_type": "execute_result"
    }
   ],
   "source": [
    "scorer(dt,Xs,y)"
   ]
  },
  {
   "cell_type": "markdown",
   "id": "d82c5380",
   "metadata": {},
   "source": [
    "### RandomForestRegressor"
   ]
  },
  {
   "cell_type": "code",
   "execution_count": 169,
   "id": "8bf4fc43",
   "metadata": {},
   "outputs": [],
   "source": [
    "rf = RandomForestRegressor(n_estimators=1000)"
   ]
  },
  {
   "cell_type": "code",
   "execution_count": 170,
   "id": "3b6413d8",
   "metadata": {},
   "outputs": [
    {
     "data": {
      "text/html": [
       "<div>\n",
       "<style scoped>\n",
       "    .dataframe tbody tr th:only-of-type {\n",
       "        vertical-align: middle;\n",
       "    }\n",
       "\n",
       "    .dataframe tbody tr th {\n",
       "        vertical-align: top;\n",
       "    }\n",
       "\n",
       "    .dataframe thead th {\n",
       "        text-align: right;\n",
       "    }\n",
       "</style>\n",
       "<table border=\"1\" class=\"dataframe\">\n",
       "  <thead>\n",
       "    <tr style=\"text-align: right;\">\n",
       "      <th></th>\n",
       "      <th>r2_scores</th>\n",
       "      <th>MAE_scores</th>\n",
       "      <th>MSE_scores</th>\n",
       "      <th>RMSE</th>\n",
       "    </tr>\n",
       "  </thead>\n",
       "  <tbody>\n",
       "    <tr>\n",
       "      <th>0</th>\n",
       "      <td>0.855770</td>\n",
       "      <td>2.130653</td>\n",
       "      <td>10.100038</td>\n",
       "      <td>3.178056</td>\n",
       "    </tr>\n",
       "    <tr>\n",
       "      <th>1</th>\n",
       "      <td>0.836215</td>\n",
       "      <td>2.283090</td>\n",
       "      <td>14.859437</td>\n",
       "      <td>3.854794</td>\n",
       "    </tr>\n",
       "    <tr>\n",
       "      <th>2</th>\n",
       "      <td>0.893476</td>\n",
       "      <td>2.541178</td>\n",
       "      <td>11.486247</td>\n",
       "      <td>3.389137</td>\n",
       "    </tr>\n",
       "    <tr>\n",
       "      <th>3</th>\n",
       "      <td>0.885370</td>\n",
       "      <td>2.008202</td>\n",
       "      <td>7.681380</td>\n",
       "      <td>2.771530</td>\n",
       "    </tr>\n",
       "  </tbody>\n",
       "</table>\n",
       "</div>"
      ],
      "text/plain": [
       "   r2_scores  MAE_scores  MSE_scores      RMSE\n",
       "0   0.855770    2.130653   10.100038  3.178056\n",
       "1   0.836215    2.283090   14.859437  3.854794\n",
       "2   0.893476    2.541178   11.486247  3.389137\n",
       "3   0.885370    2.008202    7.681380  2.771530"
      ]
     },
     "execution_count": 170,
     "metadata": {},
     "output_type": "execute_result"
    }
   ],
   "source": [
    "scorer(rf, Xs, y)"
   ]
  },
  {
   "cell_type": "markdown",
   "id": "a7bcb466",
   "metadata": {},
   "source": [
    "### XGBoosting"
   ]
  },
  {
   "cell_type": "code",
   "execution_count": 171,
   "id": "b3d7b509",
   "metadata": {},
   "outputs": [],
   "source": [
    "xgb = XGBRegressor()"
   ]
  },
  {
   "cell_type": "code",
   "execution_count": 172,
   "id": "5c003e1c",
   "metadata": {},
   "outputs": [
    {
     "data": {
      "text/html": [
       "<div>\n",
       "<style scoped>\n",
       "    .dataframe tbody tr th:only-of-type {\n",
       "        vertical-align: middle;\n",
       "    }\n",
       "\n",
       "    .dataframe tbody tr th {\n",
       "        vertical-align: top;\n",
       "    }\n",
       "\n",
       "    .dataframe thead th {\n",
       "        text-align: right;\n",
       "    }\n",
       "</style>\n",
       "<table border=\"1\" class=\"dataframe\">\n",
       "  <thead>\n",
       "    <tr style=\"text-align: right;\">\n",
       "      <th></th>\n",
       "      <th>r2_scores</th>\n",
       "      <th>MAE_scores</th>\n",
       "      <th>MSE_scores</th>\n",
       "      <th>RMSE</th>\n",
       "    </tr>\n",
       "  </thead>\n",
       "  <tbody>\n",
       "    <tr>\n",
       "      <th>0</th>\n",
       "      <td>0.849209</td>\n",
       "      <td>2.150728</td>\n",
       "      <td>10.559482</td>\n",
       "      <td>3.249536</td>\n",
       "    </tr>\n",
       "    <tr>\n",
       "      <th>1</th>\n",
       "      <td>0.848902</td>\n",
       "      <td>2.419387</td>\n",
       "      <td>13.708366</td>\n",
       "      <td>3.702481</td>\n",
       "    </tr>\n",
       "    <tr>\n",
       "      <th>2</th>\n",
       "      <td>0.908317</td>\n",
       "      <td>2.339099</td>\n",
       "      <td>9.885956</td>\n",
       "      <td>3.144194</td>\n",
       "    </tr>\n",
       "    <tr>\n",
       "      <th>3</th>\n",
       "      <td>0.895622</td>\n",
       "      <td>1.973333</td>\n",
       "      <td>6.994423</td>\n",
       "      <td>2.644697</td>\n",
       "    </tr>\n",
       "  </tbody>\n",
       "</table>\n",
       "</div>"
      ],
      "text/plain": [
       "   r2_scores  MAE_scores  MSE_scores      RMSE\n",
       "0   0.849209    2.150728   10.559482  3.249536\n",
       "1   0.848902    2.419387   13.708366  3.702481\n",
       "2   0.908317    2.339099    9.885956  3.144194\n",
       "3   0.895622    1.973333    6.994423  2.644697"
      ]
     },
     "execution_count": 172,
     "metadata": {},
     "output_type": "execute_result"
    }
   ],
   "source": [
    "scorer(xgb,Xs,y)"
   ]
  },
  {
   "cell_type": "markdown",
   "id": "237db4d3",
   "metadata": {},
   "source": [
    "### GradientBoostingRegressor"
   ]
  },
  {
   "cell_type": "code",
   "execution_count": 173,
   "id": "e44e6127",
   "metadata": {},
   "outputs": [
    {
     "data": {
      "text/html": [
       "<div>\n",
       "<style scoped>\n",
       "    .dataframe tbody tr th:only-of-type {\n",
       "        vertical-align: middle;\n",
       "    }\n",
       "\n",
       "    .dataframe tbody tr th {\n",
       "        vertical-align: top;\n",
       "    }\n",
       "\n",
       "    .dataframe thead th {\n",
       "        text-align: right;\n",
       "    }\n",
       "</style>\n",
       "<table border=\"1\" class=\"dataframe\">\n",
       "  <thead>\n",
       "    <tr style=\"text-align: right;\">\n",
       "      <th></th>\n",
       "      <th>r2_scores</th>\n",
       "      <th>MAE_scores</th>\n",
       "      <th>MSE_scores</th>\n",
       "      <th>RMSE</th>\n",
       "    </tr>\n",
       "  </thead>\n",
       "  <tbody>\n",
       "    <tr>\n",
       "      <th>0</th>\n",
       "      <td>0.891338</td>\n",
       "      <td>1.974847</td>\n",
       "      <td>7.609311</td>\n",
       "      <td>2.758498</td>\n",
       "    </tr>\n",
       "    <tr>\n",
       "      <th>1</th>\n",
       "      <td>0.888197</td>\n",
       "      <td>2.113941</td>\n",
       "      <td>10.143289</td>\n",
       "      <td>3.184853</td>\n",
       "    </tr>\n",
       "    <tr>\n",
       "      <th>2</th>\n",
       "      <td>0.896551</td>\n",
       "      <td>2.368616</td>\n",
       "      <td>11.154631</td>\n",
       "      <td>3.339855</td>\n",
       "    </tr>\n",
       "    <tr>\n",
       "      <th>3</th>\n",
       "      <td>0.901344</td>\n",
       "      <td>1.863423</td>\n",
       "      <td>6.610949</td>\n",
       "      <td>2.571177</td>\n",
       "    </tr>\n",
       "  </tbody>\n",
       "</table>\n",
       "</div>"
      ],
      "text/plain": [
       "   r2_scores  MAE_scores  MSE_scores      RMSE\n",
       "0   0.891338    1.974847    7.609311  2.758498\n",
       "1   0.888197    2.113941   10.143289  3.184853\n",
       "2   0.896551    2.368616   11.154631  3.339855\n",
       "3   0.901344    1.863423    6.610949  2.571177"
      ]
     },
     "execution_count": 173,
     "metadata": {},
     "output_type": "execute_result"
    }
   ],
   "source": [
    "gb = GradientBoostingRegressor(random_state=3,n_estimators=1000)\n",
    "scorer(gb,Xs,y)"
   ]
  },
  {
   "cell_type": "markdown",
   "id": "e6706acf",
   "metadata": {},
   "source": [
    "### Light GBM"
   ]
  },
  {
   "cell_type": "code",
   "execution_count": 174,
   "id": "de1fce6c",
   "metadata": {},
   "outputs": [
    {
     "data": {
      "text/html": [
       "<div>\n",
       "<style scoped>\n",
       "    .dataframe tbody tr th:only-of-type {\n",
       "        vertical-align: middle;\n",
       "    }\n",
       "\n",
       "    .dataframe tbody tr th {\n",
       "        vertical-align: top;\n",
       "    }\n",
       "\n",
       "    .dataframe thead th {\n",
       "        text-align: right;\n",
       "    }\n",
       "</style>\n",
       "<table border=\"1\" class=\"dataframe\">\n",
       "  <thead>\n",
       "    <tr style=\"text-align: right;\">\n",
       "      <th></th>\n",
       "      <th>r2_scores</th>\n",
       "      <th>MAE_scores</th>\n",
       "      <th>MSE_scores</th>\n",
       "      <th>RMSE</th>\n",
       "    </tr>\n",
       "  </thead>\n",
       "  <tbody>\n",
       "    <tr>\n",
       "      <th>0</th>\n",
       "      <td>0.841616</td>\n",
       "      <td>2.126300</td>\n",
       "      <td>11.091161</td>\n",
       "      <td>3.330339</td>\n",
       "    </tr>\n",
       "    <tr>\n",
       "      <th>1</th>\n",
       "      <td>0.864369</td>\n",
       "      <td>2.308921</td>\n",
       "      <td>12.305109</td>\n",
       "      <td>3.507864</td>\n",
       "    </tr>\n",
       "    <tr>\n",
       "      <th>2</th>\n",
       "      <td>0.894086</td>\n",
       "      <td>2.424553</td>\n",
       "      <td>11.420462</td>\n",
       "      <td>3.379417</td>\n",
       "    </tr>\n",
       "    <tr>\n",
       "      <th>3</th>\n",
       "      <td>0.825434</td>\n",
       "      <td>2.090285</td>\n",
       "      <td>11.697742</td>\n",
       "      <td>3.420196</td>\n",
       "    </tr>\n",
       "  </tbody>\n",
       "</table>\n",
       "</div>"
      ],
      "text/plain": [
       "   r2_scores  MAE_scores  MSE_scores      RMSE\n",
       "0   0.841616    2.126300   11.091161  3.330339\n",
       "1   0.864369    2.308921   12.305109  3.507864\n",
       "2   0.894086    2.424553   11.420462  3.379417\n",
       "3   0.825434    2.090285   11.697742  3.420196"
      ]
     },
     "execution_count": 174,
     "metadata": {},
     "output_type": "execute_result"
    }
   ],
   "source": [
    "lgb = LGBMRegressor()\n",
    "\n",
    "scorer(lgb,Xs,y)"
   ]
  },
  {
   "cell_type": "code",
   "execution_count": null,
   "id": "6371f8eb",
   "metadata": {},
   "outputs": [],
   "source": []
  },
  {
   "cell_type": "markdown",
   "id": "c100a358",
   "metadata": {},
   "source": [
    "## FEATURE ENGINEERING"
   ]
  },
  {
   "cell_type": "code",
   "execution_count": 187,
   "id": "b32a723f",
   "metadata": {},
   "outputs": [],
   "source": [
    "ds = df.copy()"
   ]
  },
  {
   "cell_type": "code",
   "execution_count": 188,
   "id": "0e4bf0ed",
   "metadata": {},
   "outputs": [],
   "source": [
    "df1 = df.copy()"
   ]
  },
  {
   "cell_type": "code",
   "execution_count": 189,
   "id": "b99be5a9",
   "metadata": {},
   "outputs": [],
   "source": [
    "groups = [1, 2, 3]\n",
    "ranges = [0.0, 4.0, 20.0, 100.0]\n",
    "\n",
    "df1[\"CRIM_grp\"] = pd.cut(df1[\"CRIM\"], bins = ranges, labels = groups)"
   ]
  },
  {
   "cell_type": "code",
   "execution_count": 190,
   "id": "d581407d",
   "metadata": {},
   "outputs": [
    {
     "data": {
      "text/html": [
       "<div>\n",
       "<style scoped>\n",
       "    .dataframe tbody tr th:only-of-type {\n",
       "        vertical-align: middle;\n",
       "    }\n",
       "\n",
       "    .dataframe tbody tr th {\n",
       "        vertical-align: top;\n",
       "    }\n",
       "\n",
       "    .dataframe thead th {\n",
       "        text-align: right;\n",
       "    }\n",
       "</style>\n",
       "<table border=\"1\" class=\"dataframe\">\n",
       "  <thead>\n",
       "    <tr style=\"text-align: right;\">\n",
       "      <th></th>\n",
       "      <th>CRIM</th>\n",
       "      <th>ZN</th>\n",
       "      <th>INDUS</th>\n",
       "      <th>CHAS</th>\n",
       "      <th>NOX</th>\n",
       "      <th>RM</th>\n",
       "      <th>AGE</th>\n",
       "      <th>DIS</th>\n",
       "      <th>RAD</th>\n",
       "      <th>TAX</th>\n",
       "      <th>PTRATIO</th>\n",
       "      <th>B</th>\n",
       "      <th>LSTAT</th>\n",
       "      <th>MEDV</th>\n",
       "      <th>CRIM_grp</th>\n",
       "    </tr>\n",
       "  </thead>\n",
       "  <tbody>\n",
       "    <tr>\n",
       "      <th>0</th>\n",
       "      <td>0.00632</td>\n",
       "      <td>18.0</td>\n",
       "      <td>2.31</td>\n",
       "      <td>0.0</td>\n",
       "      <td>0.538</td>\n",
       "      <td>6.575</td>\n",
       "      <td>65.2</td>\n",
       "      <td>4.0900</td>\n",
       "      <td>1.0</td>\n",
       "      <td>296.0</td>\n",
       "      <td>15.3</td>\n",
       "      <td>396.90</td>\n",
       "      <td>4.98</td>\n",
       "      <td>24.0</td>\n",
       "      <td>1</td>\n",
       "    </tr>\n",
       "    <tr>\n",
       "      <th>1</th>\n",
       "      <td>0.02731</td>\n",
       "      <td>0.0</td>\n",
       "      <td>7.07</td>\n",
       "      <td>0.0</td>\n",
       "      <td>0.469</td>\n",
       "      <td>6.421</td>\n",
       "      <td>78.9</td>\n",
       "      <td>4.9671</td>\n",
       "      <td>2.0</td>\n",
       "      <td>242.0</td>\n",
       "      <td>17.8</td>\n",
       "      <td>396.90</td>\n",
       "      <td>9.14</td>\n",
       "      <td>21.6</td>\n",
       "      <td>1</td>\n",
       "    </tr>\n",
       "    <tr>\n",
       "      <th>2</th>\n",
       "      <td>0.02729</td>\n",
       "      <td>0.0</td>\n",
       "      <td>7.07</td>\n",
       "      <td>0.0</td>\n",
       "      <td>0.469</td>\n",
       "      <td>7.185</td>\n",
       "      <td>61.1</td>\n",
       "      <td>4.9671</td>\n",
       "      <td>2.0</td>\n",
       "      <td>242.0</td>\n",
       "      <td>17.8</td>\n",
       "      <td>392.83</td>\n",
       "      <td>4.03</td>\n",
       "      <td>34.7</td>\n",
       "      <td>1</td>\n",
       "    </tr>\n",
       "    <tr>\n",
       "      <th>3</th>\n",
       "      <td>0.03237</td>\n",
       "      <td>0.0</td>\n",
       "      <td>2.18</td>\n",
       "      <td>0.0</td>\n",
       "      <td>0.458</td>\n",
       "      <td>6.998</td>\n",
       "      <td>45.8</td>\n",
       "      <td>6.0622</td>\n",
       "      <td>3.0</td>\n",
       "      <td>222.0</td>\n",
       "      <td>18.7</td>\n",
       "      <td>394.63</td>\n",
       "      <td>2.94</td>\n",
       "      <td>33.4</td>\n",
       "      <td>1</td>\n",
       "    </tr>\n",
       "    <tr>\n",
       "      <th>4</th>\n",
       "      <td>0.06905</td>\n",
       "      <td>0.0</td>\n",
       "      <td>2.18</td>\n",
       "      <td>0.0</td>\n",
       "      <td>0.458</td>\n",
       "      <td>7.147</td>\n",
       "      <td>54.2</td>\n",
       "      <td>6.0622</td>\n",
       "      <td>3.0</td>\n",
       "      <td>222.0</td>\n",
       "      <td>18.7</td>\n",
       "      <td>396.90</td>\n",
       "      <td>5.33</td>\n",
       "      <td>36.2</td>\n",
       "      <td>1</td>\n",
       "    </tr>\n",
       "  </tbody>\n",
       "</table>\n",
       "</div>"
      ],
      "text/plain": [
       "      CRIM    ZN  INDUS  CHAS    NOX     RM   AGE     DIS  RAD    TAX  \\\n",
       "0  0.00632  18.0   2.31   0.0  0.538  6.575  65.2  4.0900  1.0  296.0   \n",
       "1  0.02731   0.0   7.07   0.0  0.469  6.421  78.9  4.9671  2.0  242.0   \n",
       "2  0.02729   0.0   7.07   0.0  0.469  7.185  61.1  4.9671  2.0  242.0   \n",
       "3  0.03237   0.0   2.18   0.0  0.458  6.998  45.8  6.0622  3.0  222.0   \n",
       "4  0.06905   0.0   2.18   0.0  0.458  7.147  54.2  6.0622  3.0  222.0   \n",
       "\n",
       "   PTRATIO       B  LSTAT  MEDV CRIM_grp  \n",
       "0     15.3  396.90   4.98  24.0        1  \n",
       "1     17.8  396.90   9.14  21.6        1  \n",
       "2     17.8  392.83   4.03  34.7        1  \n",
       "3     18.7  394.63   2.94  33.4        1  \n",
       "4     18.7  396.90   5.33  36.2        1  "
      ]
     },
     "execution_count": 190,
     "metadata": {},
     "output_type": "execute_result"
    }
   ],
   "source": [
    "df1.head()"
   ]
  },
  {
   "cell_type": "code",
   "execution_count": 191,
   "id": "82c978f0",
   "metadata": {},
   "outputs": [
    {
     "data": {
      "text/plain": [
       "<matplotlib.axes._subplots.AxesSubplot at 0x20cd439fc10>"
      ]
     },
     "execution_count": 191,
     "metadata": {},
     "output_type": "execute_result"
    },
    {
     "data": {
      "image/png": "[encoded data removed]",
      "text/plain": [
       "<Figure size 432x288 with 1 Axes>"
      ]
     },
     "metadata": {
      "needs_background": "light"
     },
     "output_type": "display_data"
    }
   ],
   "source": [
    "sns.histplot(df1[\"ZN\"])"
   ]
  },
  {
   "cell_type": "code",
   "execution_count": 192,
   "id": "2b606e02",
   "metadata": {},
   "outputs": [
    {
     "data": {
      "text/plain": [
       "<matplotlib.axes._subplots.AxesSubplot at 0x20cd421e250>"
      ]
     },
     "execution_count": 192,
     "metadata": {},
     "output_type": "execute_result"
    },
    {
     "data": {
      "image/png": "[encoded data removed]",
      "text/plain": [
       "<Figure size 432x288 with 1 Axes>"
      ]
     },
     "metadata": {
      "needs_background": "light"
     },
     "output_type": "display_data"
    }
   ],
   "source": [
    "sns.distplot(df1[\"NOX\"], bins = 20)"
   ]
  },
  {
   "cell_type": "code",
   "execution_count": 193,
   "id": "a33267ff",
   "metadata": {},
   "outputs": [
    {
     "data": {
      "text/plain": [
       "<matplotlib.axes._subplots.AxesSubplot at 0x20cd3d31040>"
      ]
     },
     "execution_count": 193,
     "metadata": {},
     "output_type": "execute_result"
    },
    {
     "data": {
      "image/png": "[encoded data removed]",
      "text/plain": [
       "<Figure size 432x288 with 1 Axes>"
      ]
     },
     "metadata": {
      "needs_background": "light"
     },
     "output_type": "display_data"
    }
   ],
   "source": [
    "sns.scatterplot(df1[\"AGE\"], df1[\"MEDV\"])"
   ]
  },
  {
   "cell_type": "code",
   "execution_count": 194,
   "id": "ee54f6f0",
   "metadata": {},
   "outputs": [],
   "source": [
    "# 1 --> New , 0 --> Old\n",
    "df1[\"House_class\"] = np.where(df1[\"AGE\"] > 60, 0, 1)"
   ]
  },
  {
   "cell_type": "code",
   "execution_count": 195,
   "id": "fb778ddc",
   "metadata": {},
   "outputs": [
    {
     "data": {
      "text/html": [
       "<div>\n",
       "<style scoped>\n",
       "    .dataframe tbody tr th:only-of-type {\n",
       "        vertical-align: middle;\n",
       "    }\n",
       "\n",
       "    .dataframe tbody tr th {\n",
       "        vertical-align: top;\n",
       "    }\n",
       "\n",
       "    .dataframe thead th {\n",
       "        text-align: right;\n",
       "    }\n",
       "</style>\n",
       "<table border=\"1\" class=\"dataframe\">\n",
       "  <thead>\n",
       "    <tr style=\"text-align: right;\">\n",
       "      <th></th>\n",
       "      <th>CRIM</th>\n",
       "      <th>ZN</th>\n",
       "      <th>INDUS</th>\n",
       "      <th>CHAS</th>\n",
       "      <th>NOX</th>\n",
       "      <th>RM</th>\n",
       "      <th>AGE</th>\n",
       "      <th>DIS</th>\n",
       "      <th>RAD</th>\n",
       "      <th>TAX</th>\n",
       "      <th>PTRATIO</th>\n",
       "      <th>B</th>\n",
       "      <th>LSTAT</th>\n",
       "      <th>MEDV</th>\n",
       "      <th>CRIM_grp</th>\n",
       "      <th>House_class</th>\n",
       "    </tr>\n",
       "  </thead>\n",
       "  <tbody>\n",
       "    <tr>\n",
       "      <th>0</th>\n",
       "      <td>0.00632</td>\n",
       "      <td>18.0</td>\n",
       "      <td>2.31</td>\n",
       "      <td>0.0</td>\n",
       "      <td>0.538</td>\n",
       "      <td>6.575</td>\n",
       "      <td>65.2</td>\n",
       "      <td>4.0900</td>\n",
       "      <td>1.0</td>\n",
       "      <td>296.0</td>\n",
       "      <td>15.3</td>\n",
       "      <td>396.90</td>\n",
       "      <td>4.98</td>\n",
       "      <td>24.0</td>\n",
       "      <td>1</td>\n",
       "      <td>0</td>\n",
       "    </tr>\n",
       "    <tr>\n",
       "      <th>1</th>\n",
       "      <td>0.02731</td>\n",
       "      <td>0.0</td>\n",
       "      <td>7.07</td>\n",
       "      <td>0.0</td>\n",
       "      <td>0.469</td>\n",
       "      <td>6.421</td>\n",
       "      <td>78.9</td>\n",
       "      <td>4.9671</td>\n",
       "      <td>2.0</td>\n",
       "      <td>242.0</td>\n",
       "      <td>17.8</td>\n",
       "      <td>396.90</td>\n",
       "      <td>9.14</td>\n",
       "      <td>21.6</td>\n",
       "      <td>1</td>\n",
       "      <td>0</td>\n",
       "    </tr>\n",
       "    <tr>\n",
       "      <th>2</th>\n",
       "      <td>0.02729</td>\n",
       "      <td>0.0</td>\n",
       "      <td>7.07</td>\n",
       "      <td>0.0</td>\n",
       "      <td>0.469</td>\n",
       "      <td>7.185</td>\n",
       "      <td>61.1</td>\n",
       "      <td>4.9671</td>\n",
       "      <td>2.0</td>\n",
       "      <td>242.0</td>\n",
       "      <td>17.8</td>\n",
       "      <td>392.83</td>\n",
       "      <td>4.03</td>\n",
       "      <td>34.7</td>\n",
       "      <td>1</td>\n",
       "      <td>0</td>\n",
       "    </tr>\n",
       "    <tr>\n",
       "      <th>3</th>\n",
       "      <td>0.03237</td>\n",
       "      <td>0.0</td>\n",
       "      <td>2.18</td>\n",
       "      <td>0.0</td>\n",
       "      <td>0.458</td>\n",
       "      <td>6.998</td>\n",
       "      <td>45.8</td>\n",
       "      <td>6.0622</td>\n",
       "      <td>3.0</td>\n",
       "      <td>222.0</td>\n",
       "      <td>18.7</td>\n",
       "      <td>394.63</td>\n",
       "      <td>2.94</td>\n",
       "      <td>33.4</td>\n",
       "      <td>1</td>\n",
       "      <td>1</td>\n",
       "    </tr>\n",
       "    <tr>\n",
       "      <th>4</th>\n",
       "      <td>0.06905</td>\n",
       "      <td>0.0</td>\n",
       "      <td>2.18</td>\n",
       "      <td>0.0</td>\n",
       "      <td>0.458</td>\n",
       "      <td>7.147</td>\n",
       "      <td>54.2</td>\n",
       "      <td>6.0622</td>\n",
       "      <td>3.0</td>\n",
       "      <td>222.0</td>\n",
       "      <td>18.7</td>\n",
       "      <td>396.90</td>\n",
       "      <td>5.33</td>\n",
       "      <td>36.2</td>\n",
       "      <td>1</td>\n",
       "      <td>1</td>\n",
       "    </tr>\n",
       "  </tbody>\n",
       "</table>\n",
       "</div>"
      ],
      "text/plain": [
       "      CRIM    ZN  INDUS  CHAS    NOX     RM   AGE     DIS  RAD    TAX  \\\n",
       "0  0.00632  18.0   2.31   0.0  0.538  6.575  65.2  4.0900  1.0  296.0   \n",
       "1  0.02731   0.0   7.07   0.0  0.469  6.421  78.9  4.9671  2.0  242.0   \n",
       "2  0.02729   0.0   7.07   0.0  0.469  7.185  61.1  4.9671  2.0  242.0   \n",
       "3  0.03237   0.0   2.18   0.0  0.458  6.998  45.8  6.0622  3.0  222.0   \n",
       "4  0.06905   0.0   2.18   0.0  0.458  7.147  54.2  6.0622  3.0  222.0   \n",
       "\n",
       "   PTRATIO       B  LSTAT  MEDV CRIM_grp  House_class  \n",
       "0     15.3  396.90   4.98  24.0        1            0  \n",
       "1     17.8  396.90   9.14  21.6        1            0  \n",
       "2     17.8  392.83   4.03  34.7        1            0  \n",
       "3     18.7  394.63   2.94  33.4        1            1  \n",
       "4     18.7  396.90   5.33  36.2        1            1  "
      ]
     },
     "execution_count": 195,
     "metadata": {},
     "output_type": "execute_result"
    }
   ],
   "source": [
    "df1.head()"
   ]
  },
  {
   "cell_type": "code",
   "execution_count": 196,
   "id": "bf05b7f2",
   "metadata": {},
   "outputs": [
    {
     "data": {
      "text/plain": [
       "<matplotlib.axes._subplots.AxesSubplot at 0x20cd421e2b0>"
      ]
     },
     "execution_count": 196,
     "metadata": {},
     "output_type": "execute_result"
    },
    {
     "data": {
      "image/png": "[encoded data removed]",
      "text/plain": [
       "<Figure size 432x288 with 1 Axes>"
      ]
     },
     "metadata": {
      "needs_background": "light"
     },
     "output_type": "display_data"
    }
   ],
   "source": [
    "sns.histplot(df1[\"PTRATIO\"])"
   ]
  },
  {
   "cell_type": "code",
   "execution_count": 197,
   "id": "1101e4a1",
   "metadata": {},
   "outputs": [
    {
     "data": {
      "text/plain": [
       "array([15.3, 17.8, 18.7, 15.2, 21. , 19.2, 18.3, 17.9, 16.8, 21.1, 17.3,\n",
       "       15.1, 19.7, 18.6, 16.1, 18.9, 19. , 18.5, 18.2, 18. , 20.9, 19.1,\n",
       "       21.2, 14.7, 16.6, 15.6, 14.4, 13.2, 17. , 16.4, 17.4, 15.9, 17.6,\n",
       "       14.9, 13.6, 16. , 14.8, 18.4, 19.6, 16.9, 20.2, 15.5, 18.8, 22. ,\n",
       "       20.1])"
      ]
     },
     "execution_count": 197,
     "metadata": {},
     "output_type": "execute_result"
    }
   ],
   "source": [
    "df1[\"PTRATIO\"].unique()"
   ]
  },
  {
   "cell_type": "markdown",
   "id": "3b47d79b",
   "metadata": {},
   "source": [
    "## TRANSFORMATIONS"
   ]
  },
  {
   "cell_type": "code",
   "execution_count": 198,
   "id": "4d1a6679",
   "metadata": {},
   "outputs": [],
   "source": [
    "from scipy.stats import boxcox"
   ]
  },
  {
   "cell_type": "code",
   "execution_count": 199,
   "id": "c0aeb0ae",
   "metadata": {
    "scrolled": true
   },
   "outputs": [
    {
     "data": {
      "text/plain": [
       "<matplotlib.axes._subplots.AxesSubplot at 0x20cd3cf4ac0>"
      ]
     },
     "execution_count": 199,
     "metadata": {},
     "output_type": "execute_result"
    },
    {
     "data": {
      "image/png": "[encoded data removed]",
      "text/plain": [
       "<Figure size 864x288 with 2 Axes>"
      ]
     },
     "metadata": {
      "needs_background": "light"
     },
     "output_type": "display_data"
    }
   ],
   "source": [
    "plt.figure(figsize = (12, 4))\n",
    "plt.subplot(1,2,1)\n",
    "sns.histplot(df1[\"TAX\"])\n",
    "plt.subplot(1,2,2)\n",
    "sns.histplot(df1[\"RAD\"])"
   ]
  },
  {
   "cell_type": "code",
   "execution_count": null,
   "id": "ad02187b",
   "metadata": {},
   "outputs": [],
   "source": []
  },
  {
   "cell_type": "code",
   "execution_count": 200,
   "id": "a5a7996e",
   "metadata": {},
   "outputs": [],
   "source": [
    "df1 = df.copy()"
   ]
  },
  {
   "cell_type": "code",
   "execution_count": 201,
   "id": "b8262c30",
   "metadata": {},
   "outputs": [
    {
     "data": {
      "text/plain": [
       "Text(0.5, 1.0, 'RAD')"
      ]
     },
     "execution_count": 201,
     "metadata": {},
     "output_type": "execute_result"
    },
    {
     "data": {
      "image/png": "[encoded data removed]",
      "text/plain": [
       "<Figure size 864x288 with 2 Axes>"
      ]
     },
     "metadata": {
      "needs_background": "light"
     },
     "output_type": "display_data"
    }
   ],
   "source": [
    "plt.figure(figsize = (12, 4))\n",
    "plt.subplot(1,2,1)\n",
    "sns.histplot(boxcox(df1[\"TAX\"])[0])\n",
    "plt.title(\"Tax\")\n",
    "plt.subplot(1,2,2)\n",
    "sns.histplot(boxcox(df1[\"RAD\"])[0])\n",
    "plt.title(\"RAD\")"
   ]
  },
  {
   "cell_type": "code",
   "execution_count": 202,
   "id": "4ebd7eba",
   "metadata": {},
   "outputs": [],
   "source": [
    "df1[\"TAX\"],_ = boxcox(df1['TAX'])\n",
    "\n",
    "df1[\"RAD\"],_ = boxcox(df1[\"RAD\"])"
   ]
  },
  {
   "cell_type": "markdown",
   "id": "b898c70c",
   "metadata": {},
   "source": [
    "## Target Transformation"
   ]
  },
  {
   "cell_type": "code",
   "execution_count": 203,
   "id": "599ced00",
   "metadata": {},
   "outputs": [
    {
     "data": {
      "text/plain": [
       "<matplotlib.axes._subplots.AxesSubplot at 0x20cd405bca0>"
      ]
     },
     "execution_count": 203,
     "metadata": {},
     "output_type": "execute_result"
    },
    {
     "data": {
      "image/png": "[encoded data removed]",
      "text/plain": [
       "<Figure size 720x288 with 2 Axes>"
      ]
     },
     "metadata": {
      "needs_background": "light"
     },
     "output_type": "display_data"
    }
   ],
   "source": [
    "plt.figure(figsize=(10,4))\n",
    "plt.subplot(1,2,1)\n",
    "sns.distplot(df1[\"MEDV\"])\n",
    "\n",
    "plt.subplot(1,2,2)\n",
    "sns.distplot(np.sqrt(df1[\"MEDV\"]))"
   ]
  },
  {
   "cell_type": "code",
   "execution_count": 204,
   "id": "e67c69b5",
   "metadata": {},
   "outputs": [],
   "source": [
    "df1[\"MEDV\"] = np.sqrt(df1[\"MEDV\"])"
   ]
  },
  {
   "cell_type": "code",
   "execution_count": 206,
   "id": "cd176ef2",
   "metadata": {},
   "outputs": [
    {
     "data": {
      "text/html": [
       "<div>\n",
       "<style scoped>\n",
       "    .dataframe tbody tr th:only-of-type {\n",
       "        vertical-align: middle;\n",
       "    }\n",
       "\n",
       "    .dataframe tbody tr th {\n",
       "        vertical-align: top;\n",
       "    }\n",
       "\n",
       "    .dataframe thead th {\n",
       "        text-align: right;\n",
       "    }\n",
       "</style>\n",
       "<table border=\"1\" class=\"dataframe\">\n",
       "  <thead>\n",
       "    <tr style=\"text-align: right;\">\n",
       "      <th></th>\n",
       "      <th>CRIM</th>\n",
       "      <th>ZN</th>\n",
       "      <th>INDUS</th>\n",
       "      <th>CHAS</th>\n",
       "      <th>NOX</th>\n",
       "      <th>RM</th>\n",
       "      <th>AGE</th>\n",
       "      <th>DIS</th>\n",
       "      <th>RAD</th>\n",
       "      <th>TAX</th>\n",
       "      <th>PTRATIO</th>\n",
       "      <th>B</th>\n",
       "      <th>LSTAT</th>\n",
       "      <th>MEDV</th>\n",
       "    </tr>\n",
       "  </thead>\n",
       "  <tbody>\n",
       "    <tr>\n",
       "      <th>0</th>\n",
       "      <td>0.00632</td>\n",
       "      <td>18.0</td>\n",
       "      <td>2.31</td>\n",
       "      <td>0.0</td>\n",
       "      <td>0.538</td>\n",
       "      <td>6.575</td>\n",
       "      <td>65.2</td>\n",
       "      <td>4.0900</td>\n",
       "      <td>0.000000</td>\n",
       "      <td>1.807258</td>\n",
       "      <td>15.3</td>\n",
       "      <td>396.90</td>\n",
       "      <td>4.98</td>\n",
       "      <td>4.898979</td>\n",
       "    </tr>\n",
       "    <tr>\n",
       "      <th>1</th>\n",
       "      <td>0.02731</td>\n",
       "      <td>0.0</td>\n",
       "      <td>7.07</td>\n",
       "      <td>0.0</td>\n",
       "      <td>0.469</td>\n",
       "      <td>6.421</td>\n",
       "      <td>78.9</td>\n",
       "      <td>4.9671</td>\n",
       "      <td>0.660260</td>\n",
       "      <td>1.796577</td>\n",
       "      <td>17.8</td>\n",
       "      <td>396.90</td>\n",
       "      <td>9.14</td>\n",
       "      <td>4.647580</td>\n",
       "    </tr>\n",
       "    <tr>\n",
       "      <th>2</th>\n",
       "      <td>0.02729</td>\n",
       "      <td>0.0</td>\n",
       "      <td>7.07</td>\n",
       "      <td>0.0</td>\n",
       "      <td>0.469</td>\n",
       "      <td>7.185</td>\n",
       "      <td>61.1</td>\n",
       "      <td>4.9671</td>\n",
       "      <td>0.660260</td>\n",
       "      <td>1.796577</td>\n",
       "      <td>17.8</td>\n",
       "      <td>392.83</td>\n",
       "      <td>4.03</td>\n",
       "      <td>5.890671</td>\n",
       "    </tr>\n",
       "    <tr>\n",
       "      <th>3</th>\n",
       "      <td>0.03237</td>\n",
       "      <td>0.0</td>\n",
       "      <td>2.18</td>\n",
       "      <td>0.0</td>\n",
       "      <td>0.458</td>\n",
       "      <td>6.998</td>\n",
       "      <td>45.8</td>\n",
       "      <td>6.0622</td>\n",
       "      <td>1.017528</td>\n",
       "      <td>1.791645</td>\n",
       "      <td>18.7</td>\n",
       "      <td>394.63</td>\n",
       "      <td>2.94</td>\n",
       "      <td>5.779273</td>\n",
       "    </tr>\n",
       "    <tr>\n",
       "      <th>4</th>\n",
       "      <td>0.06905</td>\n",
       "      <td>0.0</td>\n",
       "      <td>2.18</td>\n",
       "      <td>0.0</td>\n",
       "      <td>0.458</td>\n",
       "      <td>7.147</td>\n",
       "      <td>54.2</td>\n",
       "      <td>6.0622</td>\n",
       "      <td>1.017528</td>\n",
       "      <td>1.791645</td>\n",
       "      <td>18.7</td>\n",
       "      <td>396.90</td>\n",
       "      <td>5.33</td>\n",
       "      <td>6.016644</td>\n",
       "    </tr>\n",
       "  </tbody>\n",
       "</table>\n",
       "</div>"
      ],
      "text/plain": [
       "      CRIM    ZN  INDUS  CHAS    NOX     RM   AGE     DIS       RAD       TAX  \\\n",
       "0  0.00632  18.0   2.31   0.0  0.538  6.575  65.2  4.0900  0.000000  1.807258   \n",
       "1  0.02731   0.0   7.07   0.0  0.469  6.421  78.9  4.9671  0.660260  1.796577   \n",
       "2  0.02729   0.0   7.07   0.0  0.469  7.185  61.1  4.9671  0.660260  1.796577   \n",
       "3  0.03237   0.0   2.18   0.0  0.458  6.998  45.8  6.0622  1.017528  1.791645   \n",
       "4  0.06905   0.0   2.18   0.0  0.458  7.147  54.2  6.0622  1.017528  1.791645   \n",
       "\n",
       "   PTRATIO       B  LSTAT      MEDV  \n",
       "0     15.3  396.90   4.98  4.898979  \n",
       "1     17.8  396.90   9.14  4.647580  \n",
       "2     17.8  392.83   4.03  5.890671  \n",
       "3     18.7  394.63   2.94  5.779273  \n",
       "4     18.7  396.90   5.33  6.016644  "
      ]
     },
     "execution_count": 206,
     "metadata": {},
     "output_type": "execute_result"
    }
   ],
   "source": [
    "df1.head()"
   ]
  },
  {
   "cell_type": "code",
   "execution_count": null,
   "id": "2626d5a1",
   "metadata": {},
   "outputs": [],
   "source": []
  },
  {
   "cell_type": "code",
   "execution_count": 207,
   "id": "3963661c",
   "metadata": {},
   "outputs": [],
   "source": [
    "skew_info = df1.skew()\n",
    "left_skew_cols = []\n",
    "right_skew_cols = []\n",
    "for col in df.columns:\n",
    "    if skew_info[col]>0.5:\n",
    "        right_skew_cols.append(col)\n",
    "    if skew_info[col]<-0.5:\n",
    "        left_skew_cols.append(col)"
   ]
  },
  {
   "cell_type": "code",
   "execution_count": 208,
   "id": "c72dced1",
   "metadata": {},
   "outputs": [
    {
     "data": {
      "text/plain": [
       "['AGE', 'PTRATIO', 'B']"
      ]
     },
     "execution_count": 208,
     "metadata": {},
     "output_type": "execute_result"
    }
   ],
   "source": [
    "left_skew_cols"
   ]
  },
  {
   "cell_type": "code",
   "execution_count": 209,
   "id": "35b41434",
   "metadata": {},
   "outputs": [
    {
     "data": {
      "text/plain": [
       "['CRIM', 'ZN', 'CHAS', 'NOX', 'DIS', 'LSTAT']"
      ]
     },
     "execution_count": 209,
     "metadata": {},
     "output_type": "execute_result"
    }
   ],
   "source": [
    "right_skew_cols"
   ]
  },
  {
   "cell_type": "markdown",
   "id": "b37137f5",
   "metadata": {},
   "source": [
    "* Still there are some columns which are skewed more than 0.5"
   ]
  },
  {
   "cell_type": "markdown",
   "id": "1d19be6d",
   "metadata": {},
   "source": [
    "## SPLITTING DATA "
   ]
  },
  {
   "cell_type": "code",
   "execution_count": 213,
   "id": "67287b2e",
   "metadata": {},
   "outputs": [],
   "source": [
    "X = df1.drop(\"MEDV\", axis = 1)\n",
    "y = df1[\"MEDV\"]"
   ]
  },
  {
   "cell_type": "code",
   "execution_count": 214,
   "id": "1a791b31",
   "metadata": {},
   "outputs": [],
   "source": [
    "ms1 = StandardScaler()"
   ]
  },
  {
   "cell_type": "code",
   "execution_count": 215,
   "id": "796ba9b0",
   "metadata": {},
   "outputs": [],
   "source": [
    "Xs1 = ms.fit_transform(X)"
   ]
  },
  {
   "cell_type": "code",
   "execution_count": 216,
   "id": "f7919816",
   "metadata": {},
   "outputs": [],
   "source": [
    "def scorer(model,X,y):\n",
    "    r2scores = []\n",
    "    maescores = []\n",
    "    msescores = []\n",
    "    rmse = []\n",
    "    scores = pd.DataFrame()\n",
    "    for train_index,test_index in kf.split(X):\n",
    "        model.fit(X[train_index],y[train_index])\n",
    "        y_pred = model.predict(X[test_index])\n",
    "        y_test = y[test_index]\n",
    "        y_test = y_test**2\n",
    "        y_pred= y_pred**2\n",
    "        r2scores.append(r2_score(y_test,y_pred))\n",
    "        maescores.append(mean_absolute_error(y_test,y_pred))\n",
    "        msescores.append(mean_squared_error(y_test,y_pred))\n",
    "        rmse.append(np.sqrt(mean_squared_error(y_test,y_pred)))\n",
    "        \n",
    "    scores['r2_scores'] = r2scores\n",
    "    scores['MAE_scores'] = maescores\n",
    "    scores[\"MSE_scores\"] = msescores\n",
    "    scores['RMSE'] = rmse\n",
    "        \n",
    "    return scores"
   ]
  },
  {
   "cell_type": "markdown",
   "id": "79990330",
   "metadata": {},
   "source": [
    "### LinearRegression"
   ]
  },
  {
   "cell_type": "code",
   "execution_count": 217,
   "id": "d0c2e0d6",
   "metadata": {},
   "outputs": [
    {
     "data": {
      "text/html": [
       "<div>\n",
       "<style scoped>\n",
       "    .dataframe tbody tr th:only-of-type {\n",
       "        vertical-align: middle;\n",
       "    }\n",
       "\n",
       "    .dataframe tbody tr th {\n",
       "        vertical-align: top;\n",
       "    }\n",
       "\n",
       "    .dataframe thead th {\n",
       "        text-align: right;\n",
       "    }\n",
       "</style>\n",
       "<table border=\"1\" class=\"dataframe\">\n",
       "  <thead>\n",
       "    <tr style=\"text-align: right;\">\n",
       "      <th></th>\n",
       "      <th>r2_scores</th>\n",
       "      <th>MAE_scores</th>\n",
       "      <th>MSE_scores</th>\n",
       "      <th>RMSE</th>\n",
       "    </tr>\n",
       "  </thead>\n",
       "  <tbody>\n",
       "    <tr>\n",
       "      <th>0</th>\n",
       "      <td>0.743851</td>\n",
       "      <td>2.818047</td>\n",
       "      <td>17.937389</td>\n",
       "      <td>4.235255</td>\n",
       "    </tr>\n",
       "    <tr>\n",
       "      <th>1</th>\n",
       "      <td>0.728162</td>\n",
       "      <td>3.427781</td>\n",
       "      <td>24.662499</td>\n",
       "      <td>4.966135</td>\n",
       "    </tr>\n",
       "    <tr>\n",
       "      <th>2</th>\n",
       "      <td>0.810127</td>\n",
       "      <td>3.316644</td>\n",
       "      <td>20.473567</td>\n",
       "      <td>4.524773</td>\n",
       "    </tr>\n",
       "    <tr>\n",
       "      <th>3</th>\n",
       "      <td>0.708785</td>\n",
       "      <td>2.991118</td>\n",
       "      <td>19.514379</td>\n",
       "      <td>4.417508</td>\n",
       "    </tr>\n",
       "  </tbody>\n",
       "</table>\n",
       "</div>"
      ],
      "text/plain": [
       "   r2_scores  MAE_scores  MSE_scores      RMSE\n",
       "0   0.743851    2.818047   17.937389  4.235255\n",
       "1   0.728162    3.427781   24.662499  4.966135\n",
       "2   0.810127    3.316644   20.473567  4.524773\n",
       "3   0.708785    2.991118   19.514379  4.417508"
      ]
     },
     "execution_count": 217,
     "metadata": {},
     "output_type": "execute_result"
    }
   ],
   "source": [
    "scorer(linear_regressor,Xs1,y)"
   ]
  },
  {
   "cell_type": "markdown",
   "id": "dda1c34f",
   "metadata": {},
   "source": [
    "### Lasso"
   ]
  },
  {
   "cell_type": "code",
   "execution_count": 218,
   "id": "07f65d36",
   "metadata": {},
   "outputs": [
    {
     "data": {
      "text/html": [
       "<div>\n",
       "<style scoped>\n",
       "    .dataframe tbody tr th:only-of-type {\n",
       "        vertical-align: middle;\n",
       "    }\n",
       "\n",
       "    .dataframe tbody tr th {\n",
       "        vertical-align: top;\n",
       "    }\n",
       "\n",
       "    .dataframe thead th {\n",
       "        text-align: right;\n",
       "    }\n",
       "</style>\n",
       "<table border=\"1\" class=\"dataframe\">\n",
       "  <thead>\n",
       "    <tr style=\"text-align: right;\">\n",
       "      <th></th>\n",
       "      <th>r2_scores</th>\n",
       "      <th>MAE_scores</th>\n",
       "      <th>MSE_scores</th>\n",
       "      <th>RMSE</th>\n",
       "    </tr>\n",
       "  </thead>\n",
       "  <tbody>\n",
       "    <tr>\n",
       "      <th>0</th>\n",
       "      <td>0.743835</td>\n",
       "      <td>2.811766</td>\n",
       "      <td>17.938529</td>\n",
       "      <td>4.235390</td>\n",
       "    </tr>\n",
       "    <tr>\n",
       "      <th>1</th>\n",
       "      <td>0.728194</td>\n",
       "      <td>3.424831</td>\n",
       "      <td>24.659569</td>\n",
       "      <td>4.965840</td>\n",
       "    </tr>\n",
       "    <tr>\n",
       "      <th>2</th>\n",
       "      <td>0.810442</td>\n",
       "      <td>3.314957</td>\n",
       "      <td>20.439608</td>\n",
       "      <td>4.521018</td>\n",
       "    </tr>\n",
       "    <tr>\n",
       "      <th>3</th>\n",
       "      <td>0.709077</td>\n",
       "      <td>2.986375</td>\n",
       "      <td>19.494851</td>\n",
       "      <td>4.415297</td>\n",
       "    </tr>\n",
       "  </tbody>\n",
       "</table>\n",
       "</div>"
      ],
      "text/plain": [
       "   r2_scores  MAE_scores  MSE_scores      RMSE\n",
       "0   0.743835    2.811766   17.938529  4.235390\n",
       "1   0.728194    3.424831   24.659569  4.965840\n",
       "2   0.810442    3.314957   20.439608  4.521018\n",
       "3   0.709077    2.986375   19.494851  4.415297"
      ]
     },
     "execution_count": 218,
     "metadata": {},
     "output_type": "execute_result"
    }
   ],
   "source": [
    "scorer(lassoCV,Xs1,y)"
   ]
  },
  {
   "cell_type": "markdown",
   "id": "c9a7441b",
   "metadata": {},
   "source": [
    "### Ridge"
   ]
  },
  {
   "cell_type": "code",
   "execution_count": 219,
   "id": "922b1a2a",
   "metadata": {},
   "outputs": [
    {
     "data": {
      "text/html": [
       "<div>\n",
       "<style scoped>\n",
       "    .dataframe tbody tr th:only-of-type {\n",
       "        vertical-align: middle;\n",
       "    }\n",
       "\n",
       "    .dataframe tbody tr th {\n",
       "        vertical-align: top;\n",
       "    }\n",
       "\n",
       "    .dataframe thead th {\n",
       "        text-align: right;\n",
       "    }\n",
       "</style>\n",
       "<table border=\"1\" class=\"dataframe\">\n",
       "  <thead>\n",
       "    <tr style=\"text-align: right;\">\n",
       "      <th></th>\n",
       "      <th>r2_scores</th>\n",
       "      <th>MAE_scores</th>\n",
       "      <th>MSE_scores</th>\n",
       "      <th>RMSE</th>\n",
       "    </tr>\n",
       "  </thead>\n",
       "  <tbody>\n",
       "    <tr>\n",
       "      <th>0</th>\n",
       "      <td>0.726106</td>\n",
       "      <td>2.750092</td>\n",
       "      <td>19.179984</td>\n",
       "      <td>4.379496</td>\n",
       "    </tr>\n",
       "    <tr>\n",
       "      <th>1</th>\n",
       "      <td>0.716962</td>\n",
       "      <td>3.360465</td>\n",
       "      <td>25.678612</td>\n",
       "      <td>5.067407</td>\n",
       "    </tr>\n",
       "    <tr>\n",
       "      <th>2</th>\n",
       "      <td>0.808672</td>\n",
       "      <td>3.322425</td>\n",
       "      <td>20.630472</td>\n",
       "      <td>4.542078</td>\n",
       "    </tr>\n",
       "    <tr>\n",
       "      <th>3</th>\n",
       "      <td>0.705301</td>\n",
       "      <td>2.913960</td>\n",
       "      <td>19.747830</td>\n",
       "      <td>4.443853</td>\n",
       "    </tr>\n",
       "  </tbody>\n",
       "</table>\n",
       "</div>"
      ],
      "text/plain": [
       "   r2_scores  MAE_scores  MSE_scores      RMSE\n",
       "0   0.726106    2.750092   19.179984  4.379496\n",
       "1   0.716962    3.360465   25.678612  5.067407\n",
       "2   0.808672    3.322425   20.630472  4.542078\n",
       "3   0.705301    2.913960   19.747830  4.443853"
      ]
     },
     "execution_count": 219,
     "metadata": {},
     "output_type": "execute_result"
    }
   ],
   "source": [
    "scorer(ridgeCV,Xs1,y)"
   ]
  },
  {
   "cell_type": "markdown",
   "id": "4cfd10db",
   "metadata": {},
   "source": [
    "### elasticNet"
   ]
  },
  {
   "cell_type": "code",
   "execution_count": 220,
   "id": "1a7ade91",
   "metadata": {},
   "outputs": [
    {
     "data": {
      "text/html": [
       "<div>\n",
       "<style scoped>\n",
       "    .dataframe tbody tr th:only-of-type {\n",
       "        vertical-align: middle;\n",
       "    }\n",
       "\n",
       "    .dataframe tbody tr th {\n",
       "        vertical-align: top;\n",
       "    }\n",
       "\n",
       "    .dataframe thead th {\n",
       "        text-align: right;\n",
       "    }\n",
       "</style>\n",
       "<table border=\"1\" class=\"dataframe\">\n",
       "  <thead>\n",
       "    <tr style=\"text-align: right;\">\n",
       "      <th></th>\n",
       "      <th>r2_scores</th>\n",
       "      <th>MAE_scores</th>\n",
       "      <th>MSE_scores</th>\n",
       "      <th>RMSE</th>\n",
       "    </tr>\n",
       "  </thead>\n",
       "  <tbody>\n",
       "    <tr>\n",
       "      <th>0</th>\n",
       "      <td>0.743839</td>\n",
       "      <td>2.813887</td>\n",
       "      <td>17.938235</td>\n",
       "      <td>4.235355</td>\n",
       "    </tr>\n",
       "    <tr>\n",
       "      <th>1</th>\n",
       "      <td>0.728186</td>\n",
       "      <td>3.425061</td>\n",
       "      <td>24.660358</td>\n",
       "      <td>4.965920</td>\n",
       "    </tr>\n",
       "    <tr>\n",
       "      <th>2</th>\n",
       "      <td>0.810413</td>\n",
       "      <td>3.315096</td>\n",
       "      <td>20.442702</td>\n",
       "      <td>4.521361</td>\n",
       "    </tr>\n",
       "    <tr>\n",
       "      <th>3</th>\n",
       "      <td>0.709049</td>\n",
       "      <td>2.986755</td>\n",
       "      <td>19.496710</td>\n",
       "      <td>4.415508</td>\n",
       "    </tr>\n",
       "  </tbody>\n",
       "</table>\n",
       "</div>"
      ],
      "text/plain": [
       "   r2_scores  MAE_scores  MSE_scores      RMSE\n",
       "0   0.743839    2.813887   17.938235  4.235355\n",
       "1   0.728186    3.425061   24.660358  4.965920\n",
       "2   0.810413    3.315096   20.442702  4.521361\n",
       "3   0.709049    2.986755   19.496710  4.415508"
      ]
     },
     "execution_count": 220,
     "metadata": {},
     "output_type": "execute_result"
    }
   ],
   "source": [
    "scorer(elasticNetCV,Xs1,y)"
   ]
  },
  {
   "cell_type": "markdown",
   "id": "4baf1d2d",
   "metadata": {},
   "source": [
    "#### The regression models have been improved siginficantly after transformation applied"
   ]
  },
  {
   "cell_type": "markdown",
   "id": "2f8fb12e",
   "metadata": {},
   "source": [
    "### DecisionTree"
   ]
  },
  {
   "cell_type": "code",
   "execution_count": 221,
   "id": "179e2a6d",
   "metadata": {},
   "outputs": [
    {
     "data": {
      "text/html": [
       "<div>\n",
       "<style scoped>\n",
       "    .dataframe tbody tr th:only-of-type {\n",
       "        vertical-align: middle;\n",
       "    }\n",
       "\n",
       "    .dataframe tbody tr th {\n",
       "        vertical-align: top;\n",
       "    }\n",
       "\n",
       "    .dataframe thead th {\n",
       "        text-align: right;\n",
       "    }\n",
       "</style>\n",
       "<table border=\"1\" class=\"dataframe\">\n",
       "  <thead>\n",
       "    <tr style=\"text-align: right;\">\n",
       "      <th></th>\n",
       "      <th>r2_scores</th>\n",
       "      <th>MAE_scores</th>\n",
       "      <th>MSE_scores</th>\n",
       "      <th>RMSE</th>\n",
       "    </tr>\n",
       "  </thead>\n",
       "  <tbody>\n",
       "    <tr>\n",
       "      <th>0</th>\n",
       "      <td>0.712259</td>\n",
       "      <td>2.887402</td>\n",
       "      <td>20.149685</td>\n",
       "      <td>4.488840</td>\n",
       "    </tr>\n",
       "    <tr>\n",
       "      <th>1</th>\n",
       "      <td>0.694979</td>\n",
       "      <td>3.174016</td>\n",
       "      <td>27.672992</td>\n",
       "      <td>5.260513</td>\n",
       "    </tr>\n",
       "    <tr>\n",
       "      <th>2</th>\n",
       "      <td>0.847997</td>\n",
       "      <td>2.969048</td>\n",
       "      <td>16.390079</td>\n",
       "      <td>4.048466</td>\n",
       "    </tr>\n",
       "    <tr>\n",
       "      <th>3</th>\n",
       "      <td>0.534184</td>\n",
       "      <td>3.385714</td>\n",
       "      <td>31.214444</td>\n",
       "      <td>5.586989</td>\n",
       "    </tr>\n",
       "  </tbody>\n",
       "</table>\n",
       "</div>"
      ],
      "text/plain": [
       "   r2_scores  MAE_scores  MSE_scores      RMSE\n",
       "0   0.712259    2.887402   20.149685  4.488840\n",
       "1   0.694979    3.174016   27.672992  5.260513\n",
       "2   0.847997    2.969048   16.390079  4.048466\n",
       "3   0.534184    3.385714   31.214444  5.586989"
      ]
     },
     "execution_count": 221,
     "metadata": {},
     "output_type": "execute_result"
    }
   ],
   "source": [
    "scorer(dt,Xs1,y)"
   ]
  },
  {
   "cell_type": "markdown",
   "id": "ef1ad1a2",
   "metadata": {},
   "source": [
    "### XGBoosting"
   ]
  },
  {
   "cell_type": "code",
   "execution_count": 222,
   "id": "97b2a0cb",
   "metadata": {},
   "outputs": [
    {
     "data": {
      "text/html": [
       "<div>\n",
       "<style scoped>\n",
       "    .dataframe tbody tr th:only-of-type {\n",
       "        vertical-align: middle;\n",
       "    }\n",
       "\n",
       "    .dataframe tbody tr th {\n",
       "        vertical-align: top;\n",
       "    }\n",
       "\n",
       "    .dataframe thead th {\n",
       "        text-align: right;\n",
       "    }\n",
       "</style>\n",
       "<table border=\"1\" class=\"dataframe\">\n",
       "  <thead>\n",
       "    <tr style=\"text-align: right;\">\n",
       "      <th></th>\n",
       "      <th>r2_scores</th>\n",
       "      <th>MAE_scores</th>\n",
       "      <th>MSE_scores</th>\n",
       "      <th>RMSE</th>\n",
       "    </tr>\n",
       "  </thead>\n",
       "  <tbody>\n",
       "    <tr>\n",
       "      <th>0</th>\n",
       "      <td>0.864663</td>\n",
       "      <td>2.050472</td>\n",
       "      <td>9.477274</td>\n",
       "      <td>3.078518</td>\n",
       "    </tr>\n",
       "    <tr>\n",
       "      <th>1</th>\n",
       "      <td>0.807674</td>\n",
       "      <td>2.540347</td>\n",
       "      <td>17.448822</td>\n",
       "      <td>4.177179</td>\n",
       "    </tr>\n",
       "    <tr>\n",
       "      <th>2</th>\n",
       "      <td>0.928240</td>\n",
       "      <td>2.069653</td>\n",
       "      <td>7.737707</td>\n",
       "      <td>2.781673</td>\n",
       "    </tr>\n",
       "    <tr>\n",
       "      <th>3</th>\n",
       "      <td>0.868593</td>\n",
       "      <td>2.096844</td>\n",
       "      <td>8.805604</td>\n",
       "      <td>2.967424</td>\n",
       "    </tr>\n",
       "  </tbody>\n",
       "</table>\n",
       "</div>"
      ],
      "text/plain": [
       "   r2_scores  MAE_scores  MSE_scores      RMSE\n",
       "0   0.864663    2.050472    9.477274  3.078518\n",
       "1   0.807674    2.540347   17.448822  4.177179\n",
       "2   0.928240    2.069653    7.737707  2.781673\n",
       "3   0.868593    2.096844    8.805604  2.967424"
      ]
     },
     "execution_count": 222,
     "metadata": {},
     "output_type": "execute_result"
    }
   ],
   "source": [
    "scorer(xgb,Xs1,y)"
   ]
  },
  {
   "cell_type": "markdown",
   "id": "032c12c7",
   "metadata": {},
   "source": [
    "#### XGBoosting has given 0.928 for a split and the error rate is very minimized after transformation has been applied"
   ]
  },
  {
   "cell_type": "markdown",
   "id": "11139f44",
   "metadata": {},
   "source": [
    "### RandomForestRegressor"
   ]
  },
  {
   "cell_type": "code",
   "execution_count": 223,
   "id": "64b6f7aa",
   "metadata": {},
   "outputs": [
    {
     "data": {
      "text/html": [
       "<div>\n",
       "<style scoped>\n",
       "    .dataframe tbody tr th:only-of-type {\n",
       "        vertical-align: middle;\n",
       "    }\n",
       "\n",
       "    .dataframe tbody tr th {\n",
       "        vertical-align: top;\n",
       "    }\n",
       "\n",
       "    .dataframe thead th {\n",
       "        text-align: right;\n",
       "    }\n",
       "</style>\n",
       "<table border=\"1\" class=\"dataframe\">\n",
       "  <thead>\n",
       "    <tr style=\"text-align: right;\">\n",
       "      <th></th>\n",
       "      <th>r2_scores</th>\n",
       "      <th>MAE_scores</th>\n",
       "      <th>MSE_scores</th>\n",
       "      <th>RMSE</th>\n",
       "    </tr>\n",
       "  </thead>\n",
       "  <tbody>\n",
       "    <tr>\n",
       "      <th>0</th>\n",
       "      <td>0.857404</td>\n",
       "      <td>2.106553</td>\n",
       "      <td>9.985620</td>\n",
       "      <td>3.160003</td>\n",
       "    </tr>\n",
       "    <tr>\n",
       "      <th>1</th>\n",
       "      <td>0.828119</td>\n",
       "      <td>2.313897</td>\n",
       "      <td>15.593938</td>\n",
       "      <td>3.948916</td>\n",
       "    </tr>\n",
       "    <tr>\n",
       "      <th>2</th>\n",
       "      <td>0.906612</td>\n",
       "      <td>2.411576</td>\n",
       "      <td>10.069762</td>\n",
       "      <td>3.173289</td>\n",
       "    </tr>\n",
       "    <tr>\n",
       "      <th>3</th>\n",
       "      <td>0.860871</td>\n",
       "      <td>2.171344</td>\n",
       "      <td>9.323087</td>\n",
       "      <td>3.053373</td>\n",
       "    </tr>\n",
       "  </tbody>\n",
       "</table>\n",
       "</div>"
      ],
      "text/plain": [
       "   r2_scores  MAE_scores  MSE_scores      RMSE\n",
       "0   0.857404    2.106553    9.985620  3.160003\n",
       "1   0.828119    2.313897   15.593938  3.948916\n",
       "2   0.906612    2.411576   10.069762  3.173289\n",
       "3   0.860871    2.171344    9.323087  3.053373"
      ]
     },
     "execution_count": 223,
     "metadata": {},
     "output_type": "execute_result"
    }
   ],
   "source": [
    "scorer(rf,Xs1,y)"
   ]
  },
  {
   "cell_type": "markdown",
   "id": "01b86618",
   "metadata": {},
   "source": [
    "### Gradient Boosting"
   ]
  },
  {
   "cell_type": "code",
   "execution_count": 224,
   "id": "b4d6621b",
   "metadata": {
    "scrolled": true
   },
   "outputs": [
    {
     "data": {
      "text/html": [
       "<div>\n",
       "<style scoped>\n",
       "    .dataframe tbody tr th:only-of-type {\n",
       "        vertical-align: middle;\n",
       "    }\n",
       "\n",
       "    .dataframe tbody tr th {\n",
       "        vertical-align: top;\n",
       "    }\n",
       "\n",
       "    .dataframe thead th {\n",
       "        text-align: right;\n",
       "    }\n",
       "</style>\n",
       "<table border=\"1\" class=\"dataframe\">\n",
       "  <thead>\n",
       "    <tr style=\"text-align: right;\">\n",
       "      <th></th>\n",
       "      <th>r2_scores</th>\n",
       "      <th>MAE_scores</th>\n",
       "      <th>MSE_scores</th>\n",
       "      <th>RMSE</th>\n",
       "    </tr>\n",
       "  </thead>\n",
       "  <tbody>\n",
       "    <tr>\n",
       "      <th>0</th>\n",
       "      <td>0.837518</td>\n",
       "      <td>2.247991</td>\n",
       "      <td>11.378147</td>\n",
       "      <td>3.373151</td>\n",
       "    </tr>\n",
       "    <tr>\n",
       "      <th>1</th>\n",
       "      <td>0.881424</td>\n",
       "      <td>2.126338</td>\n",
       "      <td>10.757826</td>\n",
       "      <td>3.279912</td>\n",
       "    </tr>\n",
       "    <tr>\n",
       "      <th>2</th>\n",
       "      <td>0.915220</td>\n",
       "      <td>2.215057</td>\n",
       "      <td>9.141570</td>\n",
       "      <td>3.023503</td>\n",
       "    </tr>\n",
       "    <tr>\n",
       "      <th>3</th>\n",
       "      <td>0.895277</td>\n",
       "      <td>1.932450</td>\n",
       "      <td>7.017501</td>\n",
       "      <td>2.649057</td>\n",
       "    </tr>\n",
       "  </tbody>\n",
       "</table>\n",
       "</div>"
      ],
      "text/plain": [
       "   r2_scores  MAE_scores  MSE_scores      RMSE\n",
       "0   0.837518    2.247991   11.378147  3.373151\n",
       "1   0.881424    2.126338   10.757826  3.279912\n",
       "2   0.915220    2.215057    9.141570  3.023503\n",
       "3   0.895277    1.932450    7.017501  2.649057"
      ]
     },
     "execution_count": 224,
     "metadata": {},
     "output_type": "execute_result"
    }
   ],
   "source": [
    "scorer(gb,Xs1,y)"
   ]
  },
  {
   "cell_type": "markdown",
   "id": "6cbee27b",
   "metadata": {},
   "source": [
    "#### Gradient boosting also improved by 1% after transformation applied"
   ]
  },
  {
   "cell_type": "markdown",
   "id": "c5e7ffe7",
   "metadata": {},
   "source": [
    "### Light GBM"
   ]
  },
  {
   "cell_type": "code",
   "execution_count": 227,
   "id": "4757888e",
   "metadata": {},
   "outputs": [
    {
     "data": {
      "text/html": [
       "<div>\n",
       "<style scoped>\n",
       "    .dataframe tbody tr th:only-of-type {\n",
       "        vertical-align: middle;\n",
       "    }\n",
       "\n",
       "    .dataframe tbody tr th {\n",
       "        vertical-align: top;\n",
       "    }\n",
       "\n",
       "    .dataframe thead th {\n",
       "        text-align: right;\n",
       "    }\n",
       "</style>\n",
       "<table border=\"1\" class=\"dataframe\">\n",
       "  <thead>\n",
       "    <tr style=\"text-align: right;\">\n",
       "      <th></th>\n",
       "      <th>r2_scores</th>\n",
       "      <th>MAE_scores</th>\n",
       "      <th>MSE_scores</th>\n",
       "      <th>RMSE</th>\n",
       "    </tr>\n",
       "  </thead>\n",
       "  <tbody>\n",
       "    <tr>\n",
       "      <th>0</th>\n",
       "      <td>0.854507</td>\n",
       "      <td>2.044091</td>\n",
       "      <td>10.188437</td>\n",
       "      <td>3.191933</td>\n",
       "    </tr>\n",
       "    <tr>\n",
       "      <th>1</th>\n",
       "      <td>0.878462</td>\n",
       "      <td>2.135123</td>\n",
       "      <td>11.026504</td>\n",
       "      <td>3.320618</td>\n",
       "    </tr>\n",
       "    <tr>\n",
       "      <th>2</th>\n",
       "      <td>0.911955</td>\n",
       "      <td>2.327983</td>\n",
       "      <td>9.493726</td>\n",
       "      <td>3.081189</td>\n",
       "    </tr>\n",
       "    <tr>\n",
       "      <th>3</th>\n",
       "      <td>0.826216</td>\n",
       "      <td>2.192045</td>\n",
       "      <td>11.645341</td>\n",
       "      <td>3.412527</td>\n",
       "    </tr>\n",
       "  </tbody>\n",
       "</table>\n",
       "</div>"
      ],
      "text/plain": [
       "   r2_scores  MAE_scores  MSE_scores      RMSE\n",
       "0   0.854507    2.044091   10.188437  3.191933\n",
       "1   0.878462    2.135123   11.026504  3.320618\n",
       "2   0.911955    2.327983    9.493726  3.081189\n",
       "3   0.826216    2.192045   11.645341  3.412527"
      ]
     },
     "execution_count": 227,
     "metadata": {},
     "output_type": "execute_result"
    }
   ],
   "source": [
    "scorer(lgb,Xs1,y)"
   ]
  },
  {
   "cell_type": "code",
   "execution_count": null,
   "id": "89d4ef53",
   "metadata": {},
   "outputs": [],
   "source": []
  },
  {
   "cell_type": "markdown",
   "id": "14046064",
   "metadata": {},
   "source": [
    "## Dimensionality Reduction"
   ]
  },
  {
   "cell_type": "code",
   "execution_count": 241,
   "id": "ee3509aa",
   "metadata": {},
   "outputs": [],
   "source": [
    "ds = df.copy()"
   ]
  },
  {
   "cell_type": "code",
   "execution_count": 242,
   "id": "f989eea0",
   "metadata": {},
   "outputs": [],
   "source": [
    "from sklearn.decomposition import PCA\n",
    "X = ds.iloc[:,:-1].values"
   ]
  },
  {
   "cell_type": "code",
   "execution_count": 243,
   "id": "cc9a7bcb",
   "metadata": {},
   "outputs": [],
   "source": [
    "from sklearn.preprocessing import MinMaxScaler\n",
    "scaler=MinMaxScaler()"
   ]
  },
  {
   "cell_type": "code",
   "execution_count": 244,
   "id": "4ea627ef",
   "metadata": {},
   "outputs": [],
   "source": [
    "cols = [\"CRIM\",\"ZN\",\"INDUS\",\"NOX\",\"RM\",\"AGE\",\"DIS\",\"RAD\",\"TAX\",\"PTRATIO\",\"B\",\"LSTAT\"]"
   ]
  },
  {
   "cell_type": "code",
   "execution_count": 245,
   "id": "2b933328",
   "metadata": {},
   "outputs": [],
   "source": [
    "ds[cols] = scaler.fit_transform(ds[cols])"
   ]
  },
  {
   "cell_type": "code",
   "execution_count": 246,
   "id": "5808bd28",
   "metadata": {},
   "outputs": [
    {
     "data": {
      "text/html": [
       "<div>\n",
       "<style scoped>\n",
       "    .dataframe tbody tr th:only-of-type {\n",
       "        vertical-align: middle;\n",
       "    }\n",
       "\n",
       "    .dataframe tbody tr th {\n",
       "        vertical-align: top;\n",
       "    }\n",
       "\n",
       "    .dataframe thead th {\n",
       "        text-align: right;\n",
       "    }\n",
       "</style>\n",
       "<table border=\"1\" class=\"dataframe\">\n",
       "  <thead>\n",
       "    <tr style=\"text-align: right;\">\n",
       "      <th></th>\n",
       "      <th>CRIM</th>\n",
       "      <th>ZN</th>\n",
       "      <th>INDUS</th>\n",
       "      <th>CHAS</th>\n",
       "      <th>NOX</th>\n",
       "      <th>RM</th>\n",
       "      <th>AGE</th>\n",
       "      <th>DIS</th>\n",
       "      <th>RAD</th>\n",
       "      <th>TAX</th>\n",
       "      <th>PTRATIO</th>\n",
       "      <th>B</th>\n",
       "      <th>LSTAT</th>\n",
       "      <th>MEDV</th>\n",
       "    </tr>\n",
       "  </thead>\n",
       "  <tbody>\n",
       "    <tr>\n",
       "      <th>0</th>\n",
       "      <td>0.000000</td>\n",
       "      <td>0.576</td>\n",
       "      <td>0.067815</td>\n",
       "      <td>0.0</td>\n",
       "      <td>0.314815</td>\n",
       "      <td>0.608570</td>\n",
       "      <td>0.641607</td>\n",
       "      <td>0.340620</td>\n",
       "      <td>0.000000</td>\n",
       "      <td>0.208015</td>\n",
       "      <td>0.238636</td>\n",
       "      <td>1.000000</td>\n",
       "      <td>0.107500</td>\n",
       "      <td>24.0</td>\n",
       "    </tr>\n",
       "    <tr>\n",
       "      <th>1</th>\n",
       "      <td>0.000236</td>\n",
       "      <td>0.000</td>\n",
       "      <td>0.242302</td>\n",
       "      <td>0.0</td>\n",
       "      <td>0.172840</td>\n",
       "      <td>0.556402</td>\n",
       "      <td>0.782698</td>\n",
       "      <td>0.441539</td>\n",
       "      <td>0.043478</td>\n",
       "      <td>0.104962</td>\n",
       "      <td>0.522727</td>\n",
       "      <td>1.000000</td>\n",
       "      <td>0.245100</td>\n",
       "      <td>21.6</td>\n",
       "    </tr>\n",
       "    <tr>\n",
       "      <th>2</th>\n",
       "      <td>0.000236</td>\n",
       "      <td>0.000</td>\n",
       "      <td>0.242302</td>\n",
       "      <td>0.0</td>\n",
       "      <td>0.172840</td>\n",
       "      <td>0.815210</td>\n",
       "      <td>0.599382</td>\n",
       "      <td>0.441539</td>\n",
       "      <td>0.043478</td>\n",
       "      <td>0.104962</td>\n",
       "      <td>0.522727</td>\n",
       "      <td>0.989737</td>\n",
       "      <td>0.076077</td>\n",
       "      <td>34.7</td>\n",
       "    </tr>\n",
       "    <tr>\n",
       "      <th>3</th>\n",
       "      <td>0.000293</td>\n",
       "      <td>0.000</td>\n",
       "      <td>0.063050</td>\n",
       "      <td>0.0</td>\n",
       "      <td>0.150206</td>\n",
       "      <td>0.751863</td>\n",
       "      <td>0.441813</td>\n",
       "      <td>0.567540</td>\n",
       "      <td>0.086957</td>\n",
       "      <td>0.066794</td>\n",
       "      <td>0.625000</td>\n",
       "      <td>0.994276</td>\n",
       "      <td>0.040023</td>\n",
       "      <td>33.4</td>\n",
       "    </tr>\n",
       "    <tr>\n",
       "      <th>4</th>\n",
       "      <td>0.000705</td>\n",
       "      <td>0.000</td>\n",
       "      <td>0.063050</td>\n",
       "      <td>0.0</td>\n",
       "      <td>0.150206</td>\n",
       "      <td>0.802337</td>\n",
       "      <td>0.528321</td>\n",
       "      <td>0.567540</td>\n",
       "      <td>0.086957</td>\n",
       "      <td>0.066794</td>\n",
       "      <td>0.625000</td>\n",
       "      <td>1.000000</td>\n",
       "      <td>0.119077</td>\n",
       "      <td>36.2</td>\n",
       "    </tr>\n",
       "  </tbody>\n",
       "</table>\n",
       "</div>"
      ],
      "text/plain": [
       "       CRIM     ZN     INDUS  CHAS       NOX        RM       AGE       DIS  \\\n",
       "0  0.000000  0.576  0.067815   0.0  0.314815  0.608570  0.641607  0.340620   \n",
       "1  0.000236  0.000  0.242302   0.0  0.172840  0.556402  0.782698  0.441539   \n",
       "2  0.000236  0.000  0.242302   0.0  0.172840  0.815210  0.599382  0.441539   \n",
       "3  0.000293  0.000  0.063050   0.0  0.150206  0.751863  0.441813  0.567540   \n",
       "4  0.000705  0.000  0.063050   0.0  0.150206  0.802337  0.528321  0.567540   \n",
       "\n",
       "        RAD       TAX   PTRATIO         B     LSTAT  MEDV  \n",
       "0  0.000000  0.208015  0.238636  1.000000  0.107500  24.0  \n",
       "1  0.043478  0.104962  0.522727  1.000000  0.245100  21.6  \n",
       "2  0.043478  0.104962  0.522727  0.989737  0.076077  34.7  \n",
       "3  0.086957  0.066794  0.625000  0.994276  0.040023  33.4  \n",
       "4  0.086957  0.066794  0.625000  1.000000  0.119077  36.2  "
      ]
     },
     "execution_count": 246,
     "metadata": {},
     "output_type": "execute_result"
    }
   ],
   "source": [
    "ds.head()"
   ]
  },
  {
   "cell_type": "code",
   "execution_count": 267,
   "id": "99877e84",
   "metadata": {},
   "outputs": [],
   "source": [
    "pca = PCA(n_components = 7)\n",
    "pca.fit(X)\n",
    "\n",
    "pca_x = pca.fit_transform(X)"
   ]
  },
  {
   "cell_type": "code",
   "execution_count": 268,
   "id": "9ce0ead5",
   "metadata": {},
   "outputs": [
    {
     "data": {
      "text/plain": [
       "0.9996215415153527"
      ]
     },
     "execution_count": 268,
     "metadata": {},
     "output_type": "execute_result"
    }
   ],
   "source": [
    "pca.explained_variance_ratio_.sum()"
   ]
  },
  {
   "cell_type": "code",
   "execution_count": 269,
   "id": "6b312cc7",
   "metadata": {
    "scrolled": true
   },
   "outputs": [
    {
     "data": {
      "text/plain": [
       "array([[-1.19896032e+02, -5.54915210e+00, -3.27826872e+00, ...,\n",
       "        -2.14168029e+00, -5.17792579e+00, -1.55968840e-01],\n",
       "       [-1.69303285e+02,  1.01222279e+01, -2.65663513e+01, ...,\n",
       "         5.95709578e-01, -3.65177763e+00, -9.92846633e-01],\n",
       "       [-1.69718288e+02,  1.40874591e+01, -8.98640763e+00, ...,\n",
       "         3.35215149e-01, -6.55629439e+00,  1.18214915e+00],\n",
       "       ...,\n",
       "       [-1.38783727e+02,  9.45038969e-01, -3.55142806e+01, ...,\n",
       "        -2.09555020e+00, -6.28843147e+00,  4.30910531e+00],\n",
       "       [-1.37901064e+02,  4.25852693e+00, -3.39058615e+01, ...,\n",
       "        -1.83509973e+00, -5.38169623e+00,  4.03973827e+00],\n",
       "       [-1.39585606e+02,  1.01526301e+00, -2.60476762e+01, ...,\n",
       "        -1.07814305e+00, -3.21507160e+00,  3.67410745e+00]])"
      ]
     },
     "execution_count": 269,
     "metadata": {},
     "output_type": "execute_result"
    }
   ],
   "source": [
    "pca_x"
   ]
  },
  {
   "cell_type": "code",
   "execution_count": 270,
   "id": "11f488fa",
   "metadata": {},
   "outputs": [
    {
     "data": {
      "text/html": [
       "<div>\n",
       "<style scoped>\n",
       "    .dataframe tbody tr th:only-of-type {\n",
       "        vertical-align: middle;\n",
       "    }\n",
       "\n",
       "    .dataframe tbody tr th {\n",
       "        vertical-align: top;\n",
       "    }\n",
       "\n",
       "    .dataframe thead th {\n",
       "        text-align: right;\n",
       "    }\n",
       "</style>\n",
       "<table border=\"1\" class=\"dataframe\">\n",
       "  <thead>\n",
       "    <tr style=\"text-align: right;\">\n",
       "      <th></th>\n",
       "      <th>r2_scores</th>\n",
       "      <th>MAE_scores</th>\n",
       "      <th>MSE_scores</th>\n",
       "      <th>RMSE</th>\n",
       "    </tr>\n",
       "  </thead>\n",
       "  <tbody>\n",
       "    <tr>\n",
       "      <th>0</th>\n",
       "      <td>0.734150</td>\n",
       "      <td>3.175494</td>\n",
       "      <td>18.616695</td>\n",
       "      <td>4.314707</td>\n",
       "    </tr>\n",
       "    <tr>\n",
       "      <th>1</th>\n",
       "      <td>0.711640</td>\n",
       "      <td>3.741439</td>\n",
       "      <td>26.161440</td>\n",
       "      <td>5.114825</td>\n",
       "    </tr>\n",
       "    <tr>\n",
       "      <th>2</th>\n",
       "      <td>0.778057</td>\n",
       "      <td>3.556713</td>\n",
       "      <td>23.931522</td>\n",
       "      <td>4.891986</td>\n",
       "    </tr>\n",
       "    <tr>\n",
       "      <th>3</th>\n",
       "      <td>0.605684</td>\n",
       "      <td>3.317909</td>\n",
       "      <td>26.423242</td>\n",
       "      <td>5.140354</td>\n",
       "    </tr>\n",
       "  </tbody>\n",
       "</table>\n",
       "</div>"
      ],
      "text/plain": [
       "   r2_scores  MAE_scores  MSE_scores      RMSE\n",
       "0   0.734150    3.175494   18.616695  4.314707\n",
       "1   0.711640    3.741439   26.161440  5.114825\n",
       "2   0.778057    3.556713   23.931522  4.891986\n",
       "3   0.605684    3.317909   26.423242  5.140354"
      ]
     },
     "execution_count": 270,
     "metadata": {},
     "output_type": "execute_result"
    }
   ],
   "source": [
    "scorer(xgb,pca_x,y)"
   ]
  },
  {
   "cell_type": "markdown",
   "id": "961da329",
   "metadata": {},
   "source": [
    "After applying dimensionality reduction the variance ratio is 99% but the \n",
    "XGBoost model has not performed well compared to previous original data"
   ]
  },
  {
   "cell_type": "code",
   "execution_count": null,
   "id": "c550095f",
   "metadata": {},
   "outputs": [],
   "source": []
  },
  {
   "cell_type": "code",
   "execution_count": null,
   "id": "fdbb87dd",
   "metadata": {},
   "outputs": [],
   "source": []
  },
  {
   "cell_type": "code",
   "execution_count": 272,
   "id": "a1c38341",
   "metadata": {},
   "outputs": [],
   "source": [
    "#------------------------------------------------------------------------------------------------------------------------------#"
   ]
  },
  {
   "cell_type": "code",
   "execution_count": null,
   "id": "6e6160d7",
   "metadata": {},
   "outputs": [],
   "source": []
  },
  {
   "cell_type": "code",
   "execution_count": null,
   "id": "1084d9dd",
   "metadata": {},
   "outputs": [],
   "source": []
  },
  {
   "cell_type": "code",
   "execution_count": null,
   "id": "e6de9989",
   "metadata": {},
   "outputs": [],
   "source": []
  },
  {
   "cell_type": "code",
   "execution_count": null,
   "id": "fbfcaf62",
   "metadata": {},
   "outputs": [],
   "source": []
  },
  {
   "cell_type": "code",
   "execution_count": null,
   "id": "fba0ad45",
   "metadata": {},
   "outputs": [],
   "source": []
  },
  {
   "cell_type": "code",
   "execution_count": 95,
   "id": "b3506901",
   "metadata": {},
   "outputs": [],
   "source": [
    "from sklearn.cluster import KMeans\n",
    "from sklearn.metrics import silhouette_score"
   ]
  },
  {
   "cell_type": "code",
   "execution_count": 96,
   "id": "ab1ddcf7",
   "metadata": {},
   "outputs": [
    {
     "name": "stdout",
     "output_type": "stream",
     "text": [
      "3 -\n",
      "4239786.89345198\n",
      "4 -\n",
      "3930302.7678166027\n",
      "5 -\n",
      "1285479.0444621504\n",
      "6 -\n",
      "1151001.1588406484\n",
      "7 -\n",
      "1108608.8754976182\n",
      "8 -\n",
      "766064.3927951896\n",
      "9 -\n",
      "655288.3591649445\n",
      "10 -\n",
      "607548.8471048407\n"
     ]
    }
   ],
   "source": [
    "for i in range(3,11):\n",
    "    kmeans = KMeans(init = \"random\", n_clusters = i, n_init = 5, max_iter = 300, random_state = 42)\n",
    "    kmeans.fit(pca_x)\n",
    "    print(i,\"-\")\n",
    "    print(kmeans.inertia_)"
   ]
  },
  {
   "cell_type": "code",
   "execution_count": 97,
   "id": "0def1a54",
   "metadata": {},
   "outputs": [],
   "source": [
    "kmeans_kwargs = KMeans(n_init = 5, max_iter = 300, random_state = 42)"
   ]
  },
  {
   "cell_type": "code",
   "execution_count": 101,
   "id": "156e2fdd",
   "metadata": {},
   "outputs": [],
   "source": [
    "sse = []\n",
    "for k in range(1,11):\n",
    "    kmeans = KMeans() \n",
    "    kmeans.fit(pca_x)\n",
    "    sse.append(kmeans.inertia_)"
   ]
  },
  {
   "cell_type": "code",
   "execution_count": 102,
   "id": "4d545911",
   "metadata": {},
   "outputs": [
    {
     "data": {
      "image/png": "[encoded data removed]",
      "text/plain": [
       "<Figure size 432x288 with 1 Axes>"
      ]
     },
     "metadata": {
      "needs_background": "light"
     },
     "output_type": "display_data"
    }
   ],
   "source": [
    "plt.plot(range(1,11),sse)\n",
    "plt.xticks(range(1,11))\n",
    "plt.show()"
   ]
  },
  {
   "cell_type": "code",
   "execution_count": 162,
   "id": "062d45e9",
   "metadata": {},
   "outputs": [
    {
     "name": "stdout",
     "output_type": "stream",
     "text": [
      "1741.8897080610916\n"
     ]
    }
   ],
   "source": [
    "kmeans = KMeans(init = \"random\", n_clusters = 3, n_init = 5, max_iter = 300, random_state = 42)\n",
    "kmeans.fit(pca_x)\n",
    "print(kmeans.inertia_)"
   ]
  },
  {
   "cell_type": "code",
   "execution_count": 163,
   "id": "edc57438",
   "metadata": {},
   "outputs": [],
   "source": [
    "feature_kmeans = kmeans.predict(pca_x)"
   ]
  },
  {
   "cell_type": "code",
   "execution_count": 164,
   "id": "cb7b4440",
   "metadata": {},
   "outputs": [
    {
     "data": {
      "text/plain": [
       "array([0, 2, 0, 0, 0, 0, 2, 2, 2, 2, 2, 2, 0, 2, 2, 2, 2, 2, 2, 2, 2, 2,\n",
       "       2, 2, 2, 2, 2, 2, 2, 2, 2, 2, 2, 2, 2, 2, 2, 2, 2, 0, 0, 0, 0, 0,\n",
       "       0, 2, 2, 2, 2, 2, 0, 0, 0, 0, 0, 0, 0, 0, 0, 0, 0, 0, 0, 0, 0, 0,\n",
       "       0, 0, 0, 0, 0, 0, 0, 0, 0, 2, 2, 2, 2, 2, 0, 0, 0, 0, 0, 0, 2, 2,\n",
       "       2, 2, 2, 2, 0, 0, 2, 2, 2, 0, 0, 0, 2, 2, 2, 2, 2, 2, 2, 2, 2, 2,\n",
       "       2, 2, 2, 2, 2, 2, 2, 2, 2, 2, 2, 2, 2, 2, 2, 2, 2, 2, 2, 2, 2, 2,\n",
       "       2, 2, 1, 2, 2, 2, 2, 2, 2, 1, 2, 2, 2, 1, 1, 2, 2, 2, 2, 2, 2, 2,\n",
       "       2, 1, 1, 2, 2, 2, 2, 2, 2, 2, 2, 2, 2, 2, 2, 2, 2, 2, 2, 2, 2, 0,\n",
       "       2, 2, 2, 2, 2, 2, 2, 2, 2, 2, 0, 0, 0, 0, 0, 0, 0, 0, 0, 0, 0, 0,\n",
       "       0, 0, 0, 0, 0, 0, 0, 2, 2, 2, 2, 2, 2, 2, 2, 2, 2, 2, 2, 2, 2, 2,\n",
       "       2, 2, 2, 2, 2, 2, 2, 2, 0, 0, 2, 2, 2, 2, 2, 2, 2, 2, 0, 0, 0, 0,\n",
       "       0, 0, 0, 0, 0, 0, 0, 0, 0, 0, 0, 0, 0, 0, 0, 2, 2, 2, 2, 2, 2, 2,\n",
       "       2, 2, 2, 0, 0, 2, 0, 0, 0, 0, 0, 0, 0, 0, 0, 0, 0, 0, 0, 0, 0, 0,\n",
       "       0, 0, 0, 0, 0, 0, 0, 0, 2, 0, 0, 2, 0, 0, 0, 0, 0, 0, 0, 0, 0, 0,\n",
       "       2, 2, 2, 2, 2, 2, 2, 2, 2, 2, 2, 2, 2, 2, 2, 2, 2, 0, 0, 2, 0, 0,\n",
       "       0, 0, 0, 0, 0, 0, 2, 2, 2, 2, 2, 0, 0, 0, 0, 0, 0, 0, 0, 0, 0, 0,\n",
       "       0, 0, 0, 0, 1, 1, 1, 1, 1, 1, 1, 1, 1, 1, 1, 1, 1, 1, 1, 1, 1, 1,\n",
       "       1, 1, 1, 1, 1, 1, 1, 1, 1, 1, 1, 1, 1, 1, 1, 1, 1, 1, 1, 1, 1, 1,\n",
       "       1, 1, 1, 1, 1, 1, 1, 1, 1, 1, 1, 1, 1, 1, 1, 1, 1, 1, 1, 1, 1, 1,\n",
       "       1, 1, 1, 1, 1, 1, 1, 1, 1, 1, 1, 1, 1, 1, 1, 1, 1, 1, 1, 1, 1, 1,\n",
       "       1, 1, 1, 1, 1, 1, 1, 1, 1, 1, 1, 1, 1, 1, 1, 1, 1, 1, 1, 1, 1, 1,\n",
       "       1, 1, 1, 1, 1, 1, 1, 1, 1, 1, 1, 1, 1, 1, 1, 1, 1, 1, 1, 1, 1, 1,\n",
       "       1, 1, 1, 1, 1, 1, 1, 1, 1, 2, 2, 2, 2, 2, 2, 2, 2, 2, 2, 2, 2, 2])"
      ]
     },
     "execution_count": 164,
     "metadata": {},
     "output_type": "execute_result"
    }
   ],
   "source": [
    "feature_kmeans"
   ]
  },
  {
   "cell_type": "code",
   "execution_count": 165,
   "id": "53f353f6",
   "metadata": {},
   "outputs": [],
   "source": [
    "ds['K_means'] = feature_kmeans"
   ]
  },
  {
   "cell_type": "code",
   "execution_count": 166,
   "id": "71a50d84",
   "metadata": {},
   "outputs": [
    {
     "data": {
      "text/html": [
       "<div>\n",
       "<style scoped>\n",
       "    .dataframe tbody tr th:only-of-type {\n",
       "        vertical-align: middle;\n",
       "    }\n",
       "\n",
       "    .dataframe tbody tr th {\n",
       "        vertical-align: top;\n",
       "    }\n",
       "\n",
       "    .dataframe thead th {\n",
       "        text-align: right;\n",
       "    }\n",
       "</style>\n",
       "<table border=\"1\" class=\"dataframe\">\n",
       "  <thead>\n",
       "    <tr style=\"text-align: right;\">\n",
       "      <th></th>\n",
       "      <th>CRIM</th>\n",
       "      <th>ZN</th>\n",
       "      <th>INDUS</th>\n",
       "      <th>CHAS</th>\n",
       "      <th>NOX</th>\n",
       "      <th>RM</th>\n",
       "      <th>AGE</th>\n",
       "      <th>DIS</th>\n",
       "      <th>RAD</th>\n",
       "      <th>TAX</th>\n",
       "      <th>PTRATIO</th>\n",
       "      <th>B</th>\n",
       "      <th>LSTAT</th>\n",
       "      <th>MEDV</th>\n",
       "      <th>K_means</th>\n",
       "    </tr>\n",
       "  </thead>\n",
       "  <tbody>\n",
       "    <tr>\n",
       "      <th>0</th>\n",
       "      <td>-0.419782</td>\n",
       "      <td>0.918420</td>\n",
       "      <td>-1.287909</td>\n",
       "      <td>0.0</td>\n",
       "      <td>-0.144217</td>\n",
       "      <td>0.475982</td>\n",
       "      <td>-0.120013</td>\n",
       "      <td>0.148015</td>\n",
       "      <td>-0.982843</td>\n",
       "      <td>-0.666608</td>\n",
       "      <td>-1.477181</td>\n",
       "      <td>0.441052</td>\n",
       "      <td>-1.088749</td>\n",
       "      <td>24.0</td>\n",
       "      <td>0</td>\n",
       "    </tr>\n",
       "    <tr>\n",
       "      <th>1</th>\n",
       "      <td>-0.417339</td>\n",
       "      <td>-0.579471</td>\n",
       "      <td>-0.593381</td>\n",
       "      <td>0.0</td>\n",
       "      <td>-0.740262</td>\n",
       "      <td>0.231390</td>\n",
       "      <td>0.367166</td>\n",
       "      <td>0.572202</td>\n",
       "      <td>-0.867883</td>\n",
       "      <td>-0.987329</td>\n",
       "      <td>-0.309941</td>\n",
       "      <td>0.441052</td>\n",
       "      <td>-0.495302</td>\n",
       "      <td>21.6</td>\n",
       "      <td>2</td>\n",
       "    </tr>\n",
       "    <tr>\n",
       "      <th>2</th>\n",
       "      <td>-0.417342</td>\n",
       "      <td>-0.579471</td>\n",
       "      <td>-0.593381</td>\n",
       "      <td>0.0</td>\n",
       "      <td>-0.740262</td>\n",
       "      <td>1.444822</td>\n",
       "      <td>-0.265812</td>\n",
       "      <td>0.572202</td>\n",
       "      <td>-0.867883</td>\n",
       "      <td>-0.987329</td>\n",
       "      <td>-0.309941</td>\n",
       "      <td>0.396427</td>\n",
       "      <td>-1.224272</td>\n",
       "      <td>34.7</td>\n",
       "      <td>0</td>\n",
       "    </tr>\n",
       "    <tr>\n",
       "      <th>3</th>\n",
       "      <td>-0.416750</td>\n",
       "      <td>-0.579471</td>\n",
       "      <td>-1.306878</td>\n",
       "      <td>0.0</td>\n",
       "      <td>-0.835284</td>\n",
       "      <td>1.147817</td>\n",
       "      <td>-0.809889</td>\n",
       "      <td>1.101820</td>\n",
       "      <td>-0.752922</td>\n",
       "      <td>-1.106115</td>\n",
       "      <td>0.110265</td>\n",
       "      <td>0.416163</td>\n",
       "      <td>-1.379766</td>\n",
       "      <td>33.4</td>\n",
       "      <td>0</td>\n",
       "    </tr>\n",
       "    <tr>\n",
       "      <th>4</th>\n",
       "      <td>-0.412482</td>\n",
       "      <td>-0.579471</td>\n",
       "      <td>-1.306878</td>\n",
       "      <td>0.0</td>\n",
       "      <td>-0.835284</td>\n",
       "      <td>1.384468</td>\n",
       "      <td>-0.511180</td>\n",
       "      <td>1.101820</td>\n",
       "      <td>-0.752922</td>\n",
       "      <td>-1.106115</td>\n",
       "      <td>0.110265</td>\n",
       "      <td>0.441052</td>\n",
       "      <td>-1.038819</td>\n",
       "      <td>36.2</td>\n",
       "      <td>0</td>\n",
       "    </tr>\n",
       "  </tbody>\n",
       "</table>\n",
       "</div>"
      ],
      "text/plain": [
       "       CRIM        ZN     INDUS  CHAS       NOX        RM       AGE       DIS  \\\n",
       "0 -0.419782  0.918420 -1.287909   0.0 -0.144217  0.475982 -0.120013  0.148015   \n",
       "1 -0.417339 -0.579471 -0.593381   0.0 -0.740262  0.231390  0.367166  0.572202   \n",
       "2 -0.417342 -0.579471 -0.593381   0.0 -0.740262  1.444822 -0.265812  0.572202   \n",
       "3 -0.416750 -0.579471 -1.306878   0.0 -0.835284  1.147817 -0.809889  1.101820   \n",
       "4 -0.412482 -0.579471 -1.306878   0.0 -0.835284  1.384468 -0.511180  1.101820   \n",
       "\n",
       "        RAD       TAX   PTRATIO         B     LSTAT  MEDV  K_means  \n",
       "0 -0.982843 -0.666608 -1.477181  0.441052 -1.088749  24.0        0  \n",
       "1 -0.867883 -0.987329 -0.309941  0.441052 -0.495302  21.6        2  \n",
       "2 -0.867883 -0.987329 -0.309941  0.396427 -1.224272  34.7        0  \n",
       "3 -0.752922 -1.106115  0.110265  0.416163 -1.379766  33.4        0  \n",
       "4 -0.752922 -1.106115  0.110265  0.441052 -1.038819  36.2        0  "
      ]
     },
     "execution_count": 166,
     "metadata": {},
     "output_type": "execute_result"
    }
   ],
   "source": [
    "ds.head()"
   ]
  },
  {
   "cell_type": "code",
   "execution_count": 167,
   "id": "5f05a408",
   "metadata": {},
   "outputs": [],
   "source": [
    "dum = pd.get_dummies(ds['K_means'],drop_first=True,prefix=\"K_means\")\n",
    "ds = pd.concat([ds.drop('K_means',axis=1),dum],axis=1)"
   ]
  },
  {
   "cell_type": "code",
   "execution_count": 168,
   "id": "6dfada14",
   "metadata": {},
   "outputs": [],
   "source": [
    "df2 = pd.concat([df1,dum],axis=1)"
   ]
  },
  {
   "cell_type": "code",
   "execution_count": 169,
   "id": "4f470116",
   "metadata": {},
   "outputs": [
    {
     "data": {
      "text/html": [
       "<div>\n",
       "<style scoped>\n",
       "    .dataframe tbody tr th:only-of-type {\n",
       "        vertical-align: middle;\n",
       "    }\n",
       "\n",
       "    .dataframe tbody tr th {\n",
       "        vertical-align: top;\n",
       "    }\n",
       "\n",
       "    .dataframe thead th {\n",
       "        text-align: right;\n",
       "    }\n",
       "</style>\n",
       "<table border=\"1\" class=\"dataframe\">\n",
       "  <thead>\n",
       "    <tr style=\"text-align: right;\">\n",
       "      <th></th>\n",
       "      <th>CRIM</th>\n",
       "      <th>ZN</th>\n",
       "      <th>INDUS</th>\n",
       "      <th>CHAS</th>\n",
       "      <th>NOX</th>\n",
       "      <th>RM</th>\n",
       "      <th>AGE</th>\n",
       "      <th>DIS</th>\n",
       "      <th>RAD</th>\n",
       "      <th>TAX</th>\n",
       "      <th>PTRATIO</th>\n",
       "      <th>B</th>\n",
       "      <th>LSTAT</th>\n",
       "      <th>MEDV</th>\n",
       "      <th>K_means_1</th>\n",
       "      <th>K_means_2</th>\n",
       "    </tr>\n",
       "  </thead>\n",
       "  <tbody>\n",
       "    <tr>\n",
       "      <th>0</th>\n",
       "      <td>-0.419782</td>\n",
       "      <td>0.918420</td>\n",
       "      <td>-1.287909</td>\n",
       "      <td>0.0</td>\n",
       "      <td>-0.144217</td>\n",
       "      <td>0.475982</td>\n",
       "      <td>-0.120013</td>\n",
       "      <td>0.148015</td>\n",
       "      <td>-0.982843</td>\n",
       "      <td>-0.666608</td>\n",
       "      <td>-1.477181</td>\n",
       "      <td>0.441052</td>\n",
       "      <td>-1.088749</td>\n",
       "      <td>24.0</td>\n",
       "      <td>0</td>\n",
       "      <td>0</td>\n",
       "    </tr>\n",
       "    <tr>\n",
       "      <th>1</th>\n",
       "      <td>-0.417339</td>\n",
       "      <td>-0.579471</td>\n",
       "      <td>-0.593381</td>\n",
       "      <td>0.0</td>\n",
       "      <td>-0.740262</td>\n",
       "      <td>0.231390</td>\n",
       "      <td>0.367166</td>\n",
       "      <td>0.572202</td>\n",
       "      <td>-0.867883</td>\n",
       "      <td>-0.987329</td>\n",
       "      <td>-0.309941</td>\n",
       "      <td>0.441052</td>\n",
       "      <td>-0.495302</td>\n",
       "      <td>21.6</td>\n",
       "      <td>0</td>\n",
       "      <td>1</td>\n",
       "    </tr>\n",
       "    <tr>\n",
       "      <th>2</th>\n",
       "      <td>-0.417342</td>\n",
       "      <td>-0.579471</td>\n",
       "      <td>-0.593381</td>\n",
       "      <td>0.0</td>\n",
       "      <td>-0.740262</td>\n",
       "      <td>1.444822</td>\n",
       "      <td>-0.265812</td>\n",
       "      <td>0.572202</td>\n",
       "      <td>-0.867883</td>\n",
       "      <td>-0.987329</td>\n",
       "      <td>-0.309941</td>\n",
       "      <td>0.396427</td>\n",
       "      <td>-1.224272</td>\n",
       "      <td>34.7</td>\n",
       "      <td>0</td>\n",
       "      <td>0</td>\n",
       "    </tr>\n",
       "    <tr>\n",
       "      <th>3</th>\n",
       "      <td>-0.416750</td>\n",
       "      <td>-0.579471</td>\n",
       "      <td>-1.306878</td>\n",
       "      <td>0.0</td>\n",
       "      <td>-0.835284</td>\n",
       "      <td>1.147817</td>\n",
       "      <td>-0.809889</td>\n",
       "      <td>1.101820</td>\n",
       "      <td>-0.752922</td>\n",
       "      <td>-1.106115</td>\n",
       "      <td>0.110265</td>\n",
       "      <td>0.416163</td>\n",
       "      <td>-1.379766</td>\n",
       "      <td>33.4</td>\n",
       "      <td>0</td>\n",
       "      <td>0</td>\n",
       "    </tr>\n",
       "    <tr>\n",
       "      <th>4</th>\n",
       "      <td>-0.412482</td>\n",
       "      <td>-0.579471</td>\n",
       "      <td>-1.306878</td>\n",
       "      <td>0.0</td>\n",
       "      <td>-0.835284</td>\n",
       "      <td>1.384468</td>\n",
       "      <td>-0.511180</td>\n",
       "      <td>1.101820</td>\n",
       "      <td>-0.752922</td>\n",
       "      <td>-1.106115</td>\n",
       "      <td>0.110265</td>\n",
       "      <td>0.441052</td>\n",
       "      <td>-1.038819</td>\n",
       "      <td>36.2</td>\n",
       "      <td>0</td>\n",
       "      <td>0</td>\n",
       "    </tr>\n",
       "  </tbody>\n",
       "</table>\n",
       "</div>"
      ],
      "text/plain": [
       "       CRIM        ZN     INDUS  CHAS       NOX        RM       AGE       DIS  \\\n",
       "0 -0.419782  0.918420 -1.287909   0.0 -0.144217  0.475982 -0.120013  0.148015   \n",
       "1 -0.417339 -0.579471 -0.593381   0.0 -0.740262  0.231390  0.367166  0.572202   \n",
       "2 -0.417342 -0.579471 -0.593381   0.0 -0.740262  1.444822 -0.265812  0.572202   \n",
       "3 -0.416750 -0.579471 -1.306878   0.0 -0.835284  1.147817 -0.809889  1.101820   \n",
       "4 -0.412482 -0.579471 -1.306878   0.0 -0.835284  1.384468 -0.511180  1.101820   \n",
       "\n",
       "        RAD       TAX   PTRATIO         B     LSTAT  MEDV  K_means_1  \\\n",
       "0 -0.982843 -0.666608 -1.477181  0.441052 -1.088749  24.0          0   \n",
       "1 -0.867883 -0.987329 -0.309941  0.441052 -0.495302  21.6          0   \n",
       "2 -0.867883 -0.987329 -0.309941  0.396427 -1.224272  34.7          0   \n",
       "3 -0.752922 -1.106115  0.110265  0.416163 -1.379766  33.4          0   \n",
       "4 -0.752922 -1.106115  0.110265  0.441052 -1.038819  36.2          0   \n",
       "\n",
       "   K_means_2  \n",
       "0          0  \n",
       "1          1  \n",
       "2          0  \n",
       "3          0  \n",
       "4          0  "
      ]
     },
     "execution_count": 169,
     "metadata": {},
     "output_type": "execute_result"
    }
   ],
   "source": [
    "ds.head()"
   ]
  },
  {
   "cell_type": "code",
   "execution_count": 170,
   "id": "29b8545b",
   "metadata": {},
   "outputs": [],
   "source": [
    "# Hierarchical"
   ]
  },
  {
   "cell_type": "code",
   "execution_count": null,
   "id": "708ac5fd",
   "metadata": {},
   "outputs": [],
   "source": []
  },
  {
   "cell_type": "code",
   "execution_count": 171,
   "id": "b7581552",
   "metadata": {},
   "outputs": [
    {
     "data": {
      "image/png": "[encoded data removed]",
      "text/plain": [
       "<Figure size 720x504 with 1 Axes>"
      ]
     },
     "metadata": {
      "needs_background": "light"
     },
     "output_type": "display_data"
    }
   ],
   "source": [
    "import scipy.cluster.hierarchy as shc\n",
    "plt.figure(figsize=(10, 7))  \n",
    "plt.title(\"Dendrograms\")  \n",
    "dend = shc.dendrogram(shc.linkage(pca_x, method='ward'))"
   ]
  },
  {
   "cell_type": "code",
   "execution_count": 103,
   "id": "d1ca44e4",
   "metadata": {},
   "outputs": [],
   "source": [
    "from sklearn.cluster import AgglomerativeClustering\n",
    "cluster = AgglomerativeClustering(n_clusters=3, affinity='euclidean', linkage='ward')  \n",
    "feature_hierarichal = cluster.fit_predict(X)"
   ]
  },
  {
   "cell_type": "code",
   "execution_count": 104,
   "id": "17580330",
   "metadata": {},
   "outputs": [],
   "source": [
    "ds['Hiearchical'] = feature_hierarichal"
   ]
  },
  {
   "cell_type": "code",
   "execution_count": 105,
   "id": "0ccc1709",
   "metadata": {},
   "outputs": [
    {
     "data": {
      "text/html": [
       "<div>\n",
       "<style scoped>\n",
       "    .dataframe tbody tr th:only-of-type {\n",
       "        vertical-align: middle;\n",
       "    }\n",
       "\n",
       "    .dataframe tbody tr th {\n",
       "        vertical-align: top;\n",
       "    }\n",
       "\n",
       "    .dataframe thead th {\n",
       "        text-align: right;\n",
       "    }\n",
       "</style>\n",
       "<table border=\"1\" class=\"dataframe\">\n",
       "  <thead>\n",
       "    <tr style=\"text-align: right;\">\n",
       "      <th></th>\n",
       "      <th>CRIM</th>\n",
       "      <th>ZN</th>\n",
       "      <th>INDUS</th>\n",
       "      <th>CHAS</th>\n",
       "      <th>NOX</th>\n",
       "      <th>RM</th>\n",
       "      <th>AGE</th>\n",
       "      <th>DIS</th>\n",
       "      <th>RAD</th>\n",
       "      <th>TAX</th>\n",
       "      <th>PTRATIO</th>\n",
       "      <th>B</th>\n",
       "      <th>LSTAT</th>\n",
       "      <th>MEDV</th>\n",
       "      <th>Hiearchical</th>\n",
       "    </tr>\n",
       "  </thead>\n",
       "  <tbody>\n",
       "    <tr>\n",
       "      <th>0</th>\n",
       "      <td>-0.419782</td>\n",
       "      <td>0.918420</td>\n",
       "      <td>-1.287909</td>\n",
       "      <td>0.0</td>\n",
       "      <td>-0.144217</td>\n",
       "      <td>0.475982</td>\n",
       "      <td>-0.120013</td>\n",
       "      <td>0.148015</td>\n",
       "      <td>-0.982843</td>\n",
       "      <td>-0.666608</td>\n",
       "      <td>-1.477181</td>\n",
       "      <td>0.441052</td>\n",
       "      <td>-1.088749</td>\n",
       "      <td>24.0</td>\n",
       "      <td>0</td>\n",
       "    </tr>\n",
       "    <tr>\n",
       "      <th>1</th>\n",
       "      <td>-0.417339</td>\n",
       "      <td>-0.579471</td>\n",
       "      <td>-0.593381</td>\n",
       "      <td>0.0</td>\n",
       "      <td>-0.740262</td>\n",
       "      <td>0.231390</td>\n",
       "      <td>0.367166</td>\n",
       "      <td>0.572202</td>\n",
       "      <td>-0.867883</td>\n",
       "      <td>-0.987329</td>\n",
       "      <td>-0.309941</td>\n",
       "      <td>0.441052</td>\n",
       "      <td>-0.495302</td>\n",
       "      <td>21.6</td>\n",
       "      <td>0</td>\n",
       "    </tr>\n",
       "    <tr>\n",
       "      <th>2</th>\n",
       "      <td>-0.417342</td>\n",
       "      <td>-0.579471</td>\n",
       "      <td>-0.593381</td>\n",
       "      <td>0.0</td>\n",
       "      <td>-0.740262</td>\n",
       "      <td>1.444822</td>\n",
       "      <td>-0.265812</td>\n",
       "      <td>0.572202</td>\n",
       "      <td>-0.867883</td>\n",
       "      <td>-0.987329</td>\n",
       "      <td>-0.309941</td>\n",
       "      <td>0.396427</td>\n",
       "      <td>-1.224272</td>\n",
       "      <td>34.7</td>\n",
       "      <td>0</td>\n",
       "    </tr>\n",
       "    <tr>\n",
       "      <th>3</th>\n",
       "      <td>-0.416750</td>\n",
       "      <td>-0.579471</td>\n",
       "      <td>-1.306878</td>\n",
       "      <td>0.0</td>\n",
       "      <td>-0.835284</td>\n",
       "      <td>1.147817</td>\n",
       "      <td>-0.809889</td>\n",
       "      <td>1.101820</td>\n",
       "      <td>-0.752922</td>\n",
       "      <td>-1.106115</td>\n",
       "      <td>0.110265</td>\n",
       "      <td>0.416163</td>\n",
       "      <td>-1.379766</td>\n",
       "      <td>33.4</td>\n",
       "      <td>0</td>\n",
       "    </tr>\n",
       "    <tr>\n",
       "      <th>4</th>\n",
       "      <td>-0.412482</td>\n",
       "      <td>-0.579471</td>\n",
       "      <td>-1.306878</td>\n",
       "      <td>0.0</td>\n",
       "      <td>-0.835284</td>\n",
       "      <td>1.384468</td>\n",
       "      <td>-0.511180</td>\n",
       "      <td>1.101820</td>\n",
       "      <td>-0.752922</td>\n",
       "      <td>-1.106115</td>\n",
       "      <td>0.110265</td>\n",
       "      <td>0.441052</td>\n",
       "      <td>-1.038819</td>\n",
       "      <td>36.2</td>\n",
       "      <td>0</td>\n",
       "    </tr>\n",
       "    <tr>\n",
       "      <th>...</th>\n",
       "      <td>...</td>\n",
       "      <td>...</td>\n",
       "      <td>...</td>\n",
       "      <td>...</td>\n",
       "      <td>...</td>\n",
       "      <td>...</td>\n",
       "      <td>...</td>\n",
       "      <td>...</td>\n",
       "      <td>...</td>\n",
       "      <td>...</td>\n",
       "      <td>...</td>\n",
       "      <td>...</td>\n",
       "      <td>...</td>\n",
       "      <td>...</td>\n",
       "      <td>...</td>\n",
       "    </tr>\n",
       "    <tr>\n",
       "      <th>501</th>\n",
       "      <td>-0.413229</td>\n",
       "      <td>-0.579471</td>\n",
       "      <td>0.115738</td>\n",
       "      <td>0.0</td>\n",
       "      <td>0.158124</td>\n",
       "      <td>0.504571</td>\n",
       "      <td>0.018673</td>\n",
       "      <td>-0.631298</td>\n",
       "      <td>-0.982843</td>\n",
       "      <td>-0.803212</td>\n",
       "      <td>1.184126</td>\n",
       "      <td>0.387217</td>\n",
       "      <td>-0.419694</td>\n",
       "      <td>22.4</td>\n",
       "      <td>0</td>\n",
       "    </tr>\n",
       "    <tr>\n",
       "      <th>502</th>\n",
       "      <td>-0.415249</td>\n",
       "      <td>-0.579471</td>\n",
       "      <td>0.115738</td>\n",
       "      <td>0.0</td>\n",
       "      <td>0.158124</td>\n",
       "      <td>-0.246676</td>\n",
       "      <td>0.288933</td>\n",
       "      <td>-0.723719</td>\n",
       "      <td>-0.982843</td>\n",
       "      <td>-0.803212</td>\n",
       "      <td>1.184126</td>\n",
       "      <td>0.441052</td>\n",
       "      <td>-0.503861</td>\n",
       "      <td>20.6</td>\n",
       "      <td>0</td>\n",
       "    </tr>\n",
       "    <tr>\n",
       "      <th>503</th>\n",
       "      <td>-0.413447</td>\n",
       "      <td>-0.579471</td>\n",
       "      <td>0.115738</td>\n",
       "      <td>0.0</td>\n",
       "      <td>0.158124</td>\n",
       "      <td>1.112875</td>\n",
       "      <td>0.797449</td>\n",
       "      <td>-0.781754</td>\n",
       "      <td>-0.982843</td>\n",
       "      <td>-0.803212</td>\n",
       "      <td>1.184126</td>\n",
       "      <td>0.441052</td>\n",
       "      <td>-0.994596</td>\n",
       "      <td>23.9</td>\n",
       "      <td>0</td>\n",
       "    </tr>\n",
       "    <tr>\n",
       "      <th>504</th>\n",
       "      <td>-0.407764</td>\n",
       "      <td>-0.579471</td>\n",
       "      <td>0.115738</td>\n",
       "      <td>0.0</td>\n",
       "      <td>0.158124</td>\n",
       "      <td>0.823812</td>\n",
       "      <td>0.736996</td>\n",
       "      <td>-0.674679</td>\n",
       "      <td>-0.982843</td>\n",
       "      <td>-0.803212</td>\n",
       "      <td>1.184126</td>\n",
       "      <td>0.403225</td>\n",
       "      <td>-0.874765</td>\n",
       "      <td>22.0</td>\n",
       "      <td>0</td>\n",
       "    </tr>\n",
       "    <tr>\n",
       "      <th>505</th>\n",
       "      <td>-0.415000</td>\n",
       "      <td>-0.579471</td>\n",
       "      <td>0.115738</td>\n",
       "      <td>0.0</td>\n",
       "      <td>0.158124</td>\n",
       "      <td>-0.389620</td>\n",
       "      <td>0.434732</td>\n",
       "      <td>-0.618530</td>\n",
       "      <td>-0.982843</td>\n",
       "      <td>-0.803212</td>\n",
       "      <td>1.184126</td>\n",
       "      <td>0.441052</td>\n",
       "      <td>-0.675048</td>\n",
       "      <td>11.9</td>\n",
       "      <td>0</td>\n",
       "    </tr>\n",
       "  </tbody>\n",
       "</table>\n",
       "<p>506 rows × 15 columns</p>\n",
       "</div>"
      ],
      "text/plain": [
       "         CRIM        ZN     INDUS  CHAS       NOX        RM       AGE  \\\n",
       "0   -0.419782  0.918420 -1.287909   0.0 -0.144217  0.475982 -0.120013   \n",
       "1   -0.417339 -0.579471 -0.593381   0.0 -0.740262  0.231390  0.367166   \n",
       "2   -0.417342 -0.579471 -0.593381   0.0 -0.740262  1.444822 -0.265812   \n",
       "3   -0.416750 -0.579471 -1.306878   0.0 -0.835284  1.147817 -0.809889   \n",
       "4   -0.412482 -0.579471 -1.306878   0.0 -0.835284  1.384468 -0.511180   \n",
       "..        ...       ...       ...   ...       ...       ...       ...   \n",
       "501 -0.413229 -0.579471  0.115738   0.0  0.158124  0.504571  0.018673   \n",
       "502 -0.415249 -0.579471  0.115738   0.0  0.158124 -0.246676  0.288933   \n",
       "503 -0.413447 -0.579471  0.115738   0.0  0.158124  1.112875  0.797449   \n",
       "504 -0.407764 -0.579471  0.115738   0.0  0.158124  0.823812  0.736996   \n",
       "505 -0.415000 -0.579471  0.115738   0.0  0.158124 -0.389620  0.434732   \n",
       "\n",
       "          DIS       RAD       TAX   PTRATIO         B     LSTAT  MEDV  \\\n",
       "0    0.148015 -0.982843 -0.666608 -1.477181  0.441052 -1.088749  24.0   \n",
       "1    0.572202 -0.867883 -0.987329 -0.309941  0.441052 -0.495302  21.6   \n",
       "2    0.572202 -0.867883 -0.987329 -0.309941  0.396427 -1.224272  34.7   \n",
       "3    1.101820 -0.752922 -1.106115  0.110265  0.416163 -1.379766  33.4   \n",
       "4    1.101820 -0.752922 -1.106115  0.110265  0.441052 -1.038819  36.2   \n",
       "..        ...       ...       ...       ...       ...       ...   ...   \n",
       "501 -0.631298 -0.982843 -0.803212  1.184126  0.387217 -0.419694  22.4   \n",
       "502 -0.723719 -0.982843 -0.803212  1.184126  0.441052 -0.503861  20.6   \n",
       "503 -0.781754 -0.982843 -0.803212  1.184126  0.441052 -0.994596  23.9   \n",
       "504 -0.674679 -0.982843 -0.803212  1.184126  0.403225 -0.874765  22.0   \n",
       "505 -0.618530 -0.982843 -0.803212  1.184126  0.441052 -0.675048  11.9   \n",
       "\n",
       "     Hiearchical  \n",
       "0              0  \n",
       "1              0  \n",
       "2              0  \n",
       "3              0  \n",
       "4              0  \n",
       "..           ...  \n",
       "501            0  \n",
       "502            0  \n",
       "503            0  \n",
       "504            0  \n",
       "505            0  \n",
       "\n",
       "[506 rows x 15 columns]"
      ]
     },
     "execution_count": 105,
     "metadata": {},
     "output_type": "execute_result"
    }
   ],
   "source": [
    "ds"
   ]
  },
  {
   "cell_type": "code",
   "execution_count": 106,
   "id": "f1e79a26",
   "metadata": {},
   "outputs": [],
   "source": [
    "dum = pd.get_dummies(ds['Hiearchical'],drop_first=True,prefix=\"Hierarchical\")\n",
    "ds = pd.concat([ds.drop('Hiearchical',axis=1),dum],axis=1)"
   ]
  },
  {
   "cell_type": "code",
   "execution_count": 107,
   "id": "d3c6422a",
   "metadata": {},
   "outputs": [
    {
     "ename": "NameError",
     "evalue": "name 'df2' is not defined",
     "output_type": "error",
     "traceback": [
      "\u001b[1;31m---------------------------------------------------------------------------\u001b[0m",
      "\u001b[1;31mNameError\u001b[0m                                 Traceback (most recent call last)",
      "\u001b[1;32m<ipython-input-107-a883c4a9d8c5>\u001b[0m in \u001b[0;36m<module>\u001b[1;34m\u001b[0m\n\u001b[1;32m----> 1\u001b[1;33m \u001b[0mdf2\u001b[0m \u001b[1;33m=\u001b[0m \u001b[0mpd\u001b[0m\u001b[1;33m.\u001b[0m\u001b[0mconcat\u001b[0m\u001b[1;33m(\u001b[0m\u001b[1;33m[\u001b[0m\u001b[0mdf2\u001b[0m\u001b[1;33m,\u001b[0m\u001b[0mdum\u001b[0m\u001b[1;33m]\u001b[0m\u001b[1;33m,\u001b[0m\u001b[0maxis\u001b[0m\u001b[1;33m=\u001b[0m\u001b[1;36m1\u001b[0m\u001b[1;33m)\u001b[0m\u001b[1;33m\u001b[0m\u001b[1;33m\u001b[0m\u001b[0m\n\u001b[0m",
      "\u001b[1;31mNameError\u001b[0m: name 'df2' is not defined"
     ]
    }
   ],
   "source": [
    "df2 = pd.concat([df2,dum],axis=1)"
   ]
  },
  {
   "cell_type": "code",
   "execution_count": 177,
   "id": "877033ed",
   "metadata": {},
   "outputs": [
    {
     "data": {
      "text/html": [
       "<div>\n",
       "<style scoped>\n",
       "    .dataframe tbody tr th:only-of-type {\n",
       "        vertical-align: middle;\n",
       "    }\n",
       "\n",
       "    .dataframe tbody tr th {\n",
       "        vertical-align: top;\n",
       "    }\n",
       "\n",
       "    .dataframe thead th {\n",
       "        text-align: right;\n",
       "    }\n",
       "</style>\n",
       "<table border=\"1\" class=\"dataframe\">\n",
       "  <thead>\n",
       "    <tr style=\"text-align: right;\">\n",
       "      <th></th>\n",
       "      <th>CRIM</th>\n",
       "      <th>ZN</th>\n",
       "      <th>INDUS</th>\n",
       "      <th>CHAS</th>\n",
       "      <th>NOX</th>\n",
       "      <th>RM</th>\n",
       "      <th>AGE</th>\n",
       "      <th>DIS</th>\n",
       "      <th>RAD</th>\n",
       "      <th>TAX</th>\n",
       "      <th>PTRATIO</th>\n",
       "      <th>B</th>\n",
       "      <th>LSTAT</th>\n",
       "      <th>MEDV</th>\n",
       "      <th>K_means_1</th>\n",
       "      <th>K_means_2</th>\n",
       "      <th>Hierarchical_1</th>\n",
       "      <th>Hierarchical_2</th>\n",
       "    </tr>\n",
       "  </thead>\n",
       "  <tbody>\n",
       "    <tr>\n",
       "      <th>0</th>\n",
       "      <td>-0.419782</td>\n",
       "      <td>0.918420</td>\n",
       "      <td>-1.287909</td>\n",
       "      <td>0.0</td>\n",
       "      <td>-0.144217</td>\n",
       "      <td>0.475982</td>\n",
       "      <td>-0.120013</td>\n",
       "      <td>0.148015</td>\n",
       "      <td>-0.982843</td>\n",
       "      <td>-0.666608</td>\n",
       "      <td>-1.477181</td>\n",
       "      <td>0.441052</td>\n",
       "      <td>-1.088749</td>\n",
       "      <td>24.0</td>\n",
       "      <td>0</td>\n",
       "      <td>0</td>\n",
       "      <td>0</td>\n",
       "      <td>1</td>\n",
       "    </tr>\n",
       "    <tr>\n",
       "      <th>1</th>\n",
       "      <td>-0.417339</td>\n",
       "      <td>-0.579471</td>\n",
       "      <td>-0.593381</td>\n",
       "      <td>0.0</td>\n",
       "      <td>-0.740262</td>\n",
       "      <td>0.231390</td>\n",
       "      <td>0.367166</td>\n",
       "      <td>0.572202</td>\n",
       "      <td>-0.867883</td>\n",
       "      <td>-0.987329</td>\n",
       "      <td>-0.309941</td>\n",
       "      <td>0.441052</td>\n",
       "      <td>-0.495302</td>\n",
       "      <td>21.6</td>\n",
       "      <td>0</td>\n",
       "      <td>1</td>\n",
       "      <td>0</td>\n",
       "      <td>0</td>\n",
       "    </tr>\n",
       "    <tr>\n",
       "      <th>2</th>\n",
       "      <td>-0.417342</td>\n",
       "      <td>-0.579471</td>\n",
       "      <td>-0.593381</td>\n",
       "      <td>0.0</td>\n",
       "      <td>-0.740262</td>\n",
       "      <td>1.444822</td>\n",
       "      <td>-0.265812</td>\n",
       "      <td>0.572202</td>\n",
       "      <td>-0.867883</td>\n",
       "      <td>-0.987329</td>\n",
       "      <td>-0.309941</td>\n",
       "      <td>0.396427</td>\n",
       "      <td>-1.224272</td>\n",
       "      <td>34.7</td>\n",
       "      <td>0</td>\n",
       "      <td>0</td>\n",
       "      <td>0</td>\n",
       "      <td>0</td>\n",
       "    </tr>\n",
       "    <tr>\n",
       "      <th>3</th>\n",
       "      <td>-0.416750</td>\n",
       "      <td>-0.579471</td>\n",
       "      <td>-1.306878</td>\n",
       "      <td>0.0</td>\n",
       "      <td>-0.835284</td>\n",
       "      <td>1.147817</td>\n",
       "      <td>-0.809889</td>\n",
       "      <td>1.101820</td>\n",
       "      <td>-0.752922</td>\n",
       "      <td>-1.106115</td>\n",
       "      <td>0.110265</td>\n",
       "      <td>0.416163</td>\n",
       "      <td>-1.379766</td>\n",
       "      <td>33.4</td>\n",
       "      <td>0</td>\n",
       "      <td>0</td>\n",
       "      <td>0</td>\n",
       "      <td>0</td>\n",
       "    </tr>\n",
       "    <tr>\n",
       "      <th>4</th>\n",
       "      <td>-0.412482</td>\n",
       "      <td>-0.579471</td>\n",
       "      <td>-1.306878</td>\n",
       "      <td>0.0</td>\n",
       "      <td>-0.835284</td>\n",
       "      <td>1.384468</td>\n",
       "      <td>-0.511180</td>\n",
       "      <td>1.101820</td>\n",
       "      <td>-0.752922</td>\n",
       "      <td>-1.106115</td>\n",
       "      <td>0.110265</td>\n",
       "      <td>0.441052</td>\n",
       "      <td>-1.038819</td>\n",
       "      <td>36.2</td>\n",
       "      <td>0</td>\n",
       "      <td>0</td>\n",
       "      <td>0</td>\n",
       "      <td>0</td>\n",
       "    </tr>\n",
       "  </tbody>\n",
       "</table>\n",
       "</div>"
      ],
      "text/plain": [
       "       CRIM        ZN     INDUS  CHAS       NOX        RM       AGE       DIS  \\\n",
       "0 -0.419782  0.918420 -1.287909   0.0 -0.144217  0.475982 -0.120013  0.148015   \n",
       "1 -0.417339 -0.579471 -0.593381   0.0 -0.740262  0.231390  0.367166  0.572202   \n",
       "2 -0.417342 -0.579471 -0.593381   0.0 -0.740262  1.444822 -0.265812  0.572202   \n",
       "3 -0.416750 -0.579471 -1.306878   0.0 -0.835284  1.147817 -0.809889  1.101820   \n",
       "4 -0.412482 -0.579471 -1.306878   0.0 -0.835284  1.384468 -0.511180  1.101820   \n",
       "\n",
       "        RAD       TAX   PTRATIO         B     LSTAT  MEDV  K_means_1  \\\n",
       "0 -0.982843 -0.666608 -1.477181  0.441052 -1.088749  24.0          0   \n",
       "1 -0.867883 -0.987329 -0.309941  0.441052 -0.495302  21.6          0   \n",
       "2 -0.867883 -0.987329 -0.309941  0.396427 -1.224272  34.7          0   \n",
       "3 -0.752922 -1.106115  0.110265  0.416163 -1.379766  33.4          0   \n",
       "4 -0.752922 -1.106115  0.110265  0.441052 -1.038819  36.2          0   \n",
       "\n",
       "   K_means_2  Hierarchical_1  Hierarchical_2  \n",
       "0          0               0               1  \n",
       "1          1               0               0  \n",
       "2          0               0               0  \n",
       "3          0               0               0  \n",
       "4          0               0               0  "
      ]
     },
     "execution_count": 177,
     "metadata": {},
     "output_type": "execute_result"
    }
   ],
   "source": [
    "ds.head()"
   ]
  },
  {
   "cell_type": "code",
   "execution_count": 178,
   "id": "9dc2fb25",
   "metadata": {},
   "outputs": [
    {
     "data": {
      "text/html": [
       "<div>\n",
       "<style scoped>\n",
       "    .dataframe tbody tr th:only-of-type {\n",
       "        vertical-align: middle;\n",
       "    }\n",
       "\n",
       "    .dataframe tbody tr th {\n",
       "        vertical-align: top;\n",
       "    }\n",
       "\n",
       "    .dataframe thead th {\n",
       "        text-align: right;\n",
       "    }\n",
       "</style>\n",
       "<table border=\"1\" class=\"dataframe\">\n",
       "  <thead>\n",
       "    <tr style=\"text-align: right;\">\n",
       "      <th></th>\n",
       "      <th>CRIM</th>\n",
       "      <th>ZN</th>\n",
       "      <th>INDUS</th>\n",
       "      <th>CHAS</th>\n",
       "      <th>NOX</th>\n",
       "      <th>RM</th>\n",
       "      <th>AGE</th>\n",
       "      <th>DIS</th>\n",
       "      <th>RAD</th>\n",
       "      <th>TAX</th>\n",
       "      <th>PTRATIO</th>\n",
       "      <th>B</th>\n",
       "      <th>LSTAT</th>\n",
       "      <th>MEDV</th>\n",
       "      <th>K_means_1</th>\n",
       "      <th>K_means_2</th>\n",
       "      <th>Hierarchical_1</th>\n",
       "      <th>Hierarchical_2</th>\n",
       "    </tr>\n",
       "  </thead>\n",
       "  <tbody>\n",
       "    <tr>\n",
       "      <th>0</th>\n",
       "      <td>0.00632</td>\n",
       "      <td>18.0</td>\n",
       "      <td>2.31</td>\n",
       "      <td>0.0</td>\n",
       "      <td>0.538</td>\n",
       "      <td>6.575</td>\n",
       "      <td>65.2</td>\n",
       "      <td>4.0900</td>\n",
       "      <td>0.000000</td>\n",
       "      <td>1.807258</td>\n",
       "      <td>15.3</td>\n",
       "      <td>396.90</td>\n",
       "      <td>4.98</td>\n",
       "      <td>4.898979</td>\n",
       "      <td>0</td>\n",
       "      <td>0</td>\n",
       "      <td>0</td>\n",
       "      <td>1</td>\n",
       "    </tr>\n",
       "    <tr>\n",
       "      <th>1</th>\n",
       "      <td>0.02731</td>\n",
       "      <td>0.0</td>\n",
       "      <td>7.07</td>\n",
       "      <td>0.0</td>\n",
       "      <td>0.469</td>\n",
       "      <td>6.421</td>\n",
       "      <td>78.9</td>\n",
       "      <td>4.9671</td>\n",
       "      <td>0.660260</td>\n",
       "      <td>1.796577</td>\n",
       "      <td>17.8</td>\n",
       "      <td>396.90</td>\n",
       "      <td>9.14</td>\n",
       "      <td>4.647580</td>\n",
       "      <td>0</td>\n",
       "      <td>1</td>\n",
       "      <td>0</td>\n",
       "      <td>0</td>\n",
       "    </tr>\n",
       "    <tr>\n",
       "      <th>2</th>\n",
       "      <td>0.02729</td>\n",
       "      <td>0.0</td>\n",
       "      <td>7.07</td>\n",
       "      <td>0.0</td>\n",
       "      <td>0.469</td>\n",
       "      <td>7.185</td>\n",
       "      <td>61.1</td>\n",
       "      <td>4.9671</td>\n",
       "      <td>0.660260</td>\n",
       "      <td>1.796577</td>\n",
       "      <td>17.8</td>\n",
       "      <td>392.83</td>\n",
       "      <td>4.03</td>\n",
       "      <td>5.890671</td>\n",
       "      <td>0</td>\n",
       "      <td>0</td>\n",
       "      <td>0</td>\n",
       "      <td>0</td>\n",
       "    </tr>\n",
       "    <tr>\n",
       "      <th>3</th>\n",
       "      <td>0.03237</td>\n",
       "      <td>0.0</td>\n",
       "      <td>2.18</td>\n",
       "      <td>0.0</td>\n",
       "      <td>0.458</td>\n",
       "      <td>6.998</td>\n",
       "      <td>45.8</td>\n",
       "      <td>6.0622</td>\n",
       "      <td>1.017528</td>\n",
       "      <td>1.791645</td>\n",
       "      <td>18.7</td>\n",
       "      <td>394.63</td>\n",
       "      <td>2.94</td>\n",
       "      <td>5.779273</td>\n",
       "      <td>0</td>\n",
       "      <td>0</td>\n",
       "      <td>0</td>\n",
       "      <td>0</td>\n",
       "    </tr>\n",
       "    <tr>\n",
       "      <th>4</th>\n",
       "      <td>0.06905</td>\n",
       "      <td>0.0</td>\n",
       "      <td>2.18</td>\n",
       "      <td>0.0</td>\n",
       "      <td>0.458</td>\n",
       "      <td>7.147</td>\n",
       "      <td>54.2</td>\n",
       "      <td>6.0622</td>\n",
       "      <td>1.017528</td>\n",
       "      <td>1.791645</td>\n",
       "      <td>18.7</td>\n",
       "      <td>396.90</td>\n",
       "      <td>5.33</td>\n",
       "      <td>6.016644</td>\n",
       "      <td>0</td>\n",
       "      <td>0</td>\n",
       "      <td>0</td>\n",
       "      <td>0</td>\n",
       "    </tr>\n",
       "    <tr>\n",
       "      <th>...</th>\n",
       "      <td>...</td>\n",
       "      <td>...</td>\n",
       "      <td>...</td>\n",
       "      <td>...</td>\n",
       "      <td>...</td>\n",
       "      <td>...</td>\n",
       "      <td>...</td>\n",
       "      <td>...</td>\n",
       "      <td>...</td>\n",
       "      <td>...</td>\n",
       "      <td>...</td>\n",
       "      <td>...</td>\n",
       "      <td>...</td>\n",
       "      <td>...</td>\n",
       "      <td>...</td>\n",
       "      <td>...</td>\n",
       "      <td>...</td>\n",
       "      <td>...</td>\n",
       "    </tr>\n",
       "    <tr>\n",
       "      <th>501</th>\n",
       "      <td>0.06263</td>\n",
       "      <td>0.0</td>\n",
       "      <td>11.93</td>\n",
       "      <td>0.0</td>\n",
       "      <td>0.573</td>\n",
       "      <td>6.593</td>\n",
       "      <td>69.1</td>\n",
       "      <td>2.4786</td>\n",
       "      <td>0.000000</td>\n",
       "      <td>1.803104</td>\n",
       "      <td>21.0</td>\n",
       "      <td>391.99</td>\n",
       "      <td>9.67</td>\n",
       "      <td>4.732864</td>\n",
       "      <td>0</td>\n",
       "      <td>1</td>\n",
       "      <td>0</td>\n",
       "      <td>0</td>\n",
       "    </tr>\n",
       "    <tr>\n",
       "      <th>502</th>\n",
       "      <td>0.04527</td>\n",
       "      <td>0.0</td>\n",
       "      <td>11.93</td>\n",
       "      <td>0.0</td>\n",
       "      <td>0.573</td>\n",
       "      <td>6.120</td>\n",
       "      <td>76.7</td>\n",
       "      <td>2.2875</td>\n",
       "      <td>0.000000</td>\n",
       "      <td>1.803104</td>\n",
       "      <td>21.0</td>\n",
       "      <td>396.90</td>\n",
       "      <td>9.08</td>\n",
       "      <td>4.538722</td>\n",
       "      <td>0</td>\n",
       "      <td>1</td>\n",
       "      <td>0</td>\n",
       "      <td>0</td>\n",
       "    </tr>\n",
       "    <tr>\n",
       "      <th>503</th>\n",
       "      <td>0.06076</td>\n",
       "      <td>0.0</td>\n",
       "      <td>11.93</td>\n",
       "      <td>0.0</td>\n",
       "      <td>0.573</td>\n",
       "      <td>6.976</td>\n",
       "      <td>91.0</td>\n",
       "      <td>2.1675</td>\n",
       "      <td>0.000000</td>\n",
       "      <td>1.803104</td>\n",
       "      <td>21.0</td>\n",
       "      <td>396.90</td>\n",
       "      <td>5.64</td>\n",
       "      <td>4.888763</td>\n",
       "      <td>0</td>\n",
       "      <td>1</td>\n",
       "      <td>0</td>\n",
       "      <td>0</td>\n",
       "    </tr>\n",
       "    <tr>\n",
       "      <th>504</th>\n",
       "      <td>0.10959</td>\n",
       "      <td>0.0</td>\n",
       "      <td>11.93</td>\n",
       "      <td>0.0</td>\n",
       "      <td>0.573</td>\n",
       "      <td>6.794</td>\n",
       "      <td>89.3</td>\n",
       "      <td>2.3889</td>\n",
       "      <td>0.000000</td>\n",
       "      <td>1.803104</td>\n",
       "      <td>21.0</td>\n",
       "      <td>393.45</td>\n",
       "      <td>6.48</td>\n",
       "      <td>4.690416</td>\n",
       "      <td>0</td>\n",
       "      <td>1</td>\n",
       "      <td>0</td>\n",
       "      <td>0</td>\n",
       "    </tr>\n",
       "    <tr>\n",
       "      <th>505</th>\n",
       "      <td>0.04741</td>\n",
       "      <td>0.0</td>\n",
       "      <td>11.93</td>\n",
       "      <td>0.0</td>\n",
       "      <td>0.573</td>\n",
       "      <td>6.030</td>\n",
       "      <td>80.8</td>\n",
       "      <td>2.5050</td>\n",
       "      <td>0.000000</td>\n",
       "      <td>1.803104</td>\n",
       "      <td>21.0</td>\n",
       "      <td>396.90</td>\n",
       "      <td>7.88</td>\n",
       "      <td>3.449638</td>\n",
       "      <td>0</td>\n",
       "      <td>1</td>\n",
       "      <td>0</td>\n",
       "      <td>0</td>\n",
       "    </tr>\n",
       "  </tbody>\n",
       "</table>\n",
       "<p>506 rows × 18 columns</p>\n",
       "</div>"
      ],
      "text/plain": [
       "        CRIM    ZN  INDUS  CHAS    NOX     RM   AGE     DIS       RAD  \\\n",
       "0    0.00632  18.0   2.31   0.0  0.538  6.575  65.2  4.0900  0.000000   \n",
       "1    0.02731   0.0   7.07   0.0  0.469  6.421  78.9  4.9671  0.660260   \n",
       "2    0.02729   0.0   7.07   0.0  0.469  7.185  61.1  4.9671  0.660260   \n",
       "3    0.03237   0.0   2.18   0.0  0.458  6.998  45.8  6.0622  1.017528   \n",
       "4    0.06905   0.0   2.18   0.0  0.458  7.147  54.2  6.0622  1.017528   \n",
       "..       ...   ...    ...   ...    ...    ...   ...     ...       ...   \n",
       "501  0.06263   0.0  11.93   0.0  0.573  6.593  69.1  2.4786  0.000000   \n",
       "502  0.04527   0.0  11.93   0.0  0.573  6.120  76.7  2.2875  0.000000   \n",
       "503  0.06076   0.0  11.93   0.0  0.573  6.976  91.0  2.1675  0.000000   \n",
       "504  0.10959   0.0  11.93   0.0  0.573  6.794  89.3  2.3889  0.000000   \n",
       "505  0.04741   0.0  11.93   0.0  0.573  6.030  80.8  2.5050  0.000000   \n",
       "\n",
       "          TAX  PTRATIO       B  LSTAT      MEDV  K_means_1  K_means_2  \\\n",
       "0    1.807258     15.3  396.90   4.98  4.898979          0          0   \n",
       "1    1.796577     17.8  396.90   9.14  4.647580          0          1   \n",
       "2    1.796577     17.8  392.83   4.03  5.890671          0          0   \n",
       "3    1.791645     18.7  394.63   2.94  5.779273          0          0   \n",
       "4    1.791645     18.7  396.90   5.33  6.016644          0          0   \n",
       "..        ...      ...     ...    ...       ...        ...        ...   \n",
       "501  1.803104     21.0  391.99   9.67  4.732864          0          1   \n",
       "502  1.803104     21.0  396.90   9.08  4.538722          0          1   \n",
       "503  1.803104     21.0  396.90   5.64  4.888763          0          1   \n",
       "504  1.803104     21.0  393.45   6.48  4.690416          0          1   \n",
       "505  1.803104     21.0  396.90   7.88  3.449638          0          1   \n",
       "\n",
       "     Hierarchical_1  Hierarchical_2  \n",
       "0                 0               1  \n",
       "1                 0               0  \n",
       "2                 0               0  \n",
       "3                 0               0  \n",
       "4                 0               0  \n",
       "..              ...             ...  \n",
       "501               0               0  \n",
       "502               0               0  \n",
       "503               0               0  \n",
       "504               0               0  \n",
       "505               0               0  \n",
       "\n",
       "[506 rows x 18 columns]"
      ]
     },
     "execution_count": 178,
     "metadata": {},
     "output_type": "execute_result"
    }
   ],
   "source": [
    "df2"
   ]
  },
  {
   "cell_type": "code",
   "execution_count": 179,
   "id": "56e2727c",
   "metadata": {},
   "outputs": [],
   "source": [
    "X = df2.drop(\"MEDV\", axis = 1)\n",
    "y = df2[\"MEDV\"]"
   ]
  },
  {
   "cell_type": "code",
   "execution_count": 180,
   "id": "71419b78",
   "metadata": {},
   "outputs": [],
   "source": [
    "sc2 = StandardScaler()"
   ]
  },
  {
   "cell_type": "code",
   "execution_count": 181,
   "id": "551e1e32",
   "metadata": {},
   "outputs": [],
   "source": [
    "Xs2 = sc2.fit_transform(X)"
   ]
  },
  {
   "cell_type": "code",
   "execution_count": 184,
   "id": "e5829b4b",
   "metadata": {},
   "outputs": [
    {
     "data": {
      "text/html": [
       "<div>\n",
       "<style scoped>\n",
       "    .dataframe tbody tr th:only-of-type {\n",
       "        vertical-align: middle;\n",
       "    }\n",
       "\n",
       "    .dataframe tbody tr th {\n",
       "        vertical-align: top;\n",
       "    }\n",
       "\n",
       "    .dataframe thead th {\n",
       "        text-align: right;\n",
       "    }\n",
       "</style>\n",
       "<table border=\"1\" class=\"dataframe\">\n",
       "  <thead>\n",
       "    <tr style=\"text-align: right;\">\n",
       "      <th></th>\n",
       "      <th>r2_scores</th>\n",
       "      <th>MAE_scores</th>\n",
       "      <th>MSE_scores</th>\n",
       "      <th>RMSE</th>\n",
       "    </tr>\n",
       "  </thead>\n",
       "  <tbody>\n",
       "    <tr>\n",
       "      <th>0</th>\n",
       "      <td>0.761548</td>\n",
       "      <td>2.948848</td>\n",
       "      <td>17.936823</td>\n",
       "      <td>4.235189</td>\n",
       "    </tr>\n",
       "    <tr>\n",
       "      <th>1</th>\n",
       "      <td>0.754678</td>\n",
       "      <td>3.288859</td>\n",
       "      <td>23.370682</td>\n",
       "      <td>4.834323</td>\n",
       "    </tr>\n",
       "    <tr>\n",
       "      <th>2</th>\n",
       "      <td>0.764274</td>\n",
       "      <td>3.127063</td>\n",
       "      <td>19.161416</td>\n",
       "      <td>4.377375</td>\n",
       "    </tr>\n",
       "  </tbody>\n",
       "</table>\n",
       "</div>"
      ],
      "text/plain": [
       "   r2_scores  MAE_scores  MSE_scores      RMSE\n",
       "0   0.761548    2.948848   17.936823  4.235189\n",
       "1   0.754678    3.288859   23.370682  4.834323\n",
       "2   0.764274    3.127063   19.161416  4.377375"
      ]
     },
     "execution_count": 184,
     "metadata": {},
     "output_type": "execute_result"
    }
   ],
   "source": [
    "scorer(linear_regressor,Xs2,y)"
   ]
  },
  {
   "cell_type": "code",
   "execution_count": 185,
   "id": "4a16dfca",
   "metadata": {},
   "outputs": [
    {
     "data": {
      "text/html": [
       "<div>\n",
       "<style scoped>\n",
       "    .dataframe tbody tr th:only-of-type {\n",
       "        vertical-align: middle;\n",
       "    }\n",
       "\n",
       "    .dataframe tbody tr th {\n",
       "        vertical-align: top;\n",
       "    }\n",
       "\n",
       "    .dataframe thead th {\n",
       "        text-align: right;\n",
       "    }\n",
       "</style>\n",
       "<table border=\"1\" class=\"dataframe\">\n",
       "  <thead>\n",
       "    <tr style=\"text-align: right;\">\n",
       "      <th></th>\n",
       "      <th>r2_scores</th>\n",
       "      <th>MAE_scores</th>\n",
       "      <th>MSE_scores</th>\n",
       "      <th>RMSE</th>\n",
       "    </tr>\n",
       "  </thead>\n",
       "  <tbody>\n",
       "    <tr>\n",
       "      <th>0</th>\n",
       "      <td>0.762409</td>\n",
       "      <td>2.937938</td>\n",
       "      <td>17.872067</td>\n",
       "      <td>4.227537</td>\n",
       "    </tr>\n",
       "    <tr>\n",
       "      <th>1</th>\n",
       "      <td>0.754887</td>\n",
       "      <td>3.276908</td>\n",
       "      <td>23.350719</td>\n",
       "      <td>4.832258</td>\n",
       "    </tr>\n",
       "    <tr>\n",
       "      <th>2</th>\n",
       "      <td>0.764184</td>\n",
       "      <td>3.123019</td>\n",
       "      <td>19.168760</td>\n",
       "      <td>4.378214</td>\n",
       "    </tr>\n",
       "  </tbody>\n",
       "</table>\n",
       "</div>"
      ],
      "text/plain": [
       "   r2_scores  MAE_scores  MSE_scores      RMSE\n",
       "0   0.762409    2.937938   17.872067  4.227537\n",
       "1   0.754887    3.276908   23.350719  4.832258\n",
       "2   0.764184    3.123019   19.168760  4.378214"
      ]
     },
     "execution_count": 185,
     "metadata": {},
     "output_type": "execute_result"
    }
   ],
   "source": [
    "scorer(lassoCV,Xs2,y)"
   ]
  },
  {
   "cell_type": "code",
   "execution_count": 186,
   "id": "6d978002",
   "metadata": {},
   "outputs": [
    {
     "data": {
      "text/html": [
       "<div>\n",
       "<style scoped>\n",
       "    .dataframe tbody tr th:only-of-type {\n",
       "        vertical-align: middle;\n",
       "    }\n",
       "\n",
       "    .dataframe tbody tr th {\n",
       "        vertical-align: top;\n",
       "    }\n",
       "\n",
       "    .dataframe thead th {\n",
       "        text-align: right;\n",
       "    }\n",
       "</style>\n",
       "<table border=\"1\" class=\"dataframe\">\n",
       "  <thead>\n",
       "    <tr style=\"text-align: right;\">\n",
       "      <th></th>\n",
       "      <th>r2_scores</th>\n",
       "      <th>MAE_scores</th>\n",
       "      <th>MSE_scores</th>\n",
       "      <th>RMSE</th>\n",
       "    </tr>\n",
       "  </thead>\n",
       "  <tbody>\n",
       "    <tr>\n",
       "      <th>0</th>\n",
       "      <td>0.733979</td>\n",
       "      <td>2.948814</td>\n",
       "      <td>20.010594</td>\n",
       "      <td>4.473320</td>\n",
       "    </tr>\n",
       "    <tr>\n",
       "      <th>1</th>\n",
       "      <td>0.738136</td>\n",
       "      <td>3.228214</td>\n",
       "      <td>24.946534</td>\n",
       "      <td>4.994651</td>\n",
       "    </tr>\n",
       "    <tr>\n",
       "      <th>2</th>\n",
       "      <td>0.764361</td>\n",
       "      <td>3.121519</td>\n",
       "      <td>19.154407</td>\n",
       "      <td>4.376575</td>\n",
       "    </tr>\n",
       "  </tbody>\n",
       "</table>\n",
       "</div>"
      ],
      "text/plain": [
       "   r2_scores  MAE_scores  MSE_scores      RMSE\n",
       "0   0.733979    2.948814   20.010594  4.473320\n",
       "1   0.738136    3.228214   24.946534  4.994651\n",
       "2   0.764361    3.121519   19.154407  4.376575"
      ]
     },
     "execution_count": 186,
     "metadata": {},
     "output_type": "execute_result"
    }
   ],
   "source": [
    "scorer(ridgeCV,Xs2,y)"
   ]
  },
  {
   "cell_type": "code",
   "execution_count": 187,
   "id": "f2b7fa5c",
   "metadata": {},
   "outputs": [
    {
     "data": {
      "text/html": [
       "<div>\n",
       "<style scoped>\n",
       "    .dataframe tbody tr th:only-of-type {\n",
       "        vertical-align: middle;\n",
       "    }\n",
       "\n",
       "    .dataframe tbody tr th {\n",
       "        vertical-align: top;\n",
       "    }\n",
       "\n",
       "    .dataframe thead th {\n",
       "        text-align: right;\n",
       "    }\n",
       "</style>\n",
       "<table border=\"1\" class=\"dataframe\">\n",
       "  <thead>\n",
       "    <tr style=\"text-align: right;\">\n",
       "      <th></th>\n",
       "      <th>r2_scores</th>\n",
       "      <th>MAE_scores</th>\n",
       "      <th>MSE_scores</th>\n",
       "      <th>RMSE</th>\n",
       "    </tr>\n",
       "  </thead>\n",
       "  <tbody>\n",
       "    <tr>\n",
       "      <th>0</th>\n",
       "      <td>0.690867</td>\n",
       "      <td>3.060947</td>\n",
       "      <td>23.253550</td>\n",
       "      <td>4.822194</td>\n",
       "    </tr>\n",
       "    <tr>\n",
       "      <th>1</th>\n",
       "      <td>0.763410</td>\n",
       "      <td>3.171598</td>\n",
       "      <td>22.538817</td>\n",
       "      <td>4.747506</td>\n",
       "    </tr>\n",
       "    <tr>\n",
       "      <th>2</th>\n",
       "      <td>0.814148</td>\n",
       "      <td>2.806548</td>\n",
       "      <td>15.107321</td>\n",
       "      <td>3.886814</td>\n",
       "    </tr>\n",
       "  </tbody>\n",
       "</table>\n",
       "</div>"
      ],
      "text/plain": [
       "   r2_scores  MAE_scores  MSE_scores      RMSE\n",
       "0   0.690867    3.060947   23.253550  4.822194\n",
       "1   0.763410    3.171598   22.538817  4.747506\n",
       "2   0.814148    2.806548   15.107321  3.886814"
      ]
     },
     "execution_count": 187,
     "metadata": {},
     "output_type": "execute_result"
    }
   ],
   "source": [
    "scorer(dt,Xs2,y)"
   ]
  },
  {
   "cell_type": "code",
   "execution_count": 188,
   "id": "d92297dc",
   "metadata": {},
   "outputs": [
    {
     "data": {
      "text/html": [
       "<div>\n",
       "<style scoped>\n",
       "    .dataframe tbody tr th:only-of-type {\n",
       "        vertical-align: middle;\n",
       "    }\n",
       "\n",
       "    .dataframe tbody tr th {\n",
       "        vertical-align: top;\n",
       "    }\n",
       "\n",
       "    .dataframe thead th {\n",
       "        text-align: right;\n",
       "    }\n",
       "</style>\n",
       "<table border=\"1\" class=\"dataframe\">\n",
       "  <thead>\n",
       "    <tr style=\"text-align: right;\">\n",
       "      <th></th>\n",
       "      <th>r2_scores</th>\n",
       "      <th>MAE_scores</th>\n",
       "      <th>MSE_scores</th>\n",
       "      <th>RMSE</th>\n",
       "    </tr>\n",
       "  </thead>\n",
       "  <tbody>\n",
       "    <tr>\n",
       "      <th>0</th>\n",
       "      <td>0.864843</td>\n",
       "      <td>2.134750</td>\n",
       "      <td>10.166795</td>\n",
       "      <td>3.188541</td>\n",
       "    </tr>\n",
       "    <tr>\n",
       "      <th>1</th>\n",
       "      <td>0.832980</td>\n",
       "      <td>2.509107</td>\n",
       "      <td>15.911200</td>\n",
       "      <td>3.988885</td>\n",
       "    </tr>\n",
       "    <tr>\n",
       "      <th>2</th>\n",
       "      <td>0.882444</td>\n",
       "      <td>2.210457</td>\n",
       "      <td>9.555798</td>\n",
       "      <td>3.091245</td>\n",
       "    </tr>\n",
       "  </tbody>\n",
       "</table>\n",
       "</div>"
      ],
      "text/plain": [
       "   r2_scores  MAE_scores  MSE_scores      RMSE\n",
       "0   0.864843    2.134750   10.166795  3.188541\n",
       "1   0.832980    2.509107   15.911200  3.988885\n",
       "2   0.882444    2.210457    9.555798  3.091245"
      ]
     },
     "execution_count": 188,
     "metadata": {},
     "output_type": "execute_result"
    }
   ],
   "source": [
    "scorer(rf,Xs2,y)"
   ]
  },
  {
   "cell_type": "code",
   "execution_count": 189,
   "id": "90d818ed",
   "metadata": {},
   "outputs": [
    {
     "data": {
      "text/html": [
       "<div>\n",
       "<style scoped>\n",
       "    .dataframe tbody tr th:only-of-type {\n",
       "        vertical-align: middle;\n",
       "    }\n",
       "\n",
       "    .dataframe tbody tr th {\n",
       "        vertical-align: top;\n",
       "    }\n",
       "\n",
       "    .dataframe thead th {\n",
       "        text-align: right;\n",
       "    }\n",
       "</style>\n",
       "<table border=\"1\" class=\"dataframe\">\n",
       "  <thead>\n",
       "    <tr style=\"text-align: right;\">\n",
       "      <th></th>\n",
       "      <th>r2_scores</th>\n",
       "      <th>MAE_scores</th>\n",
       "      <th>MSE_scores</th>\n",
       "      <th>RMSE</th>\n",
       "    </tr>\n",
       "  </thead>\n",
       "  <tbody>\n",
       "    <tr>\n",
       "      <th>0</th>\n",
       "      <td>0.875672</td>\n",
       "      <td>2.117349</td>\n",
       "      <td>9.352206</td>\n",
       "      <td>3.058138</td>\n",
       "    </tr>\n",
       "    <tr>\n",
       "      <th>1</th>\n",
       "      <td>0.806102</td>\n",
       "      <td>2.726298</td>\n",
       "      <td>18.471756</td>\n",
       "      <td>4.297878</td>\n",
       "    </tr>\n",
       "    <tr>\n",
       "      <th>2</th>\n",
       "      <td>0.890527</td>\n",
       "      <td>2.108841</td>\n",
       "      <td>8.898746</td>\n",
       "      <td>2.983077</td>\n",
       "    </tr>\n",
       "  </tbody>\n",
       "</table>\n",
       "</div>"
      ],
      "text/plain": [
       "   r2_scores  MAE_scores  MSE_scores      RMSE\n",
       "0   0.875672    2.117349    9.352206  3.058138\n",
       "1   0.806102    2.726298   18.471756  4.297878\n",
       "2   0.890527    2.108841    8.898746  2.983077"
      ]
     },
     "execution_count": 189,
     "metadata": {},
     "output_type": "execute_result"
    }
   ],
   "source": [
    "scorer(xgb,Xs2,y)"
   ]
  },
  {
   "cell_type": "code",
   "execution_count": 190,
   "id": "408a8bf0",
   "metadata": {},
   "outputs": [
    {
     "data": {
      "text/html": [
       "<div>\n",
       "<style scoped>\n",
       "    .dataframe tbody tr th:only-of-type {\n",
       "        vertical-align: middle;\n",
       "    }\n",
       "\n",
       "    .dataframe tbody tr th {\n",
       "        vertical-align: top;\n",
       "    }\n",
       "\n",
       "    .dataframe thead th {\n",
       "        text-align: right;\n",
       "    }\n",
       "</style>\n",
       "<table border=\"1\" class=\"dataframe\">\n",
       "  <thead>\n",
       "    <tr style=\"text-align: right;\">\n",
       "      <th></th>\n",
       "      <th>r2_scores</th>\n",
       "      <th>MAE_scores</th>\n",
       "      <th>MSE_scores</th>\n",
       "      <th>RMSE</th>\n",
       "    </tr>\n",
       "  </thead>\n",
       "  <tbody>\n",
       "    <tr>\n",
       "      <th>0</th>\n",
       "      <td>0.867636</td>\n",
       "      <td>2.157918</td>\n",
       "      <td>9.956677</td>\n",
       "      <td>3.155420</td>\n",
       "    </tr>\n",
       "    <tr>\n",
       "      <th>1</th>\n",
       "      <td>0.874091</td>\n",
       "      <td>2.270791</td>\n",
       "      <td>11.994793</td>\n",
       "      <td>3.463350</td>\n",
       "    </tr>\n",
       "    <tr>\n",
       "      <th>2</th>\n",
       "      <td>0.899628</td>\n",
       "      <td>2.104888</td>\n",
       "      <td>8.158920</td>\n",
       "      <td>2.856382</td>\n",
       "    </tr>\n",
       "  </tbody>\n",
       "</table>\n",
       "</div>"
      ],
      "text/plain": [
       "   r2_scores  MAE_scores  MSE_scores      RMSE\n",
       "0   0.867636    2.157918    9.956677  3.155420\n",
       "1   0.874091    2.270791   11.994793  3.463350\n",
       "2   0.899628    2.104888    8.158920  2.856382"
      ]
     },
     "execution_count": 190,
     "metadata": {},
     "output_type": "execute_result"
    }
   ],
   "source": [
    "scorer(gb,Xs2,y)"
   ]
  },
  {
   "cell_type": "code",
   "execution_count": 191,
   "id": "0865a414",
   "metadata": {},
   "outputs": [],
   "source": [
    "feature_imp = pd.Series(rf.feature_importances_,X.columns).sort_values(ascending=False)"
   ]
  },
  {
   "cell_type": "code",
   "execution_count": 193,
   "id": "a14338ff",
   "metadata": {},
   "outputs": [
    {
     "data": {
      "text/plain": [
       "LSTAT             0.581287\n",
       "RM                0.199945\n",
       "CRIM              0.062961\n",
       "NOX               0.045205\n",
       "DIS               0.037743\n",
       "TAX               0.017922\n",
       "B                 0.014790\n",
       "AGE               0.013140\n",
       "PTRATIO           0.011351\n",
       "INDUS             0.008447\n",
       "RAD               0.002742\n",
       "K_means_1         0.001627\n",
       "CHAS              0.000848\n",
       "Hierarchical_1    0.000719\n",
       "K_means_2         0.000622\n",
       "ZN                0.000505\n",
       "Hierarchical_2    0.000143\n",
       "dtype: float64"
      ]
     },
     "execution_count": 193,
     "metadata": {},
     "output_type": "execute_result"
    }
   ],
   "source": [
    "feature_imp"
   ]
  },
  {
   "cell_type": "code",
   "execution_count": 194,
   "id": "d1ceb9b8",
   "metadata": {},
   "outputs": [
    {
     "data": {
      "text/plain": [
       "array([6.29609417e-02, 5.04909758e-04, 8.44736482e-03, 8.48495827e-04,\n",
       "       4.52053993e-02, 1.99945187e-01, 1.31404412e-02, 3.77425149e-02,\n",
       "       2.74218540e-03, 1.79224504e-02, 1.13514343e-02, 1.47903995e-02,\n",
       "       5.81287494e-01, 1.62657784e-03, 6.22170585e-04, 7.19284298e-04,\n",
       "       1.42749858e-04])"
      ]
     },
     "execution_count": 194,
     "metadata": {},
     "output_type": "execute_result"
    }
   ],
   "source": [
    "rf.feature_importances_"
   ]
  },
  {
   "cell_type": "code",
   "execution_count": 195,
   "id": "9a9db095",
   "metadata": {},
   "outputs": [
    {
     "data": {
      "text/plain": [
       "<AxesSubplot:>"
      ]
     },
     "execution_count": 195,
     "metadata": {},
     "output_type": "execute_result"
    },
    {
     "data": {
      "image/png": "[encoded data removed]",
      "text/plain": [
       "<Figure size 1152x864 with 2 Axes>"
      ]
     },
     "metadata": {
      "needs_background": "light"
     },
     "output_type": "display_data"
    }
   ],
   "source": [
    "plt.figure(figsize=(16,12))\n",
    "sns.heatmap(df.corr(),annot=True)"
   ]
  },
  {
   "cell_type": "code",
   "execution_count": null,
   "id": "778f6d75",
   "metadata": {},
   "outputs": [],
   "source": []
  },
  {
   "cell_type": "code",
   "execution_count": null,
   "id": "0b885ae5",
   "metadata": {},
   "outputs": [],
   "source": []
  },
  {
   "cell_type": "markdown",
   "id": "d229244b",
   "metadata": {},
   "source": [
    "# Feature Selection"
   ]
  },
  {
   "cell_type": "code",
   "execution_count": 196,
   "id": "98a2d5e8",
   "metadata": {},
   "outputs": [],
   "source": [
    "sc3 = StandardScaler()\n",
    "X = df2.drop(\"MEDV\", axis = 1)"
   ]
  },
  {
   "cell_type": "code",
   "execution_count": 197,
   "id": "a95bce03",
   "metadata": {},
   "outputs": [],
   "source": [
    "X_trans = sc3.fit_transform(X)"
   ]
  },
  {
   "cell_type": "code",
   "execution_count": 198,
   "id": "a803e2b0",
   "metadata": {},
   "outputs": [],
   "source": [
    "from sklearn.feature_selection import SelectKBest\n",
    "from sklearn.feature_selection import mutual_info_regression"
   ]
  },
  {
   "cell_type": "code",
   "execution_count": 199,
   "id": "f4b8eb64",
   "metadata": {},
   "outputs": [],
   "source": [
    "def select_features(X_train, y_train, X_test):\n",
    "    # configure to select all features\n",
    "    fs = SelectKBest(score_func=mutual_info_regression, k='all')\n",
    "    # learn relationship from training data\n",
    "    fs.fit(X_train, y_train)\n",
    "    # transform train input data\n",
    "    X_train_fs = fs.transform(X_train)\n",
    "    # transform test input data\n",
    "    X_test_fs = fs.transform(X_test)\n",
    "    return X_train_fs, X_test_fs, fs"
   ]
  },
  {
   "cell_type": "code",
   "execution_count": 200,
   "id": "8b127639",
   "metadata": {},
   "outputs": [],
   "source": [
    "kf2 = KFold(n_splits=3, random_state=42, shuffle=True)"
   ]
  },
  {
   "cell_type": "code",
   "execution_count": 201,
   "id": "76779b77",
   "metadata": {},
   "outputs": [
    {
     "name": "stdout",
     "output_type": "stream",
     "text": [
      "Feature 0: 0.327394\n",
      "Feature 1: 0.140530\n",
      "Feature 2: 0.460816\n",
      "Feature 3: 0.042563\n",
      "Feature 4: 0.404547\n",
      "Feature 5: 0.530711\n",
      "Feature 6: 0.282332\n",
      "Feature 7: 0.277690\n",
      "Feature 8: 0.238200\n",
      "Feature 9: 0.362601\n",
      "Feature 10: 0.469641\n",
      "Feature 11: 0.132400\n",
      "Feature 12: 0.749765\n",
      "Feature 13: 0.228603\n",
      "Feature 14: 0.040466\n",
      "Feature 15: 0.198610\n",
      "Feature 16: 0.090960\n"
     ]
    },
    {
     "data": {
      "image/png": "[encoded data removed]",
      "text/plain": [
       "<Figure size 432x288 with 1 Axes>"
      ]
     },
     "metadata": {
      "needs_background": "light"
     },
     "output_type": "display_data"
    },
    {
     "name": "stdout",
     "output_type": "stream",
     "text": [
      "Feature 0: 0.285141\n",
      "Feature 1: 0.151541\n",
      "Feature 2: 0.422025\n",
      "Feature 3: 0.000000\n",
      "Feature 4: 0.326983\n",
      "Feature 5: 0.443649\n",
      "Feature 6: 0.380847\n",
      "Feature 7: 0.276869\n",
      "Feature 8: 0.183071\n",
      "Feature 9: 0.308231\n",
      "Feature 10: 0.370643\n",
      "Feature 11: 0.118888\n",
      "Feature 12: 0.656041\n",
      "Feature 13: 0.180907\n",
      "Feature 14: 0.052369\n",
      "Feature 15: 0.169275\n",
      "Feature 16: 0.102603\n"
     ]
    },
    {
     "data": {
      "image/png": "[encoded data removed]",
      "text/plain": [
       "<Figure size 432x288 with 1 Axes>"
      ]
     },
     "metadata": {
      "needs_background": "light"
     },
     "output_type": "display_data"
    },
    {
     "name": "stdout",
     "output_type": "stream",
     "text": [
      "Feature 0: 0.373316\n",
      "Feature 1: 0.142402\n",
      "Feature 2: 0.445610\n",
      "Feature 3: 0.025401\n",
      "Feature 4: 0.505846\n",
      "Feature 5: 0.590398\n",
      "Feature 6: 0.257350\n",
      "Feature 7: 0.304844\n",
      "Feature 8: 0.249746\n",
      "Feature 9: 0.360559\n",
      "Feature 10: 0.466863\n",
      "Feature 11: 0.158283\n",
      "Feature 12: 0.696343\n",
      "Feature 13: 0.213366\n",
      "Feature 14: 0.061080\n",
      "Feature 15: 0.184563\n",
      "Feature 16: 0.100750\n"
     ]
    },
    {
     "data": {
      "image/png": "[encoded data removed]",
      "text/plain": [
       "<Figure size 432x288 with 1 Axes>"
      ]
     },
     "metadata": {
      "needs_background": "light"
     },
     "output_type": "display_data"
    }
   ],
   "source": [
    "for train, test in kf2.split(X_trans):\n",
    "    X_train_fs, X_test_fs, fs = select_features(X_trans[train], y[train], X_trans[test])\n",
    "    for i in range(len(fs.scores_)):\n",
    "        print('Feature %d: %f' % (i, fs.scores_[i]))\n",
    "    # plot the scores\n",
    "    plt.bar([i for i in range(len(fs.scores_))], fs.scores_)\n",
    "    plt.show()"
   ]
  },
  {
   "cell_type": "code",
   "execution_count": null,
   "id": "5bc1b62f",
   "metadata": {},
   "outputs": [],
   "source": []
  },
  {
   "cell_type": "code",
   "execution_count": 202,
   "id": "b6a6c81b",
   "metadata": {},
   "outputs": [
    {
     "data": {
      "text/html": [
       "<div>\n",
       "<style scoped>\n",
       "    .dataframe tbody tr th:only-of-type {\n",
       "        vertical-align: middle;\n",
       "    }\n",
       "\n",
       "    .dataframe tbody tr th {\n",
       "        vertical-align: top;\n",
       "    }\n",
       "\n",
       "    .dataframe thead th {\n",
       "        text-align: right;\n",
       "    }\n",
       "</style>\n",
       "<table border=\"1\" class=\"dataframe\">\n",
       "  <thead>\n",
       "    <tr style=\"text-align: right;\">\n",
       "      <th></th>\n",
       "      <th>CRIM</th>\n",
       "      <th>ZN</th>\n",
       "      <th>INDUS</th>\n",
       "      <th>CHAS</th>\n",
       "      <th>NOX</th>\n",
       "      <th>RM</th>\n",
       "      <th>AGE</th>\n",
       "      <th>DIS</th>\n",
       "      <th>RAD</th>\n",
       "      <th>TAX</th>\n",
       "      <th>PTRATIO</th>\n",
       "      <th>B</th>\n",
       "      <th>LSTAT</th>\n",
       "      <th>MEDV</th>\n",
       "      <th>K_means_1</th>\n",
       "      <th>K_means_2</th>\n",
       "      <th>Hierarchical_1</th>\n",
       "      <th>Hierarchical_2</th>\n",
       "    </tr>\n",
       "  </thead>\n",
       "  <tbody>\n",
       "    <tr>\n",
       "      <th>0</th>\n",
       "      <td>0.00632</td>\n",
       "      <td>18.0</td>\n",
       "      <td>2.31</td>\n",
       "      <td>0.0</td>\n",
       "      <td>0.538</td>\n",
       "      <td>6.575</td>\n",
       "      <td>65.2</td>\n",
       "      <td>4.0900</td>\n",
       "      <td>0.000000</td>\n",
       "      <td>1.807258</td>\n",
       "      <td>15.3</td>\n",
       "      <td>396.90</td>\n",
       "      <td>4.98</td>\n",
       "      <td>4.898979</td>\n",
       "      <td>0</td>\n",
       "      <td>0</td>\n",
       "      <td>0</td>\n",
       "      <td>1</td>\n",
       "    </tr>\n",
       "    <tr>\n",
       "      <th>1</th>\n",
       "      <td>0.02731</td>\n",
       "      <td>0.0</td>\n",
       "      <td>7.07</td>\n",
       "      <td>0.0</td>\n",
       "      <td>0.469</td>\n",
       "      <td>6.421</td>\n",
       "      <td>78.9</td>\n",
       "      <td>4.9671</td>\n",
       "      <td>0.660260</td>\n",
       "      <td>1.796577</td>\n",
       "      <td>17.8</td>\n",
       "      <td>396.90</td>\n",
       "      <td>9.14</td>\n",
       "      <td>4.647580</td>\n",
       "      <td>0</td>\n",
       "      <td>1</td>\n",
       "      <td>0</td>\n",
       "      <td>0</td>\n",
       "    </tr>\n",
       "    <tr>\n",
       "      <th>2</th>\n",
       "      <td>0.02729</td>\n",
       "      <td>0.0</td>\n",
       "      <td>7.07</td>\n",
       "      <td>0.0</td>\n",
       "      <td>0.469</td>\n",
       "      <td>7.185</td>\n",
       "      <td>61.1</td>\n",
       "      <td>4.9671</td>\n",
       "      <td>0.660260</td>\n",
       "      <td>1.796577</td>\n",
       "      <td>17.8</td>\n",
       "      <td>392.83</td>\n",
       "      <td>4.03</td>\n",
       "      <td>5.890671</td>\n",
       "      <td>0</td>\n",
       "      <td>0</td>\n",
       "      <td>0</td>\n",
       "      <td>0</td>\n",
       "    </tr>\n",
       "    <tr>\n",
       "      <th>3</th>\n",
       "      <td>0.03237</td>\n",
       "      <td>0.0</td>\n",
       "      <td>2.18</td>\n",
       "      <td>0.0</td>\n",
       "      <td>0.458</td>\n",
       "      <td>6.998</td>\n",
       "      <td>45.8</td>\n",
       "      <td>6.0622</td>\n",
       "      <td>1.017528</td>\n",
       "      <td>1.791645</td>\n",
       "      <td>18.7</td>\n",
       "      <td>394.63</td>\n",
       "      <td>2.94</td>\n",
       "      <td>5.779273</td>\n",
       "      <td>0</td>\n",
       "      <td>0</td>\n",
       "      <td>0</td>\n",
       "      <td>0</td>\n",
       "    </tr>\n",
       "    <tr>\n",
       "      <th>4</th>\n",
       "      <td>0.06905</td>\n",
       "      <td>0.0</td>\n",
       "      <td>2.18</td>\n",
       "      <td>0.0</td>\n",
       "      <td>0.458</td>\n",
       "      <td>7.147</td>\n",
       "      <td>54.2</td>\n",
       "      <td>6.0622</td>\n",
       "      <td>1.017528</td>\n",
       "      <td>1.791645</td>\n",
       "      <td>18.7</td>\n",
       "      <td>396.90</td>\n",
       "      <td>5.33</td>\n",
       "      <td>6.016644</td>\n",
       "      <td>0</td>\n",
       "      <td>0</td>\n",
       "      <td>0</td>\n",
       "      <td>0</td>\n",
       "    </tr>\n",
       "  </tbody>\n",
       "</table>\n",
       "</div>"
      ],
      "text/plain": [
       "      CRIM    ZN  INDUS  CHAS    NOX     RM   AGE     DIS       RAD       TAX  \\\n",
       "0  0.00632  18.0   2.31   0.0  0.538  6.575  65.2  4.0900  0.000000  1.807258   \n",
       "1  0.02731   0.0   7.07   0.0  0.469  6.421  78.9  4.9671  0.660260  1.796577   \n",
       "2  0.02729   0.0   7.07   0.0  0.469  7.185  61.1  4.9671  0.660260  1.796577   \n",
       "3  0.03237   0.0   2.18   0.0  0.458  6.998  45.8  6.0622  1.017528  1.791645   \n",
       "4  0.06905   0.0   2.18   0.0  0.458  7.147  54.2  6.0622  1.017528  1.791645   \n",
       "\n",
       "   PTRATIO       B  LSTAT      MEDV  K_means_1  K_means_2  Hierarchical_1  \\\n",
       "0     15.3  396.90   4.98  4.898979          0          0               0   \n",
       "1     17.8  396.90   9.14  4.647580          0          1               0   \n",
       "2     17.8  392.83   4.03  5.890671          0          0               0   \n",
       "3     18.7  394.63   2.94  5.779273          0          0               0   \n",
       "4     18.7  396.90   5.33  6.016644          0          0               0   \n",
       "\n",
       "   Hierarchical_2  \n",
       "0               1  \n",
       "1               0  \n",
       "2               0  \n",
       "3               0  \n",
       "4               0  "
      ]
     },
     "execution_count": 202,
     "metadata": {},
     "output_type": "execute_result"
    }
   ],
   "source": [
    "df2.head()"
   ]
  },
  {
   "cell_type": "code",
   "execution_count": 203,
   "id": "b99f7fed",
   "metadata": {},
   "outputs": [],
   "source": [
    "from sklearn.decomposition import PCA"
   ]
  },
  {
   "cell_type": "code",
   "execution_count": 204,
   "id": "e2842dc3",
   "metadata": {},
   "outputs": [],
   "source": [
    "pca2 = PCA(n_components=5,random_state = 0)"
   ]
  },
  {
   "cell_type": "code",
   "execution_count": 205,
   "id": "f0f3e930",
   "metadata": {},
   "outputs": [
    {
     "data": {
      "text/plain": [
       "PCA(n_components=5, random_state=0)"
      ]
     },
     "execution_count": 205,
     "metadata": {},
     "output_type": "execute_result"
    }
   ],
   "source": [
    "pca2.fit(X_trans)"
   ]
  },
  {
   "cell_type": "code",
   "execution_count": 206,
   "id": "d0dc49e4",
   "metadata": {},
   "outputs": [
    {
     "data": {
      "text/plain": [
       "array([0.46180116, 0.1588908 , 0.07683118, 0.0549729 , 0.05228146])"
      ]
     },
     "execution_count": 206,
     "metadata": {},
     "output_type": "execute_result"
    }
   ],
   "source": [
    "pca2.explained_variance_ratio_"
   ]
  },
  {
   "cell_type": "code",
   "execution_count": 207,
   "id": "cb94dfa5",
   "metadata": {},
   "outputs": [],
   "source": [
    "Xpca = pca.fit_transform(X_trans)"
   ]
  },
  {
   "cell_type": "code",
   "execution_count": 208,
   "id": "f8551a3a",
   "metadata": {},
   "outputs": [
    {
     "data": {
      "text/html": [
       "<div>\n",
       "<style scoped>\n",
       "    .dataframe tbody tr th:only-of-type {\n",
       "        vertical-align: middle;\n",
       "    }\n",
       "\n",
       "    .dataframe tbody tr th {\n",
       "        vertical-align: top;\n",
       "    }\n",
       "\n",
       "    .dataframe thead th {\n",
       "        text-align: right;\n",
       "    }\n",
       "</style>\n",
       "<table border=\"1\" class=\"dataframe\">\n",
       "  <thead>\n",
       "    <tr style=\"text-align: right;\">\n",
       "      <th></th>\n",
       "      <th>r2_scores</th>\n",
       "      <th>MAE_scores</th>\n",
       "      <th>MSE_scores</th>\n",
       "      <th>RMSE</th>\n",
       "    </tr>\n",
       "  </thead>\n",
       "  <tbody>\n",
       "    <tr>\n",
       "      <th>0</th>\n",
       "      <td>0.711093</td>\n",
       "      <td>2.966558</td>\n",
       "      <td>21.732116</td>\n",
       "      <td>4.661772</td>\n",
       "    </tr>\n",
       "    <tr>\n",
       "      <th>1</th>\n",
       "      <td>0.651897</td>\n",
       "      <td>3.761417</td>\n",
       "      <td>33.162149</td>\n",
       "      <td>5.758659</td>\n",
       "    </tr>\n",
       "    <tr>\n",
       "      <th>2</th>\n",
       "      <td>0.722796</td>\n",
       "      <td>3.206491</td>\n",
       "      <td>22.533076</td>\n",
       "      <td>4.746902</td>\n",
       "    </tr>\n",
       "  </tbody>\n",
       "</table>\n",
       "</div>"
      ],
      "text/plain": [
       "   r2_scores  MAE_scores  MSE_scores      RMSE\n",
       "0   0.711093    2.966558   21.732116  4.661772\n",
       "1   0.651897    3.761417   33.162149  5.758659\n",
       "2   0.722796    3.206491   22.533076  4.746902"
      ]
     },
     "execution_count": 208,
     "metadata": {},
     "output_type": "execute_result"
    }
   ],
   "source": [
    "scorer(gb, Xpca, df2.MEDV)"
   ]
  },
  {
   "cell_type": "code",
   "execution_count": 209,
   "id": "d341cf31",
   "metadata": {},
   "outputs": [],
   "source": [
    "selected_features = [\"CRIM\", \"INDUS\", \"RM\",\"DIS\", \"AGE\", \"TAX\", \"PTRATIO\", \"LSTAT\"]"
   ]
  },
  {
   "cell_type": "code",
   "execution_count": 210,
   "id": "da11cd8f",
   "metadata": {},
   "outputs": [
    {
     "data": {
      "text/plain": [
       "<AxesSubplot:>"
      ]
     },
     "execution_count": 210,
     "metadata": {},
     "output_type": "execute_result"
    },
    {
     "data": {
      "image/png": "[encoded data removed]",
      "text/plain": [
       "<Figure size 432x288 with 2 Axes>"
      ]
     },
     "metadata": {
      "needs_background": "light"
     },
     "output_type": "display_data"
    }
   ],
   "source": [
    "sns.heatmap(df[selected_features].corr(), annot = True)"
   ]
  },
  {
   "cell_type": "code",
   "execution_count": 211,
   "id": "d5ef1f4b",
   "metadata": {},
   "outputs": [],
   "source": [
    "selected_X = df2[selected_features].values"
   ]
  },
  {
   "cell_type": "code",
   "execution_count": 212,
   "id": "04e64784",
   "metadata": {},
   "outputs": [
    {
     "data": {
      "text/plain": [
       "array([[6.32000000e-03, 2.31000000e+00, 6.57500000e+00, ...,\n",
       "        1.80725765e+00, 1.53000000e+01, 4.98000000e+00],\n",
       "       [2.73100000e-02, 7.07000000e+00, 6.42100000e+00, ...,\n",
       "        1.79657673e+00, 1.78000000e+01, 9.14000000e+00],\n",
       "       [2.72900000e-02, 7.07000000e+00, 7.18500000e+00, ...,\n",
       "        1.79657673e+00, 1.78000000e+01, 4.03000000e+00],\n",
       "       ...,\n",
       "       [6.07600000e-02, 1.19300000e+01, 6.97600000e+00, ...,\n",
       "        1.80310371e+00, 2.10000000e+01, 5.64000000e+00],\n",
       "       [1.09590000e-01, 1.19300000e+01, 6.79400000e+00, ...,\n",
       "        1.80310371e+00, 2.10000000e+01, 6.48000000e+00],\n",
       "       [4.74100000e-02, 1.19300000e+01, 6.03000000e+00, ...,\n",
       "        1.80310371e+00, 2.10000000e+01, 7.88000000e+00]])"
      ]
     },
     "execution_count": 212,
     "metadata": {},
     "output_type": "execute_result"
    }
   ],
   "source": [
    "selected_X"
   ]
  },
  {
   "cell_type": "code",
   "execution_count": 213,
   "id": "76e3ce9d",
   "metadata": {},
   "outputs": [
    {
     "data": {
      "text/html": [
       "<div>\n",
       "<style scoped>\n",
       "    .dataframe tbody tr th:only-of-type {\n",
       "        vertical-align: middle;\n",
       "    }\n",
       "\n",
       "    .dataframe tbody tr th {\n",
       "        vertical-align: top;\n",
       "    }\n",
       "\n",
       "    .dataframe thead th {\n",
       "        text-align: right;\n",
       "    }\n",
       "</style>\n",
       "<table border=\"1\" class=\"dataframe\">\n",
       "  <thead>\n",
       "    <tr style=\"text-align: right;\">\n",
       "      <th></th>\n",
       "      <th>r2_scores</th>\n",
       "      <th>MAE_scores</th>\n",
       "      <th>MSE_scores</th>\n",
       "      <th>RMSE</th>\n",
       "    </tr>\n",
       "  </thead>\n",
       "  <tbody>\n",
       "    <tr>\n",
       "      <th>0</th>\n",
       "      <td>0.739223</td>\n",
       "      <td>3.031365</td>\n",
       "      <td>19.616161</td>\n",
       "      <td>4.429014</td>\n",
       "    </tr>\n",
       "    <tr>\n",
       "      <th>1</th>\n",
       "      <td>0.717001</td>\n",
       "      <td>3.388632</td>\n",
       "      <td>26.959954</td>\n",
       "      <td>5.192298</td>\n",
       "    </tr>\n",
       "    <tr>\n",
       "      <th>2</th>\n",
       "      <td>0.740955</td>\n",
       "      <td>3.190554</td>\n",
       "      <td>21.056999</td>\n",
       "      <td>4.588791</td>\n",
       "    </tr>\n",
       "  </tbody>\n",
       "</table>\n",
       "</div>"
      ],
      "text/plain": [
       "   r2_scores  MAE_scores  MSE_scores      RMSE\n",
       "0   0.739223    3.031365   19.616161  4.429014\n",
       "1   0.717001    3.388632   26.959954  5.192298\n",
       "2   0.740955    3.190554   21.056999  4.588791"
      ]
     },
     "execution_count": 213,
     "metadata": {},
     "output_type": "execute_result"
    }
   ],
   "source": [
    "scorer(linear_regressor, selected_X, y)"
   ]
  },
  {
   "cell_type": "code",
   "execution_count": 214,
   "id": "9e84c85f",
   "metadata": {},
   "outputs": [
    {
     "data": {
      "text/html": [
       "<div>\n",
       "<style scoped>\n",
       "    .dataframe tbody tr th:only-of-type {\n",
       "        vertical-align: middle;\n",
       "    }\n",
       "\n",
       "    .dataframe tbody tr th {\n",
       "        vertical-align: top;\n",
       "    }\n",
       "\n",
       "    .dataframe thead th {\n",
       "        text-align: right;\n",
       "    }\n",
       "</style>\n",
       "<table border=\"1\" class=\"dataframe\">\n",
       "  <thead>\n",
       "    <tr style=\"text-align: right;\">\n",
       "      <th></th>\n",
       "      <th>r2_scores</th>\n",
       "      <th>MAE_scores</th>\n",
       "      <th>MSE_scores</th>\n",
       "      <th>RMSE</th>\n",
       "    </tr>\n",
       "  </thead>\n",
       "  <tbody>\n",
       "    <tr>\n",
       "      <th>0</th>\n",
       "      <td>0.732895</td>\n",
       "      <td>3.079975</td>\n",
       "      <td>20.092115</td>\n",
       "      <td>4.482423</td>\n",
       "    </tr>\n",
       "    <tr>\n",
       "      <th>1</th>\n",
       "      <td>0.716994</td>\n",
       "      <td>3.389900</td>\n",
       "      <td>26.960648</td>\n",
       "      <td>5.192364</td>\n",
       "    </tr>\n",
       "    <tr>\n",
       "      <th>2</th>\n",
       "      <td>0.742439</td>\n",
       "      <td>3.180818</td>\n",
       "      <td>20.936378</td>\n",
       "      <td>4.575629</td>\n",
       "    </tr>\n",
       "  </tbody>\n",
       "</table>\n",
       "</div>"
      ],
      "text/plain": [
       "   r2_scores  MAE_scores  MSE_scores      RMSE\n",
       "0   0.732895    3.079975   20.092115  4.482423\n",
       "1   0.716994    3.389900   26.960648  5.192364\n",
       "2   0.742439    3.180818   20.936378  4.575629"
      ]
     },
     "execution_count": 214,
     "metadata": {},
     "output_type": "execute_result"
    }
   ],
   "source": [
    "scorer(lassoCV, selected_X, y)"
   ]
  },
  {
   "cell_type": "code",
   "execution_count": 215,
   "id": "dde05408",
   "metadata": {},
   "outputs": [
    {
     "data": {
      "text/html": [
       "<div>\n",
       "<style scoped>\n",
       "    .dataframe tbody tr th:only-of-type {\n",
       "        vertical-align: middle;\n",
       "    }\n",
       "\n",
       "    .dataframe tbody tr th {\n",
       "        vertical-align: top;\n",
       "    }\n",
       "\n",
       "    .dataframe thead th {\n",
       "        text-align: right;\n",
       "    }\n",
       "</style>\n",
       "<table border=\"1\" class=\"dataframe\">\n",
       "  <thead>\n",
       "    <tr style=\"text-align: right;\">\n",
       "      <th></th>\n",
       "      <th>r2_scores</th>\n",
       "      <th>MAE_scores</th>\n",
       "      <th>MSE_scores</th>\n",
       "      <th>RMSE</th>\n",
       "    </tr>\n",
       "  </thead>\n",
       "  <tbody>\n",
       "    <tr>\n",
       "      <th>0</th>\n",
       "      <td>0.851531</td>\n",
       "      <td>2.279007</td>\n",
       "      <td>11.168117</td>\n",
       "      <td>3.341873</td>\n",
       "    </tr>\n",
       "    <tr>\n",
       "      <th>1</th>\n",
       "      <td>0.855874</td>\n",
       "      <td>2.569759</td>\n",
       "      <td>13.730182</td>\n",
       "      <td>3.705426</td>\n",
       "    </tr>\n",
       "    <tr>\n",
       "      <th>2</th>\n",
       "      <td>0.891885</td>\n",
       "      <td>2.191258</td>\n",
       "      <td>8.788351</td>\n",
       "      <td>2.964515</td>\n",
       "    </tr>\n",
       "  </tbody>\n",
       "</table>\n",
       "</div>"
      ],
      "text/plain": [
       "   r2_scores  MAE_scores  MSE_scores      RMSE\n",
       "0   0.851531    2.279007   11.168117  3.341873\n",
       "1   0.855874    2.569759   13.730182  3.705426\n",
       "2   0.891885    2.191258    8.788351  2.964515"
      ]
     },
     "execution_count": 215,
     "metadata": {},
     "output_type": "execute_result"
    }
   ],
   "source": [
    "scorer(gb, selected_X, y)"
   ]
  },
  {
   "cell_type": "code",
   "execution_count": 216,
   "id": "7b88250c",
   "metadata": {},
   "outputs": [
    {
     "data": {
      "text/html": [
       "<div>\n",
       "<style scoped>\n",
       "    .dataframe tbody tr th:only-of-type {\n",
       "        vertical-align: middle;\n",
       "    }\n",
       "\n",
       "    .dataframe tbody tr th {\n",
       "        vertical-align: top;\n",
       "    }\n",
       "\n",
       "    .dataframe thead th {\n",
       "        text-align: right;\n",
       "    }\n",
       "</style>\n",
       "<table border=\"1\" class=\"dataframe\">\n",
       "  <thead>\n",
       "    <tr style=\"text-align: right;\">\n",
       "      <th></th>\n",
       "      <th>r2_scores</th>\n",
       "      <th>MAE_scores</th>\n",
       "      <th>MSE_scores</th>\n",
       "      <th>RMSE</th>\n",
       "    </tr>\n",
       "  </thead>\n",
       "  <tbody>\n",
       "    <tr>\n",
       "      <th>0</th>\n",
       "      <td>0.849072</td>\n",
       "      <td>2.281049</td>\n",
       "      <td>11.353054</td>\n",
       "      <td>3.369429</td>\n",
       "    </tr>\n",
       "    <tr>\n",
       "      <th>1</th>\n",
       "      <td>0.778643</td>\n",
       "      <td>2.831775</td>\n",
       "      <td>21.087637</td>\n",
       "      <td>4.592128</td>\n",
       "    </tr>\n",
       "    <tr>\n",
       "      <th>2</th>\n",
       "      <td>0.891739</td>\n",
       "      <td>2.206797</td>\n",
       "      <td>8.800211</td>\n",
       "      <td>2.966515</td>\n",
       "    </tr>\n",
       "  </tbody>\n",
       "</table>\n",
       "</div>"
      ],
      "text/plain": [
       "   r2_scores  MAE_scores  MSE_scores      RMSE\n",
       "0   0.849072    2.281049   11.353054  3.369429\n",
       "1   0.778643    2.831775   21.087637  4.592128\n",
       "2   0.891739    2.206797    8.800211  2.966515"
      ]
     },
     "execution_count": 216,
     "metadata": {},
     "output_type": "execute_result"
    }
   ],
   "source": [
    "scorer(xgb, selected_X, y)"
   ]
  },
  {
   "cell_type": "code",
   "execution_count": 217,
   "id": "8dd2fe2b",
   "metadata": {},
   "outputs": [
    {
     "data": {
      "text/html": [
       "<div>\n",
       "<style scoped>\n",
       "    .dataframe tbody tr th:only-of-type {\n",
       "        vertical-align: middle;\n",
       "    }\n",
       "\n",
       "    .dataframe tbody tr th {\n",
       "        vertical-align: top;\n",
       "    }\n",
       "\n",
       "    .dataframe thead th {\n",
       "        text-align: right;\n",
       "    }\n",
       "</style>\n",
       "<table border=\"1\" class=\"dataframe\">\n",
       "  <thead>\n",
       "    <tr style=\"text-align: right;\">\n",
       "      <th></th>\n",
       "      <th>r2_scores</th>\n",
       "      <th>MAE_scores</th>\n",
       "      <th>MSE_scores</th>\n",
       "      <th>RMSE</th>\n",
       "    </tr>\n",
       "  </thead>\n",
       "  <tbody>\n",
       "    <tr>\n",
       "      <th>0</th>\n",
       "      <td>0.846035</td>\n",
       "      <td>2.254699</td>\n",
       "      <td>11.581564</td>\n",
       "      <td>3.403170</td>\n",
       "    </tr>\n",
       "    <tr>\n",
       "      <th>1</th>\n",
       "      <td>0.828042</td>\n",
       "      <td>2.588001</td>\n",
       "      <td>16.381634</td>\n",
       "      <td>4.047423</td>\n",
       "    </tr>\n",
       "    <tr>\n",
       "      <th>2</th>\n",
       "      <td>0.873498</td>\n",
       "      <td>2.312233</td>\n",
       "      <td>10.282978</td>\n",
       "      <td>3.206708</td>\n",
       "    </tr>\n",
       "  </tbody>\n",
       "</table>\n",
       "</div>"
      ],
      "text/plain": [
       "   r2_scores  MAE_scores  MSE_scores      RMSE\n",
       "0   0.846035    2.254699   11.581564  3.403170\n",
       "1   0.828042    2.588001   16.381634  4.047423\n",
       "2   0.873498    2.312233   10.282978  3.206708"
      ]
     },
     "execution_count": 217,
     "metadata": {},
     "output_type": "execute_result"
    }
   ],
   "source": [
    "scorer(rf, selected_X, y)"
   ]
  },
  {
   "cell_type": "code",
   "execution_count": null,
   "id": "a8694bc6",
   "metadata": {},
   "outputs": [],
   "source": []
  },
  {
   "cell_type": "markdown",
   "id": "36126c70",
   "metadata": {},
   "source": [
    "## Hyper parameter tuning"
   ]
  },
  {
   "cell_type": "code",
   "execution_count": 219,
   "id": "1a96775e",
   "metadata": {},
   "outputs": [],
   "source": [
    "from sklearn.model_selection import GridSearchCV"
   ]
  },
  {
   "cell_type": "code",
   "execution_count": 220,
   "id": "11d28262",
   "metadata": {},
   "outputs": [],
   "source": [
    "par = {\n",
    "    'n_estimators':[500,600,800,1000],\n",
    "    'min_samples_split':range(2,10),\n",
    "    'max_depth' : [3,4,5,6,7,8]\n",
    "}"
   ]
  },
  {
   "cell_type": "code",
   "execution_count": 221,
   "id": "405d6ada",
   "metadata": {},
   "outputs": [],
   "source": [
    "gb = GradientBoostingRegressor()"
   ]
  },
  {
   "cell_type": "code",
   "execution_count": 222,
   "id": "9ad07977",
   "metadata": {},
   "outputs": [],
   "source": [
    "gb = GradientBoostingRegressor(max_depth=4,min_samples_split=6 ,n_estimators=800,random_state=3)"
   ]
  },
  {
   "cell_type": "code",
   "execution_count": 223,
   "id": "3efedec0",
   "metadata": {},
   "outputs": [],
   "source": [
    "reg = GridSearchCV(gb,param_grid=par,n_jobs=-1)"
   ]
  },
  {
   "cell_type": "code",
   "execution_count": 224,
   "id": "0cff3d6c",
   "metadata": {},
   "outputs": [
    {
     "data": {
      "text/html": [
       "<div>\n",
       "<style scoped>\n",
       "    .dataframe tbody tr th:only-of-type {\n",
       "        vertical-align: middle;\n",
       "    }\n",
       "\n",
       "    .dataframe tbody tr th {\n",
       "        vertical-align: top;\n",
       "    }\n",
       "\n",
       "    .dataframe thead th {\n",
       "        text-align: right;\n",
       "    }\n",
       "</style>\n",
       "<table border=\"1\" class=\"dataframe\">\n",
       "  <thead>\n",
       "    <tr style=\"text-align: right;\">\n",
       "      <th></th>\n",
       "      <th>r2_scores</th>\n",
       "      <th>MAE_scores</th>\n",
       "      <th>MSE_scores</th>\n",
       "      <th>RMSE</th>\n",
       "    </tr>\n",
       "  </thead>\n",
       "  <tbody>\n",
       "    <tr>\n",
       "      <th>0</th>\n",
       "      <td>0.878349</td>\n",
       "      <td>2.089113</td>\n",
       "      <td>9.150831</td>\n",
       "      <td>3.025034</td>\n",
       "    </tr>\n",
       "    <tr>\n",
       "      <th>1</th>\n",
       "      <td>0.866313</td>\n",
       "      <td>2.371404</td>\n",
       "      <td>12.735735</td>\n",
       "      <td>3.568716</td>\n",
       "    </tr>\n",
       "    <tr>\n",
       "      <th>2</th>\n",
       "      <td>0.910757</td>\n",
       "      <td>2.051018</td>\n",
       "      <td>7.254290</td>\n",
       "      <td>2.693379</td>\n",
       "    </tr>\n",
       "  </tbody>\n",
       "</table>\n",
       "</div>"
      ],
      "text/plain": [
       "   r2_scores  MAE_scores  MSE_scores      RMSE\n",
       "0   0.878349    2.089113    9.150831  3.025034\n",
       "1   0.866313    2.371404   12.735735  3.568716\n",
       "2   0.910757    2.051018    7.254290  2.693379"
      ]
     },
     "execution_count": 224,
     "metadata": {},
     "output_type": "execute_result"
    }
   ],
   "source": [
    "scorer(gb,Xs,y)"
   ]
  },
  {
   "cell_type": "code",
   "execution_count": 225,
   "id": "503f16ff",
   "metadata": {},
   "outputs": [],
   "source": [
    "from sklearn.model_selection import train_test_split\n",
    "X_train,X_test,y_train,y_test = train_test_split(Xs1,y,test_size=0.2)"
   ]
  },
  {
   "cell_type": "code",
   "execution_count": null,
   "id": "b7b82a81",
   "metadata": {},
   "outputs": [],
   "source": [
    "reg.fit(X_train,y_train)"
   ]
  },
  {
   "cell_type": "code",
   "execution_count": 1203,
   "id": "e48502a3",
   "metadata": {},
   "outputs": [
    {
     "data": {
      "text/plain": [
       "{'max_depth': 4, 'min_samples_split': 6, 'n_estimators': 800}"
      ]
     },
     "execution_count": 1203,
     "metadata": {},
     "output_type": "execute_result"
    }
   ],
   "source": [
    "reg.best_params_"
   ]
  },
  {
   "cell_type": "code",
   "execution_count": null,
   "id": "01b0257e",
   "metadata": {},
   "outputs": [],
   "source": []
  },
  {
   "cell_type": "code",
   "execution_count": 264,
   "id": "d5325b7d",
   "metadata": {},
   "outputs": [],
   "source": [
    "# create a list of base-models\n",
    "def get_models():\n",
    "    models = list()\n",
    "    models.append(LGBMRegressor())\n",
    "    models.append(XGBRegressor())\n",
    "    models.append(RandomForestRegressor(n_estimators=800))\n",
    "    models.append(GradientBoostingRegressor(max_depth=4, min_impurity_split=6, n_estimators=800, random_state=3))\n",
    "    models.append(DecisionTreeRegressor())\n",
    "    return models"
   ]
  },
  {
   "cell_type": "code",
   "execution_count": 265,
   "id": "8266cc45",
   "metadata": {},
   "outputs": [],
   "source": [
    "\n",
    "def get_out_of_fold_predictions(X, y, models):\n",
    "    meta_X, meta_y = list(), list()\n",
    "    kfold = KFold(n_splits=3, shuffle=True)\n",
    "    for train_ix, test_ix in kfold.split(X):\n",
    "        fold_yhats = list()\n",
    "        train_X, test_X = X.iloc[train_ix], X.iloc[test_ix]\n",
    "        train_y, test_y = y.iloc[train_ix], y.iloc[test_ix]\n",
    "        meta_y.extend(test_y)\n",
    "        for model in models:\n",
    "            model.fit(train_X, train_y)\n",
    "            yhat = model.predict(test_X)\n",
    "            fold_yhats.append(yhat.reshape(len(yhat),1))\n",
    "        meta_X.append(hstack(fold_yhats))\n",
    "    return vstack(meta_X), asarray(meta_y)"
   ]
  },
  {
   "cell_type": "code",
   "execution_count": 266,
   "id": "58b0ddba",
   "metadata": {},
   "outputs": [],
   "source": [
    "def fit_base_models(X, y, models):\n",
    "    for model in models:\n",
    "        model.fit(X, y)"
   ]
  },
  {
   "cell_type": "code",
   "execution_count": 312,
   "id": "3b91651b",
   "metadata": {},
   "outputs": [],
   "source": [
    "def fit_meta_model(X, y):\n",
    "    model = GradientBoostingRegressor(random_state=3)\n",
    "    model.fit(X, y)\n",
    "    return model\n"
   ]
  },
  {
   "cell_type": "code",
   "execution_count": 313,
   "id": "f3d573f6",
   "metadata": {},
   "outputs": [],
   "source": [
    "def evaluate_models(X, y, models):\n",
    "    for model in models:\n",
    "        yhat = model.predict(X)\n",
    "        mse = mean_squared_error(y, yhat)"
   ]
  },
  {
   "cell_type": "code",
   "execution_count": 314,
   "id": "5beca4ac",
   "metadata": {},
   "outputs": [],
   "source": [
    "def super_learner_predictions(X, models, meta_model):\n",
    "    meta_X = list()\n",
    "    for model in models:\n",
    "        yhat = model.predict(X)\n",
    "        meta_X.append(yhat.reshape(len(yhat),1))\n",
    "    meta_X = hstack(meta_X)\n",
    "    # predict\n",
    "    return meta_model.predict(meta_X)"
   ]
  },
  {
   "cell_type": "code",
   "execution_count": 315,
   "id": "7f95b5c1",
   "metadata": {},
   "outputs": [],
   "source": [
    "import sklearn"
   ]
  },
  {
   "cell_type": "code",
   "execution_count": 316,
   "id": "32d5e57f",
   "metadata": {},
   "outputs": [
    {
     "data": {
      "text/plain": [
       "'0.24.1'"
      ]
     },
     "execution_count": 316,
     "metadata": {},
     "output_type": "execute_result"
    }
   ],
   "source": [
    "sklearn.__version__"
   ]
  },
  {
   "cell_type": "code",
   "execution_count": 317,
   "id": "bd145f3c",
   "metadata": {},
   "outputs": [],
   "source": [
    "from sklearn.model_selection import train_test_split\n",
    "from math import sqrt\n",
    "from numpy import hstack\n",
    "from numpy import vstack\n",
    "from numpy import asarray\n",
    "\n",
    "X_train, X_test, y_train, y_test = train_test_split(df2.drop(\"MEDV\", axis=1), df2[\"MEDV\"], test_size=0.2, random_state = 42)\n",
    "models = get_models()\n",
    "meta_X, meta_y = get_out_of_fold_predictions(X_train, y_train, models)\n",
    "fit_base_models(X_train, y_train, models)\n",
    "meta_model = fit_meta_model(meta_X, meta_y)\n",
    "evaluate_models(X_test, y_test, models)\n",
    "y_pred = super_learner_predictions(X_test, models, meta_model)"
   ]
  },
  {
   "cell_type": "code",
   "execution_count": 318,
   "id": "20622fa0",
   "metadata": {},
   "outputs": [
    {
     "name": "stdout",
     "output_type": "stream",
     "text": [
      "0.8489034553715189\n",
      "0.22524701629923505\n",
      "0.10595602800493377\n",
      "0.32550887546261126\n"
     ]
    }
   ],
   "source": [
    "print(r2_score(y_pred, y_test))\n",
    "print(mean_absolute_error(y_pred, y_test))\n",
    "print(mean_squared_error(y_pred, y_test))\n",
    "print(np.sqrt(mean_squared_error(y_pred, y_test)))"
   ]
  },
  {
   "cell_type": "code",
   "execution_count": null,
   "id": "b71c4002",
   "metadata": {},
   "outputs": [],
   "source": []
  },
  {
   "cell_type": "code",
   "execution_count": null,
   "id": "ce144834",
   "metadata": {},
   "outputs": [],
   "source": []
  }
 ],
 "metadata": {
  "kernelspec": {
   "display_name": "Python 3 (ipykernel)",
   "language": "python",
   "name": "python3"
  },
  "language_info": {
   "codemirror_mode": {
    "name": "ipython",
    "version": 3
   },
   "file_extension": ".py",
   "mimetype": "text/x-python",
   "name": "python",
   "nbconvert_exporter": "python",
   "pygments_lexer": "ipython3",
   "version": "3.9.7"
  }
 },
 "nbformat": 4,
 "nbformat_minor": 5
}
